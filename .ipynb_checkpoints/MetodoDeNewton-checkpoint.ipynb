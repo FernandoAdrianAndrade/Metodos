{
 "cells": [
  {
   "cell_type": "markdown",
   "id": "broadband-arlington",
   "metadata": {},
   "source": [
    "# Método de Newton para sistemas de ecuaciones no lineales.\n",
    "\n",
    "## Andrade Vidal Fernando Adrian\n",
    "\n",
    "### ¿Qué es el metodo de Newton?\n",
    "\n",
    "El metodo de Newton es util para encontrar soluciones de ecuaciones en sistemas lineales o no lineales, se diferencia del metodo del punto fijo ya que es más rapido su convergencia.\n",
    "\n",
    "#### Características:\n",
    "\n",
    "+ Es necesario que las funciones sean continuas en el intervalo de su solución.\n",
    "+ Este metodo se desarrolla apartir de las series de Taylor.\n",
    "\n",
    "El presente cuadernillo proporcionara paso a paso la solución de un sistema de ecuaciones no lineales, aunque puede ser modificado para acoplarlo a tus necesidades."
   ]
  },
  {
   "cell_type": "code",
   "execution_count": 2,
   "id": "complete-running",
   "metadata": {},
   "outputs": [],
   "source": [
    "from sympy import * #Usaremos SymPy para computo simbólico.\n",
    "\n",
    "import pandas as pd #Usaremos Pandas para crear y manejar data frames donde registraremos los datos.\n",
    "\n",
    "import IPython.display as disp #Usaremos el display para visualizar ecuaciones."
   ]
  },
  {
   "cell_type": "markdown",
   "id": "fifth-fence",
   "metadata": {},
   "source": [
    "Estableceremos 3 variables aunque se pueden añadir màs en esta declaración de variables."
   ]
  },
  {
   "cell_type": "code",
   "execution_count": 23,
   "id": "adaptive-adventure",
   "metadata": {},
   "outputs": [
    {
     "name": "stdout",
     "output_type": "stream",
     "text": [
      "Esta es la primer ecuación original: \n",
      "\n"
     ]
    },
    {
     "data": {
      "text/latex": [
       "$\\displaystyle x^{2} + y - 37$"
      ],
      "text/plain": [
       "x**2 + y - 37"
      ]
     },
     "metadata": {},
     "output_type": "display_data"
    },
    {
     "name": "stdout",
     "output_type": "stream",
     "text": [
      "\n",
      "\n",
      "Esta es la segunda ecuación original: \n",
      "\n"
     ]
    },
    {
     "data": {
      "text/latex": [
       "$\\displaystyle x - y^{2} - 5$"
      ],
      "text/plain": [
       "x - y**2 - 5"
      ]
     },
     "metadata": {},
     "output_type": "display_data"
    },
    {
     "name": "stdout",
     "output_type": "stream",
     "text": [
      "\n",
      "\n",
      "Esta es la tercer ecuación original: \n",
      "\n"
     ]
    },
    {
     "data": {
      "text/latex": [
       "$\\displaystyle x + y + z - 3$"
      ],
      "text/plain": [
       "x + y + z - 3"
      ]
     },
     "metadata": {},
     "output_type": "display_data"
    },
    {
     "name": "stdout",
     "output_type": "stream",
     "text": [
      "\n",
      "\n",
      "Esta es la matrix de nuestras ecuaciones: \n",
      "\n"
     ]
    },
    {
     "data": {
      "text/latex": [
       "$\\displaystyle \\left[\\begin{matrix}x^{2} + y - 37\\\\x - y^{2} - 5\\\\x + y + z - 3\\end{matrix}\\right]$"
      ],
      "text/plain": [
       "Matrix([\n",
       "[x**2 + y - 37],\n",
       "[ x - y**2 - 5],\n",
       "[x + y + z - 3]])"
      ]
     },
     "metadata": {},
     "output_type": "display_data"
    }
   ],
   "source": [
    "#Declaramos los simbolos que usaremos para las ecuaciónes.\n",
    "\n",
    "x,y,z = symbols('x y z')\n",
    "\n",
    "#Estamos insertando las funciones con las que trabajaremos, notar que puede haber simplificaciones.\n",
    "\n",
    "funcion_original_1 = x**2+y-37\n",
    "funcion_original_2 = x-y**2-5\n",
    "funcion_original_3 = x+y+z-3\n",
    "\n",
    "#Creamos nuestra matrix de las funciones insertadas\n",
    "\n",
    "matriz_funciones = Matrix([funcion_original_1, funcion_original_2, funcion_original_3])\n",
    "\n",
    "#matriz_funciones = Matrix([funcion_original_1, funcion_original_2])\n",
    "\n",
    "\n",
    "#Imprimimos las funciones insertadas para asegurarnos.\n",
    "\n",
    "print(\"Esta es la primer ecuación original: \\n\")\n",
    "disp.display(funcion_original_1)\n",
    "\n",
    "print(\"\\n\\nEsta es la segunda ecuación original: \\n\")\n",
    "disp.display(funcion_original_2)\n",
    "\n",
    "print(\"\\n\\nEsta es la tercer ecuación original: \\n\")\n",
    "disp.display(funcion_original_3)\n",
    "\n",
    "print(\"\\n\\nEsta es la matrix de nuestras ecuaciones: \\n\")\n",
    "display(matriz_funciones)"
   ]
  },
  {
   "cell_type": "markdown",
   "id": "extraordinary-penetration",
   "metadata": {},
   "source": [
    "Una vez insertadas nuestras ecuaciones construimos nuestra matriz jacobiana dada por las derivadas parciales de las ecuaciones."
   ]
  },
  {
   "cell_type": "code",
   "execution_count": 24,
   "id": "external-syndication",
   "metadata": {},
   "outputs": [
    {
     "data": {
      "text/latex": [
       "$\\displaystyle \\left[\\begin{matrix}x^{2} + y - 37\\\\x - y^{2} - 5\\\\x + y + z - 3\\end{matrix}\\right]$"
      ],
      "text/plain": [
       "Matrix([\n",
       "[x**2 + y - 37],\n",
       "[ x - y**2 - 5],\n",
       "[x + y + z - 3]])"
      ]
     },
     "metadata": {},
     "output_type": "display_data"
    },
    {
     "name": "stdout",
     "output_type": "stream",
     "text": [
      "\n",
      "\n",
      "\n"
     ]
    },
    {
     "data": {
      "text/latex": [
       "$\\displaystyle \\left[\\begin{matrix}2 x & 1 & 0\\\\1 & - 2 y & 0\\\\1 & 1 & 1\\end{matrix}\\right]$"
      ],
      "text/plain": [
       "Matrix([\n",
       "[2*x,    1, 0],\n",
       "[  1, -2*y, 0],\n",
       "[  1,    1, 1]])"
      ]
     },
     "metadata": {},
     "output_type": "display_data"
    }
   ],
   "source": [
    "#Transformamos nuestras ecuaciones en una matrix\n",
    "\n",
    "display(matriz_funciones)\n",
    "\n",
    "print(\"\\n\\n\")\n",
    "\n",
    "#Obtenemos la jacobiana de la matriz con respecto a los simbolos x,y,z\n",
    "\n",
    "jacobiano = matriz_funciones.jacobian([x, y, z])\n",
    "\n",
    "#jacobiano = matriz_funciones.jacobian([x, y])\n",
    "\n",
    "display(jacobiano)"
   ]
  },
  {
   "cell_type": "markdown",
   "id": "vocational-cowboy",
   "metadata": {},
   "source": [
    "Ahora empezamos el proceso, para realizarlo evitaremos sacar la inversa del jacobiano directamente, en su ugar evaluaremos primero, a continuación detallaremos el proceso que realizamos de manera que sea más sencillo su entendimiento:\n",
    "\n",
    "+ Calculamos el jacobiano evaluado en el punto xi, yi, zi y obtenemos su inversa.\n",
    "+ Calculamos la matrix de ecuaciones en el punto xi, yi, zi.\n",
    "+ Multiplicamos las dos matrices anteriores.\n",
    "+ El nuevo punto sera la resta del punto anterior menos la multiplicación anterior.\n"
   ]
  },
  {
   "cell_type": "code",
   "execution_count": 27,
   "id": "hired-reflection",
   "metadata": {},
   "outputs": [
    {
     "data": {
      "text/html": [
       "<div>\n",
       "<style scoped>\n",
       "    .dataframe tbody tr th:only-of-type {\n",
       "        vertical-align: middle;\n",
       "    }\n",
       "\n",
       "    .dataframe tbody tr th {\n",
       "        vertical-align: top;\n",
       "    }\n",
       "\n",
       "    .dataframe thead th {\n",
       "        text-align: right;\n",
       "    }\n",
       "</style>\n",
       "<table border=\"1\" class=\"dataframe\">\n",
       "  <thead>\n",
       "    <tr style=\"text-align: right;\">\n",
       "      <th></th>\n",
       "      <th>f1_original</th>\n",
       "      <th>f2_original</th>\n",
       "      <th>f3_original</th>\n",
       "      <th>xi</th>\n",
       "      <th>yi</th>\n",
       "      <th>zi</th>\n",
       "    </tr>\n",
       "  </thead>\n",
       "  <tbody>\n",
       "    <tr>\n",
       "      <th>0</th>\n",
       "      <td>25.000000</td>\n",
       "      <td>-1369.000000</td>\n",
       "      <td>0.000000e+00</td>\n",
       "      <td>5.00000000000000</td>\n",
       "      <td>37.0000000000000</td>\n",
       "      <td>-39.0000000000000</td>\n",
       "    </tr>\n",
       "    <tr>\n",
       "      <th>1</th>\n",
       "      <td>0.421360</td>\n",
       "      <td>-342.574638</td>\n",
       "      <td>-3.552714e-15</td>\n",
       "      <td>4.35087719298246</td>\n",
       "      <td>18.4912280701754</td>\n",
       "      <td>-19.8421052631579</td>\n",
       "    </tr>\n",
       "    <tr>\n",
       "      <th>2</th>\n",
       "      <td>1.026062</td>\n",
       "      <td>-85.299564</td>\n",
       "      <td>1.776357e-15</td>\n",
       "      <td>5.36382417757925</td>\n",
       "      <td>9.25545178561999</td>\n",
       "      <td>-11.6192759631992</td>\n",
       "    </tr>\n",
       "    <tr>\n",
       "      <th>3</th>\n",
       "      <td>0.110378</td>\n",
       "      <td>-21.069233</td>\n",
       "      <td>1.776357e-15</td>\n",
       "      <td>5.69605559648847</td>\n",
       "      <td>4.66532835742279</td>\n",
       "      <td>-7.36138395391126</td>\n",
       "    </tr>\n",
       "  </tbody>\n",
       "</table>\n",
       "</div>"
      ],
      "text/plain": [
       "   f1_original  f2_original   f3_original                xi                yi  \\\n",
       "0    25.000000 -1369.000000  0.000000e+00  5.00000000000000  37.0000000000000   \n",
       "1     0.421360  -342.574638 -3.552714e-15  4.35087719298246  18.4912280701754   \n",
       "2     1.026062   -85.299564  1.776357e-15  5.36382417757925  9.25545178561999   \n",
       "3     0.110378   -21.069233  1.776357e-15  5.69605559648847  4.66532835742279   \n",
       "\n",
       "                  zi  \n",
       "0  -39.0000000000000  \n",
       "1  -19.8421052631579  \n",
       "2  -11.6192759631992  \n",
       "3  -7.36138395391126  "
      ]
     },
     "metadata": {},
     "output_type": "display_data"
    },
    {
     "name": "stdout",
     "output_type": "stream",
     "text": [
      "\n",
      "\n",
      "Entonces aqui tenemos las soluciones presentadas en forma tabular.\n"
     ]
    }
   ],
   "source": [
    "# Declaramos nuestro punto inicial y las iteraciones maximas a realizar\n",
    "\n",
    "iteraciones_maximas = 4\n",
    "iteraciones = 0\n",
    "\n",
    "x_i= 0\n",
    "y_i= 0\n",
    "z_i= 0\n",
    "\n",
    "\n",
    "#Data Frame donde guardaremos los resultados.\n",
    "df = pd.DataFrame()\n",
    "\n",
    "#Proceso que se repetira hasta igualar el numero de iteraciones necesarias.\n",
    "while iteraciones < iteraciones_maximas:\n",
    "    \n",
    "    jacobiano_evaluado = jacobiano.subs({x:x_i,y:y_i,z:z_i})#Evaluamos el jacobiano en el punto dado.\n",
    "    \n",
    "    jacobiano_evaluado_inverso = jacobiano_evaluado**-1 #Obtenemos la inversa del jacobiano evaluado.\n",
    "    matriz_funciones_evaluado = matriz_funciones.subs({x:x_i,y:y_i,z:z_i}) #Obtenemos nuestras ecuaciones evaluadas.\n",
    "    \n",
    "    solucion_sistema = jacobiano_evaluado_inverso * matriz_funciones_evaluado #Resolvemos el sistema de ecuaciones.\n",
    "    \n",
    "    matriz_solucion = Matrix([x_i, y_i, z_i]) #Convertimos a matriz nuestras soluciones\n",
    "    \n",
    "    nueva_solucion_matriz = matriz_solucion - solucion_sistema #Resolvemos las ultimas operaciones para dar el nuevo punto\n",
    "    \n",
    "    #Esta sera la nueva solucion de la matriz la cual estamos asignando de nuevo a las variables para repetir el proceso\n",
    "    \n",
    "    #Hay que notar que estamos convirtiendo los numeros a flotantes de nuevo para que sea mas facil trabajar con ellos y rápido.\n",
    "    \n",
    "    x_i = float(nueva_solucion_matriz[0,0])\n",
    "    y_i = float(nueva_solucion_matriz[1,0])\n",
    "    z_i = float(nueva_solucion_matriz[2,0])\n",
    "\n",
    "    #Solo estamos agregando datos a nuestro data frame\n",
    "    \n",
    "    df = df.append({\n",
    "            'xi':nueva_solucion_matriz[0,0].evalf(),\n",
    "            'yi':nueva_solucion_matriz[1,0].evalf(),\n",
    "            'zi':nueva_solucion_matriz[2,0].evalf(),\n",
    "            'f1_original':float(funcion_original_1.subs({x:x_i,y:y_i,z:z_i})), #Se evalua la funcion 1 original en el punto dado\n",
    "            'f2_original':float(funcion_original_2.subs({x:x_i,y:y_i,z:z_i})), #Se evalua la funcion 2 original en el punto dado\n",
    "            'f3_original':float(funcion_original_3.subs({x:x_i,y:y_i,z:z_i}))}, #Se evalua la funcion 3 original en el punto dado\n",
    "            ignore_index=True #Ignorar este parametro.\n",
    "             )\n",
    "    \n",
    "    iteraciones +=1\n",
    "    \n",
    "display(df)\n",
    "\n",
    "print(\"\\n\\nEntonces aqui tenemos las soluciones presentadas en forma tabular.\")"
   ]
  }
 ],
 "metadata": {
  "kernelspec": {
   "display_name": "Metodos",
   "language": "python",
   "name": "metodos"
  },
  "language_info": {
   "codemirror_mode": {
    "name": "ipython",
    "version": 3
   },
   "file_extension": ".py",
   "mimetype": "text/x-python",
   "name": "python",
   "nbconvert_exporter": "python",
   "pygments_lexer": "ipython3",
   "version": "3.9.2"
  }
 },
 "nbformat": 4,
 "nbformat_minor": 5
}
