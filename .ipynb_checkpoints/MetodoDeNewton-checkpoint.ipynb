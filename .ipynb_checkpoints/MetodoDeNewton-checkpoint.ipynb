{
 "cells": [
  {
   "cell_type": "markdown",
   "id": "dense-peter",
   "metadata": {},
   "source": [
    "# Método de Newton para sistemas de ecuaciones no lineales.\n",
    "\n",
    "## Andrade Vidal Fernando Adrian.\n",
    "\n",
    "### ¿Qué es el metodo de Newton?\n",
    "\n",
    "El metodo de Newton es util para encontrar soluciones de ecuaciones en sistemas lineales o no lineales, se diferencia del metodo del punto fijo ya que es más rapido su convergencia.\n",
    "\n",
    "#### Características:\n",
    "\n",
    "+ Es necesario que las funciones sean continuas en el intervalo de su solución.\n",
    "+ Este metodo se desarrolla apartir de las series de Taylor.\n",
    "\n",
    "El presente cuadernillo proporcionara paso a paso la solución de un sistema de ecuaciones no lineales, aunque puede ser modificado para acoplarlo a tus necesidades."
   ]
  },
  {
   "cell_type": "code",
   "execution_count": 1,
   "id": "atlantic-procurement",
   "metadata": {},
   "outputs": [],
   "source": [
    "from sympy import * #Usaremos SymPy para computo simbólico.\n",
    "\n",
    "import pandas as pd #Usaremos Pandas para crear y manejar data frames donde registraremos los datos.\n",
    "\n",
    "import IPython.display as disp #Usaremos el display para visualizar ecuaciones."
   ]
  },
  {
   "cell_type": "markdown",
   "id": "sized-rolling",
   "metadata": {},
   "source": [
    "Estableceremos 3 variables aunque se pueden añadir màs en esta declaración de variables."
   ]
  },
  {
   "cell_type": "code",
   "execution_count": 13,
   "id": "external-jones",
   "metadata": {},
   "outputs": [
    {
     "name": "stdout",
     "output_type": "stream",
     "text": [
      "Esta es la primer ecuación original: \n",
      "\n"
     ]
    },
    {
     "data": {
      "text/latex": [
       "$\\displaystyle \\frac{w}{x z} - 1 + \\frac{4}{z} - \\frac{y}{x z}$"
      ],
      "text/plain": [
       "w/(x*z) - 1 + 4/z - y/(x*z)"
      ]
     },
     "metadata": {},
     "output_type": "display_data"
    },
    {
     "name": "stdout",
     "output_type": "stream",
     "text": [
      "\n",
      "\n",
      "Esta es la segunda ecuación original: \n",
      "\n"
     ]
    },
    {
     "data": {
      "text/latex": [
       "$\\displaystyle - \\frac{2 w}{y z} - \\frac{x}{y z} - 1 + \\frac{3}{z}$"
      ],
      "text/plain": [
       "-2*w/(y*z) - x/(y*z) - 1 + 3/z"
      ]
     },
     "metadata": {},
     "output_type": "display_data"
    },
    {
     "name": "stdout",
     "output_type": "stream",
     "text": [
      "\n",
      "\n",
      "Esta es la tercer ecuación original: \n",
      "\n"
     ]
    },
    {
     "data": {
      "text/latex": [
       "$\\displaystyle -1 + \\frac{3}{z} + \\frac{x}{w z} - \\frac{2 y}{w z}$"
      ],
      "text/plain": [
       "-1 + 3/z + x/(w*z) - 2*y/(w*z)"
      ]
     },
     "metadata": {},
     "output_type": "display_data"
    },
    {
     "name": "stdout",
     "output_type": "stream",
     "text": [
      "\n",
      "\n",
      "Esta es la cuarta ecuación original: \n",
      "\n"
     ]
    },
    {
     "data": {
      "text/latex": [
       "$\\displaystyle w^{2} + x^{2} + y^{2} - 2$"
      ],
      "text/plain": [
       "w**2 + x**2 + y**2 - 2"
      ]
     },
     "metadata": {},
     "output_type": "display_data"
    },
    {
     "name": "stdout",
     "output_type": "stream",
     "text": [
      "\n",
      "\n",
      "Esta es la matrix de nuestras ecuaciones: \n",
      "\n"
     ]
    },
    {
     "data": {
      "text/latex": [
       "$\\displaystyle \\left[\\begin{matrix}\\frac{w}{x z} - 1 + \\frac{4}{z} - \\frac{y}{x z}\\\\- \\frac{2 w}{y z} - \\frac{x}{y z} - 1 + \\frac{3}{z}\\\\-1 + \\frac{3}{z} + \\frac{x}{w z} - \\frac{2 y}{w z}\\\\w^{2} + x^{2} + y^{2} - 2\\end{matrix}\\right]$"
      ],
      "text/plain": [
       "Matrix([\n",
       "[   w/(x*z) - 1 + 4/z - y/(x*z)],\n",
       "[-2*w/(y*z) - x/(y*z) - 1 + 3/z],\n",
       "[-1 + 3/z + x/(w*z) - 2*y/(w*z)],\n",
       "[        w**2 + x**2 + y**2 - 2]])"
      ]
     },
     "metadata": {},
     "output_type": "display_data"
    }
   ],
   "source": [
    "#Declaramos los simbolos que usaremos para las ecuaciónes.\n",
    "\n",
    "w, x,y ,z = symbols('w x y z')\n",
    "\n",
    "#Estamos insertando las funciones con las que trabajaremos, notar que puede haber simplificaciones.\n",
    "\n",
    "funcion_original_1 = (4/z) - (y/(x*z)) + (w/(x*z)) - 1 \n",
    "funcion_original_2 = (-x/(y*z)) + (3/z) - ((2*w)/(y*z)) - 1\n",
    "funcion_original_3 = (x/(w*z)) - ((2*y)/(w*z)) + (3/z) - 1\n",
    "funcion_original_4 = x**2 + y**2 + w**2 - 2\n",
    "\n",
    "#Creamos nuestra matrix de las funciones insertadas\n",
    "\n",
    "matriz_funciones = Matrix([funcion_original_1, funcion_original_2, funcion_original_3, funcion_original_4])\n",
    "\n",
    "#matriz_funciones = Matrix([funcion_original_1, funcion_original_2])\n",
    "\n",
    "\n",
    "#Imprimimos las funciones insertadas para asegurarnos.\n",
    "\n",
    "print(\"Esta es la primer ecuación original: \\n\")\n",
    "disp.display(funcion_original_1)\n",
    "\n",
    "print(\"\\n\\nEsta es la segunda ecuación original: \\n\")\n",
    "disp.display(funcion_original_2)\n",
    "\n",
    "print(\"\\n\\nEsta es la tercer ecuación original: \\n\")\n",
    "disp.display(funcion_original_3)\n",
    "\n",
    "\n",
    "print(\"\\n\\nEsta es la cuarta ecuación original: \\n\")\n",
    "disp.display(funcion_original_4)\n",
    "\n",
    "print(\"\\n\\nEsta es la matrix de nuestras ecuaciones: \\n\")\n",
    "display(matriz_funciones)"
   ]
  },
  {
   "cell_type": "markdown",
   "id": "individual-swing",
   "metadata": {},
   "source": [
    "Una vez insertadas nuestras ecuaciones construimos nuestra matriz jacobiana dada por las derivadas parciales de las ecuaciones."
   ]
  },
  {
   "cell_type": "code",
   "execution_count": 17,
   "id": "removable-picture",
   "metadata": {},
   "outputs": [
    {
     "data": {
      "text/latex": [
       "$\\displaystyle \\left[\\begin{matrix}\\frac{w}{x z} - 1 + \\frac{4}{z} - \\frac{y}{x z}\\\\- \\frac{2 w}{y z} - \\frac{x}{y z} - 1 + \\frac{3}{z}\\\\-1 + \\frac{3}{z} + \\frac{x}{w z} - \\frac{2 y}{w z}\\\\w^{2} + x^{2} + y^{2} - 2\\end{matrix}\\right]$"
      ],
      "text/plain": [
       "Matrix([\n",
       "[   w/(x*z) - 1 + 4/z - y/(x*z)],\n",
       "[-2*w/(y*z) - x/(y*z) - 1 + 3/z],\n",
       "[-1 + 3/z + x/(w*z) - 2*y/(w*z)],\n",
       "[        w**2 + x**2 + y**2 - 2]])"
      ]
     },
     "metadata": {},
     "output_type": "display_data"
    },
    {
     "name": "stdout",
     "output_type": "stream",
     "text": [
      "\n",
      "\n",
      "\n"
     ]
    },
    {
     "data": {
      "text/latex": [
       "$\\displaystyle \\left[\\begin{matrix}\\frac{6 w^{3} x^{3} z + 5 w^{2} x^{4} z - 8 w^{2} x^{3} y z + w^{2} x^{2} y^{2} z + w x^{5} z - 4 w x^{4} y z + 6 w x^{3} y^{2} z + w x^{2} y^{3} z}{6 w^{5} + 7 w^{4} x - 14 w^{4} y + 16 w^{3} x^{2} - 12 w^{3} x y + 20 w^{3} y^{2} + 11 w^{2} x^{3} - 24 w^{2} x^{2} y + 14 w^{2} x y^{2} - 20 w^{2} y^{3} + 10 w x^{4} - 12 w x^{3} y + 24 w x^{2} y^{2} - 12 w x y^{3} + 14 w y^{4} + 4 x^{5} - 10 x^{4} y + 11 x^{3} y^{2} - 16 x^{2} y^{3} + 7 x y^{4} - 6 y^{5}} & - \\frac{3 w^{3} y^{3} z - w^{2} x^{2} y^{2} z + 2 w^{2} x y^{3} z - 5 w^{2} y^{4} z + 7 w x^{3} y^{2} z + 4 w x^{2} y^{3} z - 2 w x y^{4} z + 2 w y^{5} z}{6 w^{5} + 7 w^{4} x - 14 w^{4} y + 16 w^{3} x^{2} - 12 w^{3} x y + 20 w^{3} y^{2} + 11 w^{2} x^{3} - 24 w^{2} x^{2} y + 14 w^{2} x y^{2} - 20 w^{2} y^{3} + 10 w x^{4} - 12 w x^{3} y + 24 w x^{2} y^{2} - 12 w x y^{3} + 14 w y^{4} + 4 x^{5} - 10 x^{4} y + 11 x^{3} y^{2} - 16 x^{2} y^{3} + 7 x y^{4} - 6 y^{5}} & - \\frac{2 w^{4} x^{2} z + 2 w^{4} y^{2} z + 9 w^{3} x^{3} z - 4 w^{3} x^{2} y z + 2 w^{3} x y^{2} z - 5 w^{3} y^{3} z + 4 w^{2} x^{4} z - 2 w^{2} x^{3} y z + 7 w^{2} x^{2} y^{2} z - 2 w^{2} x y^{3} z + 3 w^{2} y^{4} z}{6 w^{5} + 7 w^{4} x - 14 w^{4} y + 16 w^{3} x^{2} - 12 w^{3} x y + 20 w^{3} y^{2} + 11 w^{2} x^{3} - 24 w^{2} x^{2} y + 14 w^{2} x y^{2} - 20 w^{2} y^{3} + 10 w x^{4} - 12 w x^{3} y + 24 w x^{2} y^{2} - 12 w x y^{3} + 14 w y^{4} + 4 x^{5} - 10 x^{4} y + 11 x^{3} y^{2} - 16 x^{2} y^{3} + 7 x y^{4} - 6 y^{5}} & \\frac{w}{2 w^{2} + 2 x^{2} + 2 y^{2}}\\\\- \\frac{6 w^{4} x^{2} z + 5 w^{3} x^{3} z - 8 w^{3} x^{2} y z + w^{2} x^{4} z - 4 w^{2} x^{3} y z + 12 w^{2} x^{2} y^{2} z + 4 w x^{3} y^{2} z - 8 w x^{2} y^{3} z + x^{4} y^{2} z - 5 x^{3} y^{3} z + 6 x^{2} y^{4} z}{6 w^{5} + 7 w^{4} x - 14 w^{4} y + 16 w^{3} x^{2} - 12 w^{3} x y + 20 w^{3} y^{2} + 11 w^{2} x^{3} - 24 w^{2} x^{2} y + 14 w^{2} x y^{2} - 20 w^{2} y^{3} + 10 w x^{4} - 12 w x^{3} y + 24 w x^{2} y^{2} - 12 w x y^{3} + 14 w y^{4} + 4 x^{5} - 10 x^{4} y + 11 x^{3} y^{2} - 16 x^{2} y^{3} + 7 x y^{4} - 6 y^{5}} & - \\frac{w^{3} x y^{2} z - 7 w^{2} x^{2} y^{2} z + 3 w^{2} x y^{3} z + 2 w x^{2} y^{3} z - 4 w x y^{4} z + 4 x^{3} y^{3} z - 9 x^{2} y^{4} z + 2 x y^{5} z}{6 w^{5} + 7 w^{4} x - 14 w^{4} y + 16 w^{3} x^{2} - 12 w^{3} x y + 20 w^{3} y^{2} + 11 w^{2} x^{3} - 24 w^{2} x^{2} y + 14 w^{2} x y^{2} - 20 w^{2} y^{3} + 10 w x^{4} - 12 w x^{3} y + 24 w x^{2} y^{2} - 12 w x y^{3} + 14 w y^{4} + 4 x^{5} - 10 x^{4} y + 11 x^{3} y^{2} - 16 x^{2} y^{3} + 7 x y^{4} - 6 y^{5}} & \\frac{2 w^{5} x z + 9 w^{4} x^{2} z - 4 w^{4} x y z + 4 w^{3} x^{3} z - 2 w^{3} x^{2} y z + 3 w^{3} x y^{2} z + 7 w^{2} x^{2} y^{2} z + w^{2} x y^{3} z}{6 w^{5} + 7 w^{4} x - 14 w^{4} y + 16 w^{3} x^{2} - 12 w^{3} x y + 20 w^{3} y^{2} + 11 w^{2} x^{3} - 24 w^{2} x^{2} y + 14 w^{2} x y^{2} - 20 w^{2} y^{3} + 10 w x^{4} - 12 w x^{3} y + 24 w x^{2} y^{2} - 12 w x y^{3} + 14 w y^{4} + 4 x^{5} - 10 x^{4} y + 11 x^{3} y^{2} - 16 x^{2} y^{3} + 7 x y^{4} - 6 y^{5}} & \\frac{x}{2 w^{2} + 2 x^{2} + 2 y^{2}}\\\\\\frac{- w^{3} x^{2} y z + 6 w^{2} x^{3} y z - w^{2} x^{2} y^{2} z + 4 w x^{4} y z - 8 w x^{3} y^{2} z + x^{5} y z - 5 x^{4} y^{2} z + 6 x^{3} y^{3} z}{6 w^{5} + 7 w^{4} x - 14 w^{4} y + 16 w^{3} x^{2} - 12 w^{3} x y + 20 w^{3} y^{2} + 11 w^{2} x^{3} - 24 w^{2} x^{2} y + 14 w^{2} x y^{2} - 20 w^{2} y^{3} + 10 w x^{4} - 12 w x^{3} y + 24 w x^{2} y^{2} - 12 w x y^{3} + 14 w y^{4} + 4 x^{5} - 10 x^{4} y + 11 x^{3} y^{2} - 16 x^{2} y^{3} + 7 x y^{4} - 6 y^{5}} & \\frac{3 w^{4} y^{2} z + 2 w^{3} x y^{2} z - 5 w^{3} y^{3} z + 7 w^{2} x^{2} y^{2} z - 2 w^{2} x y^{3} z + 2 w^{2} y^{4} z + 2 w x^{3} y^{2} z - 4 w x^{2} y^{3} z + 4 x^{4} y^{2} z - 9 x^{3} y^{3} z + 2 x^{2} y^{4} z}{6 w^{5} + 7 w^{4} x - 14 w^{4} y + 16 w^{3} x^{2} - 12 w^{3} x y + 20 w^{3} y^{2} + 11 w^{2} x^{3} - 24 w^{2} x^{2} y + 14 w^{2} x y^{2} - 20 w^{2} y^{3} + 10 w x^{4} - 12 w x^{3} y + 24 w x^{2} y^{2} - 12 w x y^{3} + 14 w y^{4} + 4 x^{5} - 10 x^{4} y + 11 x^{3} y^{2} - 16 x^{2} y^{3} + 7 x y^{4} - 6 y^{5}} & - \\frac{- 2 w^{5} y z - 2 w^{4} x y z + 5 w^{4} y^{2} z - 4 w^{3} x^{2} y z + 2 w^{3} x y^{2} z - 3 w^{3} y^{3} z + 7 w^{2} x^{3} y z + w^{2} x^{2} y^{2} z}{6 w^{5} + 7 w^{4} x - 14 w^{4} y + 16 w^{3} x^{2} - 12 w^{3} x y + 20 w^{3} y^{2} + 11 w^{2} x^{3} - 24 w^{2} x^{2} y + 14 w^{2} x y^{2} - 20 w^{2} y^{3} + 10 w x^{4} - 12 w x^{3} y + 24 w x^{2} y^{2} - 12 w x y^{3} + 14 w y^{4} + 4 x^{5} - 10 x^{4} y + 11 x^{3} y^{2} - 16 x^{2} y^{3} + 7 x y^{4} - 6 y^{5}} & \\frac{y}{2 w^{2} + 2 x^{2} + 2 y^{2}}\\\\- \\frac{x^{2} z^{2}}{3 w^{2} + 2 w x - 4 w y + 4 x^{2} - 2 x y + 3 y^{2}} & - \\frac{y^{2} z^{2}}{3 w^{2} + 2 w x - 4 w y + 4 x^{2} - 2 x y + 3 y^{2}} & - \\frac{w^{2} z^{2}}{3 w^{2} + 2 w x - 4 w y + 4 x^{2} - 2 x y + 3 y^{2}} & 0\\end{matrix}\\right]$"
      ],
      "text/plain": [
       "Matrix([\n",
       "[                                                          (6*w**3*x**3*z + 5*w**2*x**4*z - 8*w**2*x**3*y*z + w**2*x**2*y**2*z + w*x**5*z - 4*w*x**4*y*z + 6*w*x**3*y**2*z + w*x**2*y**3*z)/(6*w**5 + 7*w**4*x - 14*w**4*y + 16*w**3*x**2 - 12*w**3*x*y + 20*w**3*y**2 + 11*w**2*x**3 - 24*w**2*x**2*y + 14*w**2*x*y**2 - 20*w**2*y**3 + 10*w*x**4 - 12*w*x**3*y + 24*w*x**2*y**2 - 12*w*x*y**3 + 14*w*y**4 + 4*x**5 - 10*x**4*y + 11*x**3*y**2 - 16*x**2*y**3 + 7*x*y**4 - 6*y**5),                                                        -(3*w**3*y**3*z - w**2*x**2*y**2*z + 2*w**2*x*y**3*z - 5*w**2*y**4*z + 7*w*x**3*y**2*z + 4*w*x**2*y**3*z - 2*w*x*y**4*z + 2*w*y**5*z)/(6*w**5 + 7*w**4*x - 14*w**4*y + 16*w**3*x**2 - 12*w**3*x*y + 20*w**3*y**2 + 11*w**2*x**3 - 24*w**2*x**2*y + 14*w**2*x*y**2 - 20*w**2*y**3 + 10*w*x**4 - 12*w*x**3*y + 24*w*x**2*y**2 - 12*w*x*y**3 + 14*w*y**4 + 4*x**5 - 10*x**4*y + 11*x**3*y**2 - 16*x**2*y**3 + 7*x*y**4 - 6*y**5), -(2*w**4*x**2*z + 2*w**4*y**2*z + 9*w**3*x**3*z - 4*w**3*x**2*y*z + 2*w**3*x*y**2*z - 5*w**3*y**3*z + 4*w**2*x**4*z - 2*w**2*x**3*y*z + 7*w**2*x**2*y**2*z - 2*w**2*x*y**3*z + 3*w**2*y**4*z)/(6*w**5 + 7*w**4*x - 14*w**4*y + 16*w**3*x**2 - 12*w**3*x*y + 20*w**3*y**2 + 11*w**2*x**3 - 24*w**2*x**2*y + 14*w**2*x*y**2 - 20*w**2*y**3 + 10*w*x**4 - 12*w*x**3*y + 24*w*x**2*y**2 - 12*w*x*y**3 + 14*w*y**4 + 4*x**5 - 10*x**4*y + 11*x**3*y**2 - 16*x**2*y**3 + 7*x*y**4 - 6*y**5), w/(2*w**2 + 2*x**2 + 2*y**2)],\n",
       "[-(6*w**4*x**2*z + 5*w**3*x**3*z - 8*w**3*x**2*y*z + w**2*x**4*z - 4*w**2*x**3*y*z + 12*w**2*x**2*y**2*z + 4*w*x**3*y**2*z - 8*w*x**2*y**3*z + x**4*y**2*z - 5*x**3*y**3*z + 6*x**2*y**4*z)/(6*w**5 + 7*w**4*x - 14*w**4*y + 16*w**3*x**2 - 12*w**3*x*y + 20*w**3*y**2 + 11*w**2*x**3 - 24*w**2*x**2*y + 14*w**2*x*y**2 - 20*w**2*y**3 + 10*w*x**4 - 12*w*x**3*y + 24*w*x**2*y**2 - 12*w*x*y**3 + 14*w*y**4 + 4*x**5 - 10*x**4*y + 11*x**3*y**2 - 16*x**2*y**3 + 7*x*y**4 - 6*y**5),                                                        -(w**3*x*y**2*z - 7*w**2*x**2*y**2*z + 3*w**2*x*y**3*z + 2*w*x**2*y**3*z - 4*w*x*y**4*z + 4*x**3*y**3*z - 9*x**2*y**4*z + 2*x*y**5*z)/(6*w**5 + 7*w**4*x - 14*w**4*y + 16*w**3*x**2 - 12*w**3*x*y + 20*w**3*y**2 + 11*w**2*x**3 - 24*w**2*x**2*y + 14*w**2*x*y**2 - 20*w**2*y**3 + 10*w*x**4 - 12*w*x**3*y + 24*w*x**2*y**2 - 12*w*x*y**3 + 14*w*y**4 + 4*x**5 - 10*x**4*y + 11*x**3*y**2 - 16*x**2*y**3 + 7*x*y**4 - 6*y**5),                                                          (2*w**5*x*z + 9*w**4*x**2*z - 4*w**4*x*y*z + 4*w**3*x**3*z - 2*w**3*x**2*y*z + 3*w**3*x*y**2*z + 7*w**2*x**2*y**2*z + w**2*x*y**3*z)/(6*w**5 + 7*w**4*x - 14*w**4*y + 16*w**3*x**2 - 12*w**3*x*y + 20*w**3*y**2 + 11*w**2*x**3 - 24*w**2*x**2*y + 14*w**2*x*y**2 - 20*w**2*y**3 + 10*w*x**4 - 12*w*x**3*y + 24*w*x**2*y**2 - 12*w*x*y**3 + 14*w*y**4 + 4*x**5 - 10*x**4*y + 11*x**3*y**2 - 16*x**2*y**3 + 7*x*y**4 - 6*y**5), x/(2*w**2 + 2*x**2 + 2*y**2)],\n",
       "[                                                         (-w**3*x**2*y*z + 6*w**2*x**3*y*z - w**2*x**2*y**2*z + 4*w*x**4*y*z - 8*w*x**3*y**2*z + x**5*y*z - 5*x**4*y**2*z + 6*x**3*y**3*z)/(6*w**5 + 7*w**4*x - 14*w**4*y + 16*w**3*x**2 - 12*w**3*x*y + 20*w**3*y**2 + 11*w**2*x**3 - 24*w**2*x**2*y + 14*w**2*x*y**2 - 20*w**2*y**3 + 10*w*x**4 - 12*w*x**3*y + 24*w*x**2*y**2 - 12*w*x*y**3 + 14*w*y**4 + 4*x**5 - 10*x**4*y + 11*x**3*y**2 - 16*x**2*y**3 + 7*x*y**4 - 6*y**5), (3*w**4*y**2*z + 2*w**3*x*y**2*z - 5*w**3*y**3*z + 7*w**2*x**2*y**2*z - 2*w**2*x*y**3*z + 2*w**2*y**4*z + 2*w*x**3*y**2*z - 4*w*x**2*y**3*z + 4*x**4*y**2*z - 9*x**3*y**3*z + 2*x**2*y**4*z)/(6*w**5 + 7*w**4*x - 14*w**4*y + 16*w**3*x**2 - 12*w**3*x*y + 20*w**3*y**2 + 11*w**2*x**3 - 24*w**2*x**2*y + 14*w**2*x*y**2 - 20*w**2*y**3 + 10*w*x**4 - 12*w*x**3*y + 24*w*x**2*y**2 - 12*w*x*y**3 + 14*w*y**4 + 4*x**5 - 10*x**4*y + 11*x**3*y**2 - 16*x**2*y**3 + 7*x*y**4 - 6*y**5),                                                        -(-2*w**5*y*z - 2*w**4*x*y*z + 5*w**4*y**2*z - 4*w**3*x**2*y*z + 2*w**3*x*y**2*z - 3*w**3*y**3*z + 7*w**2*x**3*y*z + w**2*x**2*y**2*z)/(6*w**5 + 7*w**4*x - 14*w**4*y + 16*w**3*x**2 - 12*w**3*x*y + 20*w**3*y**2 + 11*w**2*x**3 - 24*w**2*x**2*y + 14*w**2*x*y**2 - 20*w**2*y**3 + 10*w*x**4 - 12*w*x**3*y + 24*w*x**2*y**2 - 12*w*x*y**3 + 14*w*y**4 + 4*x**5 - 10*x**4*y + 11*x**3*y**2 - 16*x**2*y**3 + 7*x*y**4 - 6*y**5), y/(2*w**2 + 2*x**2 + 2*y**2)],\n",
       "[                                                                                                                                                                                                                                                                                                                                                                                                                     -x**2*z**2/(3*w**2 + 2*w*x - 4*w*y + 4*x**2 - 2*x*y + 3*y**2),                                                                                                                                                                                                                                                                                                                                                                                                                        -y**2*z**2/(3*w**2 + 2*w*x - 4*w*y + 4*x**2 - 2*x*y + 3*y**2),                                                                                                                                                                                                                                                                                                                                                                                                                         -w**2*z**2/(3*w**2 + 2*w*x - 4*w*y + 4*x**2 - 2*x*y + 3*y**2),                            0]])"
      ]
     },
     "metadata": {},
     "output_type": "display_data"
    }
   ],
   "source": [
    "#Transformamos nuestras ecuaciones en una matrix\n",
    "\n",
    "display(matriz_funciones)\n",
    "\n",
    "print(\"\\n\\n\")\n",
    "\n",
    "#Obtenemos la jacobiana de la matriz con respecto a los simbolos x,y,z\n",
    "\n",
    "jacobiano_inverso = matriz_funciones.jacobian([w, x, y, z]) ** -1\n",
    "\n",
    "#jacobiano = matriz_funciones.jacobian([x, y])\n",
    "\n",
    "display(jacobiano)"
   ]
  },
  {
   "cell_type": "markdown",
   "id": "average-morris",
   "metadata": {},
   "source": [
    "Ahora empezamos el proceso, para realizarlo evitaremos sacar la inversa del jacobiano directamente, en su ugar evaluaremos primero, a continuación detallaremos el proceso que realizamos de manera que sea más sencillo su entendimiento:\n",
    "\n",
    "+ Calculamos el jacobiano evaluado en el punto xi, yi, zi y obtenemos su inversa.\n",
    "+ Calculamos la matrix de ecuaciones en el punto xi, yi, zi.\n",
    "+ Multiplicamos las dos matrices anteriores.\n",
    "+ El nuevo punto sera la resta del punto anterior menos la multiplicación anterior.\n"
   ]
  },
  {
   "cell_type": "code",
   "execution_count": 21,
   "id": "stuck-affair",
   "metadata": {},
   "outputs": [
    {
     "data": {
      "text/html": [
       "<div>\n",
       "<style scoped>\n",
       "    .dataframe tbody tr th:only-of-type {\n",
       "        vertical-align: middle;\n",
       "    }\n",
       "\n",
       "    .dataframe tbody tr th {\n",
       "        vertical-align: top;\n",
       "    }\n",
       "\n",
       "    .dataframe thead th {\n",
       "        text-align: right;\n",
       "    }\n",
       "</style>\n",
       "<table border=\"1\" class=\"dataframe\">\n",
       "  <thead>\n",
       "    <tr style=\"text-align: right;\">\n",
       "      <th></th>\n",
       "      <th>f1_original</th>\n",
       "      <th>f2_original</th>\n",
       "      <th>f3_original</th>\n",
       "      <th>f4_original</th>\n",
       "      <th>wi</th>\n",
       "      <th>xi</th>\n",
       "      <th>yi</th>\n",
       "      <th>zi</th>\n",
       "    </tr>\n",
       "  </thead>\n",
       "  <tbody>\n",
       "    <tr>\n",
       "      <th>0</th>\n",
       "      <td>1.303030e+00</td>\n",
       "      <td>-2.000000e-01</td>\n",
       "      <td>3.333333e-01</td>\n",
       "      <td>2.083333e+00</td>\n",
       "      <td>-0.166666666666667</td>\n",
       "      <td>1.83333333333333</td>\n",
       "      <td>0.833333333333333</td>\n",
       "      <td>1.50000000000000</td>\n",
       "    </tr>\n",
       "    <tr>\n",
       "      <th>1</th>\n",
       "      <td>4.152531e-01</td>\n",
       "      <td>4.166668e-01</td>\n",
       "      <td>-6.591193e-02</td>\n",
       "      <td>7.177809e-01</td>\n",
       "      <td>-0.749002267573696</td>\n",
       "      <td>1.41902494331066</td>\n",
       "      <td>0.378344671201814</td>\n",
       "      <td>2.26500000000000</td>\n",
       "    </tr>\n",
       "    <tr>\n",
       "      <th>2</th>\n",
       "      <td>6.839931e-02</td>\n",
       "      <td>1.010649e-01</td>\n",
       "      <td>3.650287e-02</td>\n",
       "      <td>1.065920e-01</td>\n",
       "      <td>-0.618743750742283</td>\n",
       "      <td>1.18506530470684</td>\n",
       "      <td>0.565126868403683</td>\n",
       "      <td>2.80888248967276</td>\n",
       "    </tr>\n",
       "    <tr>\n",
       "      <th>3</th>\n",
       "      <td>4.051319e-03</td>\n",
       "      <td>6.627079e-03</td>\n",
       "      <td>4.033374e-03</td>\n",
       "      <td>2.602721e-03</td>\n",
       "      <td>-0.579333325866557</td>\n",
       "      <td>1.15496108412877</td>\n",
       "      <td>0.577096623107136</td>\n",
       "      <td>2.98662842925886</td>\n",
       "    </tr>\n",
       "    <tr>\n",
       "      <th>4</th>\n",
       "      <td>1.807113e-05</td>\n",
       "      <td>3.033466e-05</td>\n",
       "      <td>1.939890e-05</td>\n",
       "      <td>4.033315e-06</td>\n",
       "      <td>-0.577358202144695</td>\n",
       "      <td>1.15469908709239</td>\n",
       "      <td>0.577348731703076</td>\n",
       "      <td>2.99993899221317</td>\n",
       "    </tr>\n",
       "    <tr>\n",
       "      <th>5</th>\n",
       "      <td>3.646388e-10</td>\n",
       "      <td>6.434946e-10</td>\n",
       "      <td>4.073661e-10</td>\n",
       "      <td>6.739914e-11</td>\n",
       "      <td>-0.577350269363489</td>\n",
       "      <td>1.15470053833682</td>\n",
       "      <td>0.577350269158996</td>\n",
       "      <td>2.99999999874529</td>\n",
       "    </tr>\n",
       "    <tr>\n",
       "      <th>6</th>\n",
       "      <td>0.000000e+00</td>\n",
       "      <td>0.000000e+00</td>\n",
       "      <td>2.220446e-16</td>\n",
       "      <td>-5.551115e-17</td>\n",
       "      <td>-0.577350269189626</td>\n",
       "      <td>1.15470053837925</td>\n",
       "      <td>0.577350269189626</td>\n",
       "      <td>3.00000000000000</td>\n",
       "    </tr>\n",
       "    <tr>\n",
       "      <th>7</th>\n",
       "      <td>0.000000e+00</td>\n",
       "      <td>2.220446e-16</td>\n",
       "      <td>0.000000e+00</td>\n",
       "      <td>5.551115e-17</td>\n",
       "      <td>-0.577350269189626</td>\n",
       "      <td>1.15470053837925</td>\n",
       "      <td>0.577350269189626</td>\n",
       "      <td>3.00000000000000</td>\n",
       "    </tr>\n",
       "    <tr>\n",
       "      <th>8</th>\n",
       "      <td>0.000000e+00</td>\n",
       "      <td>0.000000e+00</td>\n",
       "      <td>0.000000e+00</td>\n",
       "      <td>-1.665335e-16</td>\n",
       "      <td>-0.577350269189626</td>\n",
       "      <td>1.15470053837925</td>\n",
       "      <td>0.577350269189626</td>\n",
       "      <td>3.00000000000000</td>\n",
       "    </tr>\n",
       "    <tr>\n",
       "      <th>9</th>\n",
       "      <td>0.000000e+00</td>\n",
       "      <td>0.000000e+00</td>\n",
       "      <td>0.000000e+00</td>\n",
       "      <td>-1.665335e-16</td>\n",
       "      <td>-0.577350269189626</td>\n",
       "      <td>1.15470053837925</td>\n",
       "      <td>0.577350269189626</td>\n",
       "      <td>3.00000000000000</td>\n",
       "    </tr>\n",
       "    <tr>\n",
       "      <th>10</th>\n",
       "      <td>0.000000e+00</td>\n",
       "      <td>0.000000e+00</td>\n",
       "      <td>0.000000e+00</td>\n",
       "      <td>-1.665335e-16</td>\n",
       "      <td>-0.577350269189626</td>\n",
       "      <td>1.15470053837925</td>\n",
       "      <td>0.577350269189626</td>\n",
       "      <td>3.00000000000000</td>\n",
       "    </tr>\n",
       "    <tr>\n",
       "      <th>11</th>\n",
       "      <td>0.000000e+00</td>\n",
       "      <td>0.000000e+00</td>\n",
       "      <td>0.000000e+00</td>\n",
       "      <td>-1.665335e-16</td>\n",
       "      <td>-0.577350269189626</td>\n",
       "      <td>1.15470053837925</td>\n",
       "      <td>0.577350269189626</td>\n",
       "      <td>3.00000000000000</td>\n",
       "    </tr>\n",
       "    <tr>\n",
       "      <th>12</th>\n",
       "      <td>0.000000e+00</td>\n",
       "      <td>0.000000e+00</td>\n",
       "      <td>0.000000e+00</td>\n",
       "      <td>-1.665335e-16</td>\n",
       "      <td>-0.577350269189626</td>\n",
       "      <td>1.15470053837925</td>\n",
       "      <td>0.577350269189626</td>\n",
       "      <td>3.00000000000000</td>\n",
       "    </tr>\n",
       "    <tr>\n",
       "      <th>13</th>\n",
       "      <td>0.000000e+00</td>\n",
       "      <td>0.000000e+00</td>\n",
       "      <td>0.000000e+00</td>\n",
       "      <td>-1.665335e-16</td>\n",
       "      <td>-0.577350269189626</td>\n",
       "      <td>1.15470053837925</td>\n",
       "      <td>0.577350269189626</td>\n",
       "      <td>3.00000000000000</td>\n",
       "    </tr>\n",
       "    <tr>\n",
       "      <th>14</th>\n",
       "      <td>0.000000e+00</td>\n",
       "      <td>0.000000e+00</td>\n",
       "      <td>0.000000e+00</td>\n",
       "      <td>-1.665335e-16</td>\n",
       "      <td>-0.577350269189626</td>\n",
       "      <td>1.15470053837925</td>\n",
       "      <td>0.577350269189626</td>\n",
       "      <td>3.00000000000000</td>\n",
       "    </tr>\n",
       "    <tr>\n",
       "      <th>15</th>\n",
       "      <td>0.000000e+00</td>\n",
       "      <td>0.000000e+00</td>\n",
       "      <td>0.000000e+00</td>\n",
       "      <td>-1.665335e-16</td>\n",
       "      <td>-0.577350269189626</td>\n",
       "      <td>1.15470053837925</td>\n",
       "      <td>0.577350269189626</td>\n",
       "      <td>3.00000000000000</td>\n",
       "    </tr>\n",
       "    <tr>\n",
       "      <th>16</th>\n",
       "      <td>0.000000e+00</td>\n",
       "      <td>0.000000e+00</td>\n",
       "      <td>0.000000e+00</td>\n",
       "      <td>-1.665335e-16</td>\n",
       "      <td>-0.577350269189626</td>\n",
       "      <td>1.15470053837925</td>\n",
       "      <td>0.577350269189626</td>\n",
       "      <td>3.00000000000000</td>\n",
       "    </tr>\n",
       "    <tr>\n",
       "      <th>17</th>\n",
       "      <td>0.000000e+00</td>\n",
       "      <td>0.000000e+00</td>\n",
       "      <td>0.000000e+00</td>\n",
       "      <td>-1.665335e-16</td>\n",
       "      <td>-0.577350269189626</td>\n",
       "      <td>1.15470053837925</td>\n",
       "      <td>0.577350269189626</td>\n",
       "      <td>3.00000000000000</td>\n",
       "    </tr>\n",
       "    <tr>\n",
       "      <th>18</th>\n",
       "      <td>0.000000e+00</td>\n",
       "      <td>0.000000e+00</td>\n",
       "      <td>0.000000e+00</td>\n",
       "      <td>-1.665335e-16</td>\n",
       "      <td>-0.577350269189626</td>\n",
       "      <td>1.15470053837925</td>\n",
       "      <td>0.577350269189626</td>\n",
       "      <td>3.00000000000000</td>\n",
       "    </tr>\n",
       "    <tr>\n",
       "      <th>19</th>\n",
       "      <td>0.000000e+00</td>\n",
       "      <td>0.000000e+00</td>\n",
       "      <td>0.000000e+00</td>\n",
       "      <td>-1.665335e-16</td>\n",
       "      <td>-0.577350269189626</td>\n",
       "      <td>1.15470053837925</td>\n",
       "      <td>0.577350269189626</td>\n",
       "      <td>3.00000000000000</td>\n",
       "    </tr>\n",
       "  </tbody>\n",
       "</table>\n",
       "</div>"
      ],
      "text/plain": [
       "     f1_original   f2_original   f3_original   f4_original  \\\n",
       "0   1.303030e+00 -2.000000e-01  3.333333e-01  2.083333e+00   \n",
       "1   4.152531e-01  4.166668e-01 -6.591193e-02  7.177809e-01   \n",
       "2   6.839931e-02  1.010649e-01  3.650287e-02  1.065920e-01   \n",
       "3   4.051319e-03  6.627079e-03  4.033374e-03  2.602721e-03   \n",
       "4   1.807113e-05  3.033466e-05  1.939890e-05  4.033315e-06   \n",
       "5   3.646388e-10  6.434946e-10  4.073661e-10  6.739914e-11   \n",
       "6   0.000000e+00  0.000000e+00  2.220446e-16 -5.551115e-17   \n",
       "7   0.000000e+00  2.220446e-16  0.000000e+00  5.551115e-17   \n",
       "8   0.000000e+00  0.000000e+00  0.000000e+00 -1.665335e-16   \n",
       "9   0.000000e+00  0.000000e+00  0.000000e+00 -1.665335e-16   \n",
       "10  0.000000e+00  0.000000e+00  0.000000e+00 -1.665335e-16   \n",
       "11  0.000000e+00  0.000000e+00  0.000000e+00 -1.665335e-16   \n",
       "12  0.000000e+00  0.000000e+00  0.000000e+00 -1.665335e-16   \n",
       "13  0.000000e+00  0.000000e+00  0.000000e+00 -1.665335e-16   \n",
       "14  0.000000e+00  0.000000e+00  0.000000e+00 -1.665335e-16   \n",
       "15  0.000000e+00  0.000000e+00  0.000000e+00 -1.665335e-16   \n",
       "16  0.000000e+00  0.000000e+00  0.000000e+00 -1.665335e-16   \n",
       "17  0.000000e+00  0.000000e+00  0.000000e+00 -1.665335e-16   \n",
       "18  0.000000e+00  0.000000e+00  0.000000e+00 -1.665335e-16   \n",
       "19  0.000000e+00  0.000000e+00  0.000000e+00 -1.665335e-16   \n",
       "\n",
       "                    wi                xi                 yi                zi  \n",
       "0   -0.166666666666667  1.83333333333333  0.833333333333333  1.50000000000000  \n",
       "1   -0.749002267573696  1.41902494331066  0.378344671201814  2.26500000000000  \n",
       "2   -0.618743750742283  1.18506530470684  0.565126868403683  2.80888248967276  \n",
       "3   -0.579333325866557  1.15496108412877  0.577096623107136  2.98662842925886  \n",
       "4   -0.577358202144695  1.15469908709239  0.577348731703076  2.99993899221317  \n",
       "5   -0.577350269363489  1.15470053833682  0.577350269158996  2.99999999874529  \n",
       "6   -0.577350269189626  1.15470053837925  0.577350269189626  3.00000000000000  \n",
       "7   -0.577350269189626  1.15470053837925  0.577350269189626  3.00000000000000  \n",
       "8   -0.577350269189626  1.15470053837925  0.577350269189626  3.00000000000000  \n",
       "9   -0.577350269189626  1.15470053837925  0.577350269189626  3.00000000000000  \n",
       "10  -0.577350269189626  1.15470053837925  0.577350269189626  3.00000000000000  \n",
       "11  -0.577350269189626  1.15470053837925  0.577350269189626  3.00000000000000  \n",
       "12  -0.577350269189626  1.15470053837925  0.577350269189626  3.00000000000000  \n",
       "13  -0.577350269189626  1.15470053837925  0.577350269189626  3.00000000000000  \n",
       "14  -0.577350269189626  1.15470053837925  0.577350269189626  3.00000000000000  \n",
       "15  -0.577350269189626  1.15470053837925  0.577350269189626  3.00000000000000  \n",
       "16  -0.577350269189626  1.15470053837925  0.577350269189626  3.00000000000000  \n",
       "17  -0.577350269189626  1.15470053837925  0.577350269189626  3.00000000000000  \n",
       "18  -0.577350269189626  1.15470053837925  0.577350269189626  3.00000000000000  \n",
       "19  -0.577350269189626  1.15470053837925  0.577350269189626  3.00000000000000  "
      ]
     },
     "metadata": {},
     "output_type": "display_data"
    },
    {
     "name": "stdout",
     "output_type": "stream",
     "text": [
      "\n",
      "\n",
      "Entonces aqui tenemos las soluciones presentadas en forma tabular.\n"
     ]
    }
   ],
   "source": [
    "# Declaramos nuestro punto inicial y las iteraciones maximas a realizar\n",
    "\n",
    "iteraciones_maximas = 20\n",
    "iteraciones = 0\n",
    "\n",
    "w_i= 1\n",
    "x_i= 1\n",
    "y_i= 1\n",
    "z_i= 1\n",
    "\n",
    "\n",
    "#Data Frame donde guardaremos los resultados.\n",
    "df = pd.DataFrame()\n",
    "\n",
    "#Proceso que se repetira hasta igualar el numero de iteraciones necesarias.\n",
    "while iteraciones < iteraciones_maximas:\n",
    "    \n",
    "    jacobiano_evaluado = jacobiano_inverso.subs({x:x_i,y:y_i,z:z_i,w:w_i})#Evaluamos el jacobiano en el punto dado.\n",
    "    \n",
    "    jacobiano_evaluado_inverso = jacobiano_evaluado #Obtenemos la inversa del jacobiano evaluado.\n",
    "    matriz_funciones_evaluado = matriz_funciones.subs({x:x_i,y:y_i,z:z_i, w:w_i}) #Obtenemos nuestras ecuaciones evaluadas.\n",
    "    \n",
    "    solucion_sistema = jacobiano_evaluado_inverso * matriz_funciones_evaluado #Resolvemos el sistema de ecuaciones.\n",
    "    \n",
    "    matriz_solucion = Matrix([w_i , x_i, y_i, z_i]) #Convertimos a matriz nuestras soluciones\n",
    "    \n",
    "    nueva_solucion_matriz = matriz_solucion - solucion_sistema #Resolvemos las ultimas operaciones para dar el nuevo punto\n",
    "    \n",
    "    #Esta sera la nueva solucion de la matriz la cual estamos asignando de nuevo a las variables para repetir el proceso\n",
    "    \n",
    "    #Hay que notar que estamos convirtiendo los numeros a flotantes de nuevo para que sea mas facil trabajar con ellos y rápido.\n",
    "    w_i = float(nueva_solucion_matriz[0,0])\n",
    "    x_i = float(nueva_solucion_matriz[1,0])\n",
    "    y_i = float(nueva_solucion_matriz[2,0])\n",
    "    z_i = float(nueva_solucion_matriz[3,0])\n",
    "\n",
    "    #Solo estamos agregando datos a nuestro data frame\n",
    "    \n",
    "    df = df.append({\n",
    "            'wi':nueva_solucion_matriz[0,0].evalf(),\n",
    "            'xi':nueva_solucion_matriz[1,0].evalf(),\n",
    "            'yi':nueva_solucion_matriz[2,0].evalf(),\n",
    "            'zi':nueva_solucion_matriz[3,0].evalf(),\n",
    "            'f1_original':float(funcion_original_1.subs({w:w_i,x:x_i,y:y_i,z:z_i})), #Se evalua la funcion 1 original en el punto dado\n",
    "            'f2_original':float(funcion_original_2.subs({x:x_i,y:y_i,z:z_i,w:w_i})), #Se evalua la funcion 2 original en el punto dado\n",
    "            'f3_original':float(funcion_original_3.subs({x:x_i,y:y_i,z:z_i,w:w_i})),\n",
    "            'f4_original':float(funcion_original_4.subs({x:x_i,y:y_i,z:z_i,w:w_i}))}, #Se evalua la funcion 3 original en el punto dado\n",
    "            ignore_index=True #Ignorar este parametro.\n",
    "             )\n",
    "    \n",
    "    iteraciones +=1\n",
    "    \n",
    "display(df)\n",
    "\n",
    "print(\"\\n\\nEntonces aqui tenemos las soluciones presentadas en forma tabular.\")"
   ]
  }
 ],
 "metadata": {
  "kernelspec": {
   "display_name": "Python 3",
   "language": "python",
   "name": "python3"
  },
  "language_info": {
   "codemirror_mode": {
    "name": "ipython",
    "version": 3
   },
   "file_extension": ".py",
   "mimetype": "text/x-python",
   "name": "python",
   "nbconvert_exporter": "python",
   "pygments_lexer": "ipython3",
   "version": "3.8.5"
  }
 },
 "nbformat": 4,
 "nbformat_minor": 5
}
