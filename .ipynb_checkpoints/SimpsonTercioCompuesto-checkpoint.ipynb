{
 "cells": [
  {
   "cell_type": "markdown",
   "id": "0760b3f9",
   "metadata": {},
   "source": [
    "# Método Compuesto de Simpson 1/3\n",
    "## Andrade Vidal Fernando Adrian\n",
    "### ¿Qué es el metodo de Simpson 1/3 compuesto?\n",
    "\n",
    "Método de integración para calcular integrales definidas donde se conectan grupos sucesivos de tres puntos sobre la curva mediante parábolas de segundo grado. A las fórmulas que resultan de calcular la integral bajo estos polinomios se les llama Reglas de Simpson.\n",
    "\n",
    "El metodo compuesto tiene como diferencía que podemos definir multiples intervalos como en la regla del trapecio para poder aproximar mejor el área, en este cuadernillo se tratara un ejemplo de esta especie, ya que el metodo simpson 1/3 es menos preciso que este.\n",
    "\n",
    "#### Características\n",
    "+ La función debe ser continua y positiva en el intervalo dado.\n",
    "+ Facíl de utilizar.\n",
    "+ La aproximación es mejor que con la regla del trapecio.\n",
    "+ El número de intervalos \"n\" debe ser par para poder utilizar este metodo.\n",
    "\n",
    "A continuación se muesta una imagen para entender mejor el metodo.\n",
    "\n",
    "![Regla de Simpson 1/3](https://multimedia.uned.ac.cr/pem/metodos_numericos_ensenanza/glosario/img/Simpson1.jpg)"
   ]
  },
  {
   "cell_type": "code",
   "execution_count": 12,
   "id": "ae99bced",
   "metadata": {},
   "outputs": [],
   "source": [
    "from sympy import * #Usaremos SymPy para computo simbólico.\n",
    "from math import e\n",
    "\n",
    "import pandas as pd #Usaremos Pandas para crear y manejar data frames donde registraremos los datos.\n",
    "\n",
    "import IPython.display as disp #Usaremos el display para visualizar ecuaciones."
   ]
  },
  {
   "cell_type": "code",
   "execution_count": 15,
   "id": "44f30131",
   "metadata": {},
   "outputs": [
    {
     "data": {
      "text/html": [
       "<div>\n",
       "<style scoped>\n",
       "    .dataframe tbody tr th:only-of-type {\n",
       "        vertical-align: middle;\n",
       "    }\n",
       "\n",
       "    .dataframe tbody tr th {\n",
       "        vertical-align: top;\n",
       "    }\n",
       "\n",
       "    .dataframe thead th {\n",
       "        text-align: right;\n",
       "    }\n",
       "</style>\n",
       "<table border=\"1\" class=\"dataframe\">\n",
       "  <thead>\n",
       "    <tr style=\"text-align: right;\">\n",
       "      <th></th>\n",
       "      <th>x</th>\n",
       "      <th>y</th>\n",
       "    </tr>\n",
       "  </thead>\n",
       "  <tbody>\n",
       "    <tr>\n",
       "      <th>0</th>\n",
       "      <td>0.00</td>\n",
       "      <td>1</td>\n",
       "    </tr>\n",
       "    <tr>\n",
       "      <th>1</th>\n",
       "      <td>0.25</td>\n",
       "      <td>1.06449445891786</td>\n",
       "    </tr>\n",
       "    <tr>\n",
       "      <th>2</th>\n",
       "      <td>0.50</td>\n",
       "      <td>1.28402541668774</td>\n",
       "    </tr>\n",
       "    <tr>\n",
       "      <th>3</th>\n",
       "      <td>0.75</td>\n",
       "      <td>1.75505465696030</td>\n",
       "    </tr>\n",
       "    <tr>\n",
       "      <th>4</th>\n",
       "      <td>1.00</td>\n",
       "      <td>2.71828182845905</td>\n",
       "    </tr>\n",
       "  </tbody>\n",
       "</table>\n",
       "</div>"
      ],
      "text/plain": [
       "      x                 y\n",
       "0  0.00                 1\n",
       "1  0.25  1.06449445891786\n",
       "2  0.50  1.28402541668774\n",
       "3  0.75  1.75505465696030\n",
       "4  1.00  2.71828182845905"
      ]
     },
     "metadata": {},
     "output_type": "display_data"
    }
   ],
   "source": [
    "#Declaramos los simbolos que usaremos para las ecuaciónes.\n",
    "\n",
    "x = symbols('x')\n",
    "\n",
    "#Insertamos la función de la cual queremos calcular su integral:\n",
    "\n",
    "funcion = (e**x**2)\n",
    "\n",
    "#Insertamos los limites de integración:\n",
    "\n",
    "limite_inferior = 0\n",
    "limite_superior = 1\n",
    "\n",
    "#Aqui calcularemos el espaciamiento que tiene que haber entre los trapecios, para esto necesitamos tambien saber n\n",
    "#n corresponde a los intervalos usados, recordar debe ser un número par.\n",
    "\n",
    "intervalos = 4 #Recuerda que debe ser un número par\n",
    "\n",
    "espaciamiento = (limite_superior - limite_inferior)/intervalos\n",
    "\n",
    "#En esta parte iremos calculando los puntos que ira cortando el trapecio.\n",
    "#Es decir construimos una tabla con los valores que necesitaremos.\n",
    "\n",
    "df = pd.DataFrame()\n",
    "espacio = limite_inferior\n",
    "\n",
    "while espacio <= limite_superior:\n",
    "    \n",
    "    df = df.append({'x':espacio,\n",
    "                    'y':funcion.subs({x:espacio})}, \n",
    "                    ignore_index=True)\n",
    "    espacio += espaciamiento\n",
    "    \n",
    "display(df)\n"
   ]
  },
  {
   "cell_type": "markdown",
   "id": "96702314",
   "metadata": {},
   "source": [
    "Ya que construimos nuestra tabla con los datos que utilizaremos, podemos aplicar la siguiente fórmula:\n",
    "\n",
    "*Nota: En esta fórmula hay que tener en cuenta que los valores de y son los valores de la función.\n",
    "\n",
    "$ \\frac{b-a}{3\\cdot n}\\left[f(a) + 4 \\displaystyle\\sum_{i=1,3,5}^{n-1} f(x_i) +2\\displaystyle\\sum_{i=2,4,6}^{n-2} f(x_j)+ f(b) \\right]$"
   ]
  },
  {
   "cell_type": "code",
   "execution_count": 17,
   "id": "d6a2e9b3",
   "metadata": {},
   "outputs": [
    {
     "name": "stdout",
     "output_type": "stream",
     "text": [
      "1.69023424615052\n"
     ]
    }
   ],
   "source": [
    "#Aqui vamos recorriendo nuestros datos recolectados para ir realizando las operaciones necesarias:\n",
    "resultado = 0\n",
    "\n",
    "for i in range(len(df.index)):\n",
    "    if i == 0:\n",
    "        sumatoria = (espaciamiento/3) * (df['y'][i])   \n",
    "    elif (i < len(df.index) and i % 2 == 0):\n",
    "        sumatoria += (espaciamiento/3) * (2 * df['y'][i])\n",
    "    elif( i < len(df.index) and i % 2 !=0 ):\n",
    "        sumatoria += (espaciamiento/3) * (4*df['y'][i])\n",
    "    elif( i == len(df.index)):\n",
    "        sumatoria += (espaciamiento/3) * (df['y'][i])\n",
    "\n",
    "resultado = sumatoria #Solo asignamos toda la sumatoria al resultado total para presentarlo por debajo.\n",
    "    \n",
    "print(resultado)\n"
   ]
  }
 ],
 "metadata": {
  "kernelspec": {
   "display_name": "Redes",
   "language": "python",
   "name": "redes"
  },
  "language_info": {
   "codemirror_mode": {
    "name": "ipython",
    "version": 3
   },
   "file_extension": ".py",
   "mimetype": "text/x-python",
   "name": "python",
   "nbconvert_exporter": "python",
   "pygments_lexer": "ipython3",
   "version": "3.9.4"
  }
 },
 "nbformat": 4,
 "nbformat_minor": 5
}
