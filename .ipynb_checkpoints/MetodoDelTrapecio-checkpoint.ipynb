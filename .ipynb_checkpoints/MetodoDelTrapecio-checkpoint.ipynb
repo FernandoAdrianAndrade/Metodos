{
 "cells": [
  {
   "cell_type": "markdown",
   "id": "f48604bb",
   "metadata": {},
   "source": [
    "# Regla del trapecio\n",
    "## Andrade Vidal Fernando Adrian\n",
    "### ¿Qué es el método del trapecio?\n",
    "\n",
    "Es un método de integración, es decir, un método para calcular aproximadamente el valor de una integral definida. La integral de esta es igual al área del trapecio bajo la gráfica de la función, podemos usar esta misma regla usando varios trapecios, a esta regla se le conoce como **regla del trapecio compuesta** .\n",
    "\n",
    "#### Características:\n",
    "\n",
    "+ La función debe ser continua y positiva en el intervalo (a,b)\n",
    "+ Facíl de utilizar.\n",
    "+ El resultado converge mientras más trapecios se utilizen en la forma compuesta.\n",
    "\n",
    "A continuación se muestra una imagen que puede representar este método.\n",
    "![Regla del trapecio compuesta](https://upload.wikimedia.org/wikipedia/commons/thumb/0/05/Trapezoidal_rule_illustration_small.svg/1280px-Trapezoidal_rule_illustration_small.svg.png)"
   ]
  },
  {
   "cell_type": "markdown",
   "id": "a8c5d713",
   "metadata": {},
   "source": [
    "El presente cuadernillo proporcionara paso a paso la solución de un sistema de ecuaciones no lineales, aunque puede ser modificado para acoplarlo a tus necesidades."
   ]
  },
  {
   "cell_type": "code",
   "execution_count": 5,
   "id": "b3e36aa4",
   "metadata": {},
   "outputs": [],
   "source": [
    "from sympy import * #Usaremos SymPy para computo simbólico.\n",
    "import math\n",
    "\n",
    "import pandas as pd #Usaremos Pandas para crear y manejar data frames donde registraremos los datos.\n",
    "\n",
    "import IPython.display as disp #Usaremos el display para visualizar ecuaciones."
   ]
  },
  {
   "cell_type": "code",
   "execution_count": 8,
   "id": "146710e6",
   "metadata": {},
   "outputs": [
    {
     "data": {
      "text/html": [
       "<div>\n",
       "<style scoped>\n",
       "    .dataframe tbody tr th:only-of-type {\n",
       "        vertical-align: middle;\n",
       "    }\n",
       "\n",
       "    .dataframe tbody tr th {\n",
       "        vertical-align: top;\n",
       "    }\n",
       "\n",
       "    .dataframe thead th {\n",
       "        text-align: right;\n",
       "    }\n",
       "</style>\n",
       "<table border=\"1\" class=\"dataframe\">\n",
       "  <thead>\n",
       "    <tr style=\"text-align: right;\">\n",
       "      <th></th>\n",
       "      <th>x</th>\n",
       "      <th>y</th>\n",
       "    </tr>\n",
       "  </thead>\n",
       "  <tbody>\n",
       "    <tr>\n",
       "      <th>0</th>\n",
       "      <td>1.0</td>\n",
       "      <td>1</td>\n",
       "    </tr>\n",
       "    <tr>\n",
       "      <th>1</th>\n",
       "      <td>1.2</td>\n",
       "      <td>0.833333333333333</td>\n",
       "    </tr>\n",
       "    <tr>\n",
       "      <th>2</th>\n",
       "      <td>1.4</td>\n",
       "      <td>0.714285714285714</td>\n",
       "    </tr>\n",
       "    <tr>\n",
       "      <th>3</th>\n",
       "      <td>1.6</td>\n",
       "      <td>0.625000000000000</td>\n",
       "    </tr>\n",
       "    <tr>\n",
       "      <th>4</th>\n",
       "      <td>1.8</td>\n",
       "      <td>0.555555555555556</td>\n",
       "    </tr>\n",
       "    <tr>\n",
       "      <th>5</th>\n",
       "      <td>2.0</td>\n",
       "      <td>0.500000000000000</td>\n",
       "    </tr>\n",
       "  </tbody>\n",
       "</table>\n",
       "</div>"
      ],
      "text/plain": [
       "     x                  y\n",
       "0  1.0                  1\n",
       "1  1.2  0.833333333333333\n",
       "2  1.4  0.714285714285714\n",
       "3  1.6  0.625000000000000\n",
       "4  1.8  0.555555555555556\n",
       "5  2.0  0.500000000000000"
      ]
     },
     "metadata": {},
     "output_type": "display_data"
    }
   ],
   "source": [
    "#Declaramos los simbolos que usaremos para las ecuaciónes.\n",
    "\n",
    "x = symbols('x')\n",
    "\n",
    "#Insertamos la función de la cual queremos calcular su integral:\n",
    "\n",
    "funcion = 1/x\n",
    "\n",
    "#Insertamos los limites de integración:\n",
    "\n",
    "limite_inferior = 1\n",
    "limite_superior = 2\n",
    "\n",
    "#Aqui calcularemos el espaciamiento que tiene que haber entre los trapecios, para esto necesitamos tambien saber n\n",
    "#n corresponde a la cantidad de trapecios que usaremos para aproximar el resultaddo, en esta parte hay que cambiarlos\n",
    "\n",
    "numero_trapecios = 5\n",
    "\n",
    "espaciamiento = (limite_superior - limite_inferior)/numero_trapecios\n",
    "\n",
    "#En esta parte iremos calculando los puntos que ira cortando el trapecio.\n",
    "#Es decir construimos una tabla con los valores que necesitaremos.\n",
    "\n",
    "df = pd.DataFrame()\n",
    "espacio = limite_inferior\n",
    "\n",
    "while espacio <= limite_superior:\n",
    "    \n",
    "    df = df.append({'x':espacio,\n",
    "                    'y':funcion.subs({x:espacio})}, \n",
    "                    ignore_index=True)\n",
    "    espacio += espaciamiento\n",
    "    \n",
    "display(df)\n"
   ]
  },
  {
   "cell_type": "markdown",
   "id": "3c58fb1b",
   "metadata": {},
   "source": [
    "Ya que construimos nuestra tabla con los datos que utilizaremos, podemos aplicar la siguiente fórmula:\n",
    "\n",
    "*Nota: En esta fórmula hay que tener en cuenta que los valores de y son los valores de la función, y que h hace referencia al espaciado*\n",
    "\n",
    "$ \\frac{h}{2}\\left[f(x_0) + 2 \\displaystyle\\sum_{i=1}^{n-1} f(x_i) + f(x_n) \\right]$"
   ]
  },
  {
   "cell_type": "code",
   "execution_count": 10,
   "id": "a22d39f3",
   "metadata": {},
   "outputs": [],
   "source": [
    "\n",
    "#Aqui vamos recorriendo nuestros datos recolectados para ir realizando las operaciones necesarias:\n",
    "resultado = 0\n",
    "\n",
    "for i in range(len(df.index)):\n",
    "    if i == 0:\n",
    "        sumatoria = (espaciamiento/2) * (df['y'][i])\n",
    "        \n",
    "    elif i < len(df.index):\n",
    "        sumatoria += (espaciamiento/2) * (2 * df['y'][i])\n",
    "    else:\n",
    "        sumatoria += (espaciamiento/2) * (df['y'][i])  \n",
    "    resultado = sumatoria #Solo asignamos toda la sumatoria al resultado total para presentarlo por debajo.\n"
   ]
  },
  {
   "cell_type": "markdown",
   "id": "300ae20f",
   "metadata": {},
   "source": [
    "**Es muy importante recordar que la función debe ser positiva en ese intervalo dado para evitar problemas, teniendo eso en mente aquí se presenta el resultado de la integral insertada**\n",
    "\n",
    "$\\int_a^b f(x) = $ "
   ]
  },
  {
   "cell_type": "code",
   "execution_count": 12,
   "id": "1e6d3b04",
   "metadata": {},
   "outputs": [
    {
     "name": "stdout",
     "output_type": "stream",
     "text": [
      "De la siguiente función:\n"
     ]
    },
    {
     "data": {
      "text/latex": [
       "$\\displaystyle \\frac{1}{x}$"
      ],
      "text/plain": [
       "1/x"
      ]
     },
     "metadata": {},
     "output_type": "display_data"
    },
    {
     "name": "stdout",
     "output_type": "stream",
     "text": [
      "El resultado aproximado es:\n"
     ]
    },
    {
     "data": {
      "text/plain": [
       "0.7456349206349209"
      ]
     },
     "metadata": {},
     "output_type": "display_data"
    }
   ],
   "source": [
    "print(\"De la siguiente función:\")\n",
    "display(funcion)\n",
    "print(\"El resultado aproximado es:\")\n",
    "display(float(resultado))\n"
   ]
  }
 ],
 "metadata": {
  "kernelspec": {
   "display_name": "Redes",
   "language": "python",
   "name": "redes"
  },
  "language_info": {
   "codemirror_mode": {
    "name": "ipython",
    "version": 3
   },
   "file_extension": ".py",
   "mimetype": "text/x-python",
   "name": "python",
   "nbconvert_exporter": "python",
   "pygments_lexer": "ipython3",
   "version": "3.9.4"
  }
 },
 "nbformat": 4,
 "nbformat_minor": 5
}
