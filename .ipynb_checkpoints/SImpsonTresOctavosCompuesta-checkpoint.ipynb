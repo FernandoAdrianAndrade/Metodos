{
 "cells": [
  {
   "cell_type": "markdown",
   "id": "966e489d",
   "metadata": {},
   "source": [
    "# Método Compuesto de Simpson 3/8\n",
    "## Andrade Vidal Fernando Adrian\n",
    "### ¿Qué es el metodo de Simpson 3/8 compuesto?\n",
    "\n",
    "Método de integración para calcular integrales definidas donde se conectan grupos sucesivos de tres puntos sobre la curva mediante polinomios de tercer grado. A las fórmulas que resultan de calcular la integral bajo estos polinomios se les llama Reglas de Simpson.\n",
    "\n",
    "El metodo compuesto tiene como diferencía que podemos definir multiples intervalos como en la regla del trapecio para poder aproximar mejor el área, en este cuadernillo se tratara un ejemplo de esta especie, ya que el metodo simpson 3/8 es menos preciso que este.\n",
    "\n",
    "#### Características\n",
    "+ La función debe ser continua y positiva en el intervalo dado.\n",
    "+ Es un poco más dificil la fórmula.\n",
    "+ La aproximación es mejor que con la regla de Simpson 1/3.\n",
    "+ El número de intervalos \"n\" debe ser un multiplo de 3 para poder utilizar este metodo.\n",
    "\n",
    "A continuación se muesta una imagen para entender mejor el metodo.\n",
    "\n",
    "![Regla de Simpson 3/8](data:image/png;base64,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)"
   ]
  },
  {
   "cell_type": "code",
   "execution_count": 2,
   "id": "551b2ad5",
   "metadata": {},
   "outputs": [],
   "source": [
    "from sympy import * #Usaremos SymPy para computo simbólico.\n",
    "from math import e\n",
    "\n",
    "import pandas as pd #Usaremos Pandas para crear y manejar data frames donde registraremos los datos.\n",
    "\n",
    "import IPython.display as disp #Usaremos el display para visualizar ecuaciones."
   ]
  },
  {
   "cell_type": "code",
   "execution_count": 3,
   "id": "f396a8ae",
   "metadata": {},
   "outputs": [
    {
     "data": {
      "text/html": [
       "<div>\n",
       "<style scoped>\n",
       "    .dataframe tbody tr th:only-of-type {\n",
       "        vertical-align: middle;\n",
       "    }\n",
       "\n",
       "    .dataframe tbody tr th {\n",
       "        vertical-align: top;\n",
       "    }\n",
       "\n",
       "    .dataframe thead th {\n",
       "        text-align: right;\n",
       "    }\n",
       "</style>\n",
       "<table border=\"1\" class=\"dataframe\">\n",
       "  <thead>\n",
       "    <tr style=\"text-align: right;\">\n",
       "      <th></th>\n",
       "      <th>x</th>\n",
       "      <th>y</th>\n",
       "    </tr>\n",
       "  </thead>\n",
       "  <tbody>\n",
       "    <tr>\n",
       "      <th>0</th>\n",
       "      <td>0.000000</td>\n",
       "      <td>1</td>\n",
       "    </tr>\n",
       "    <tr>\n",
       "      <th>1</th>\n",
       "      <td>0.166667</td>\n",
       "      <td>1.02816717743771</td>\n",
       "    </tr>\n",
       "    <tr>\n",
       "      <th>2</th>\n",
       "      <td>0.333333</td>\n",
       "      <td>1.11751906874186</td>\n",
       "    </tr>\n",
       "    <tr>\n",
       "      <th>3</th>\n",
       "      <td>0.500000</td>\n",
       "      <td>1.28402541668774</td>\n",
       "    </tr>\n",
       "    <tr>\n",
       "      <th>4</th>\n",
       "      <td>0.666667</td>\n",
       "      <td>1.55962349760678</td>\n",
       "    </tr>\n",
       "    <tr>\n",
       "      <th>5</th>\n",
       "      <td>0.833333</td>\n",
       "      <td>2.00259621139054</td>\n",
       "    </tr>\n",
       "    <tr>\n",
       "      <th>6</th>\n",
       "      <td>1.000000</td>\n",
       "      <td>2.71828182845904</td>\n",
       "    </tr>\n",
       "  </tbody>\n",
       "</table>\n",
       "</div>"
      ],
      "text/plain": [
       "          x                 y\n",
       "0  0.000000                 1\n",
       "1  0.166667  1.02816717743771\n",
       "2  0.333333  1.11751906874186\n",
       "3  0.500000  1.28402541668774\n",
       "4  0.666667  1.55962349760678\n",
       "5  0.833333  2.00259621139054\n",
       "6  1.000000  2.71828182845904"
      ]
     },
     "metadata": {},
     "output_type": "display_data"
    }
   ],
   "source": [
    "#Declaramos los simbolos que usaremos para las ecuaciónes.\n",
    "\n",
    "x = symbols('x')\n",
    "\n",
    "#Insertamos la función de la cual queremos calcular su integral:\n",
    "\n",
    "funcion = (e**x**2)\n",
    "\n",
    "#Insertamos los limites de integración:\n",
    "\n",
    "limite_inferior = 0\n",
    "limite_superior = 1\n",
    "\n",
    "#Aqui calcularemos el espaciamiento que tiene que haber entre los trapecios, para esto necesitamos tambien saber n\n",
    "#n corresponde a los intervalos usados, recordar debe ser un número multiplo de 3.\n",
    "\n",
    "intervalos = 6 #Recuerda que debe ser un número multiplo de 3\n",
    "\n",
    "espaciamiento = (limite_superior - limite_inferior)/intervalos\n",
    "\n",
    "#En esta parte iremos calculando los puntos que ira cortando el trapecio.\n",
    "#Es decir construimos una tabla con los valores que necesitaremos.\n",
    "\n",
    "df = pd.DataFrame()\n",
    "espacio = limite_inferior\n",
    "\n",
    "while espacio <= limite_superior:\n",
    "    \n",
    "    df = df.append({'x':espacio,\n",
    "                    'y':funcion.subs({x:espacio})}, \n",
    "                    ignore_index=True)\n",
    "    espacio += espaciamiento\n",
    "    \n",
    "display(df)"
   ]
  },
  {
   "cell_type": "markdown",
   "id": "dc574708",
   "metadata": {},
   "source": [
    "Ya que construimos nuestra tabla con los datos que utilizaremos, podemos aplicar la siguiente fórmula:\n",
    "\n",
    "*Nota: En esta fórmula hay que tener en cuenta que los valores de y son los valores de la función.\n",
    "\n",
    "$ \\frac{3\\cdot h}{8}\\left[f(a) + 3 \\displaystyle\\sum_{i=1,4,7}^{n-2} f(x_i) +3\\displaystyle\\sum_{j=2,5,8}^{n-1} f(x_j)+2\\displaystyle\\sum_{m=3,6,9}^{n-3} f(x_m)+ f(b) \\right]$"
   ]
  },
  {
   "cell_type": "code",
   "execution_count": 7,
   "id": "f9b32535",
   "metadata": {},
   "outputs": [],
   "source": [
    "#Aqui vamos recorriendo nuestros datos recolectados para ir realizando las operaciones necesarias:\n",
    "resultado = 0\n",
    "\n",
    "for i in range(len(df.index)):\n",
    "    if i == 0:\n",
    "        sumatoria = ((espaciamiento*3)/8) * (df['y'][i])   \n",
    "    elif (i < len(df.index) and i % 3 == 0):\n",
    "        sumatoria += ((espaciamiento*3)/8) * (2 * df['y'][i])\n",
    "    elif( i < len(df.index) and i % 3 !=0 ):\n",
    "        sumatoria += ((espaciamiento*3)/8) * (3*df['y'][i])\n",
    "    elif( i == len(df.index)):\n",
    "        sumatoria += ((espaciamiento*3)/8) * (df['y'][i])\n",
    "\n",
    "resultado = sumatoria #Solo asignamos toda la sumatoria al resultado total para presentarlo por debajo."
   ]
  },
  {
   "cell_type": "markdown",
   "id": "98a08c67",
   "metadata": {},
   "source": [
    "**Es muy importante recordar que la función debe ser positiva en ese intervalo dado para evitar problemas, teniendo eso en mente aquí se presenta el resultado de la integral insertada**\n",
    "\n",
    "$\\int_a^b f(x) = $ "
   ]
  },
  {
   "cell_type": "code",
   "execution_count": 8,
   "id": "05f4e1a4",
   "metadata": {},
   "outputs": [
    {
     "name": "stdout",
     "output_type": "stream",
     "text": [
      "De la siguiente función:\n"
     ]
    },
    {
     "data": {
      "text/latex": [
       "$\\displaystyle 2.71828182845905^{x^{2}}$"
      ],
      "text/plain": [
       "2.71828182845905**(x**2)"
      ]
     },
     "metadata": {},
     "output_type": "display_data"
    },
    {
     "name": "stdout",
     "output_type": "stream",
     "text": [
      "El resultado aproximado es:\n"
     ]
    },
    {
     "data": {
      "text/latex": [
       "$\\displaystyle 1.63302077223902$"
      ],
      "text/plain": [
       "1.63302077223902"
      ]
     },
     "metadata": {},
     "output_type": "display_data"
    }
   ],
   "source": [
    "print(\"De la siguiente función:\")\n",
    "display(funcion)\n",
    "print(\"El resultado aproximado es:\")\n",
    "display(resultado)"
   ]
  }
 ],
 "metadata": {
  "kernelspec": {
   "display_name": "Python 3",
   "language": "python",
   "name": "python3"
  },
  "language_info": {
   "codemirror_mode": {
    "name": "ipython",
    "version": 3
   },
   "file_extension": ".py",
   "mimetype": "text/x-python",
   "name": "python",
   "nbconvert_exporter": "python",
   "pygments_lexer": "ipython3",
   "version": "3.8.5"
  }
 },
 "nbformat": 4,
 "nbformat_minor": 5
}
