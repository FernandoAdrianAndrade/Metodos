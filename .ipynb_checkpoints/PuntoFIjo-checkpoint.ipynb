{
 "cells": [
  {
   "cell_type": "markdown",
   "metadata": {},
   "source": [
    "# Método del punto fijo.\n",
    "\n",
    "## Andrade Vidal Fernando Adrian.\n",
    "\n",
    "### ¿Qué es el método del punto fijo?\n",
    "\n",
    "El método del punto fijo es util para poder encontrar soluciones a sistemas de ecuaciones que pueden o no ser no lineales.\n",
    "\n",
    "#### Características:\n",
    "\n",
    "+ Para poder usar el método es necesario contar con una buena aproximación a su solución.\n",
    "+ Es necesario que las ecuaciones sean continuas.\n",
    "+ Este método tiene una convergencia lenta(lineal).\n",
    "\n",
    "El presente cuadernillo proporcionara paso a paso la solución de un sistema de ecuaciones no lineales, aunque puede ser modificado para acoplarlo a tus necesidades."
   ]
  },
  {
   "cell_type": "code",
   "execution_count": 2,
   "metadata": {},
   "outputs": [],
   "source": [
    "from sympy import * #Usaremos SymPy para computo simbólico.\n",
    "\n",
    "import pandas as pd #Usaremos Pandas para crear y manejar data frames donde registraremos los datos.\n",
    "\n",
    "import IPython.display as disp #Usaremos el display para visualizar ecuaciones."
   ]
  },
  {
   "cell_type": "markdown",
   "metadata": {},
   "source": [
    "Estableceremos 3 variables, aunque se pueden añadir más en esta declaración de variables."
   ]
  },
  {
   "cell_type": "code",
   "execution_count": 28,
   "metadata": {},
   "outputs": [
    {
     "name": "stdout",
     "output_type": "stream",
     "text": [
      "Esta es la primer ecuación original: \n",
      "\n"
     ]
    },
    {
     "data": {
      "text/latex": [
       "$\\displaystyle - x \\left(x + 1\\right) + 2 y - 18$"
      ],
      "text/plain": [
       "-x*(x + 1) + 2*y - 18"
      ]
     },
     "metadata": {},
     "output_type": "display_data"
    },
    {
     "name": "stdout",
     "output_type": "stream",
     "text": [
      "\n",
      "\n",
      "Esta es la segunda ecuación original: \n",
      "\n"
     ]
    },
    {
     "data": {
      "text/latex": [
       "$\\displaystyle x + \\left(y - 6\\right)^{2} - 26$"
      ],
      "text/plain": [
       "x + (y - 6)**2 - 26"
      ]
     },
     "metadata": {},
     "output_type": "display_data"
    },
    {
     "name": "stdout",
     "output_type": "stream",
     "text": [
      "\n",
      "\n",
      "Este es el despeje de la primer ecuación que se usara:\n",
      "\n"
     ]
    },
    {
     "data": {
      "text/latex": [
       "$\\displaystyle -1 - \\frac{18 - 2 y}{x}$"
      ],
      "text/plain": [
       "-1 - (18 - 2*y)/x"
      ]
     },
     "metadata": {},
     "output_type": "display_data"
    },
    {
     "name": "stdout",
     "output_type": "stream",
     "text": [
      "\n",
      "\n",
      "Este es el despeje de la segunda ecuación que se usara:\n",
      "\n"
     ]
    },
    {
     "data": {
      "text/latex": [
       "$\\displaystyle \\left(- x + 12 y - 10\\right)^{0.5}$"
      ],
      "text/plain": [
       "(-x + 12*y - 10)**0.5"
      ]
     },
     "metadata": {},
     "output_type": "display_data"
    }
   ],
   "source": [
    "x,y,z = symbols('x y z')#Declaramos los simbolos que usaremos para las ecuaciónes\n",
    "\n",
    "funcion_original_1 = -x*(x+1)+2*y-18  #Primer ecuación original\n",
    "funcion_original_2 = (x-1)+((y-6)**2)-25  #Segunda ecuación original\n",
    "\n",
    "funcion_1 = ((18-2*y)/(-x))-1   #Primer ecuación con x despejada\n",
    "funcion_2 = (12*y-10-x)**(1/2) #Segunda ecuación con y despejada\n",
    "\n",
    "print(\"Esta es la primer ecuación original: \\n\")\n",
    "disp.display(funcion_original_1)\n",
    "print(\"\\n\\nEsta es la segunda ecuación original: \\n\")\n",
    "disp.display(funcion_original_2)\n",
    "print(\"\\n\\nEste es el despeje de la primer ecuación que se usara:\\n\")\n",
    "disp.display(funcion_1)\n",
    "print(\"\\n\\nEste es el despeje de la segunda ecuación que se usara:\\n\")\n",
    "disp.display(funcion_2)\n",
    "\n"
   ]
  },
  {
   "cell_type": "markdown",
   "metadata": {},
   "source": [
    "Ahora aqui pediremos el punto inicial donde se evaluaran las expresiones y el número máximo de iteraciones, realizaremos evaluaciones cambiando las variables en que se estan evaluando iterativamente pero solo despues de evaluarlos y el proceso se repetira hasta que alcanzemos el número máximo de iteraciones."
   ]
  },
  {
   "cell_type": "code",
   "execution_count": 40,
   "metadata": {
    "scrolled": false
   },
   "outputs": [
    {
     "data": {
      "text/html": [
       "<div>\n",
       "<style scoped>\n",
       "    .dataframe tbody tr th:only-of-type {\n",
       "        vertical-align: middle;\n",
       "    }\n",
       "\n",
       "    .dataframe tbody tr th {\n",
       "        vertical-align: top;\n",
       "    }\n",
       "\n",
       "    .dataframe thead th {\n",
       "        text-align: right;\n",
       "    }\n",
       "</style>\n",
       "<table border=\"1\" class=\"dataframe\">\n",
       "  <thead>\n",
       "    <tr style=\"text-align: right;\">\n",
       "      <th></th>\n",
       "      <th>f1_original</th>\n",
       "      <th>f2_original</th>\n",
       "      <th>xi</th>\n",
       "      <th>xi-1</th>\n",
       "      <th>yi</th>\n",
       "      <th>yi-1</th>\n",
       "    </tr>\n",
       "  </thead>\n",
       "  <tbody>\n",
       "    <tr>\n",
       "      <th>0</th>\n",
       "      <td>0.250000000000000</td>\n",
       "      <td>0.500000000000000</td>\n",
       "      <td>1.66666666666667</td>\n",
       "      <td>1.5</td>\n",
       "      <td>10.9772492000501</td>\n",
       "      <td>11.0</td>\n",
       "    </tr>\n",
       "    <tr>\n",
       "      <th>1</th>\n",
       "      <td>-0.489946044344297</td>\n",
       "      <td>0.439676266065756</td>\n",
       "      <td>1.37269904006009</td>\n",
       "      <td>1.66666666666667</td>\n",
       "      <td>10.9572041933120</td>\n",
       "      <td>10.9772492000501</td>\n",
       "    </tr>\n",
       "    <tr>\n",
       "      <th>2</th>\n",
       "      <td>0.657406691982036</td>\n",
       "      <td>-0.0534275457497806</td>\n",
       "      <td>1.85161442704343</td>\n",
       "      <td>1.37269904006009</td>\n",
       "      <td>10.9596419320927</td>\n",
       "      <td>10.9572041933120</td>\n",
       "    </tr>\n",
       "    <tr>\n",
       "      <th>3</th>\n",
       "      <td>-1.36080654929346</td>\n",
       "      <td>0.449662521615334</td>\n",
       "      <td>1.11668466552373</td>\n",
       "      <td>1.85161442704343</td>\n",
       "      <td>10.9391082249911</td>\n",
       "      <td>10.9596419320927</td>\n",
       "    </tr>\n",
       "    <tr>\n",
       "      <th>4</th>\n",
       "      <td>1.51454714224268</td>\n",
       "      <td>-0.488525276301228</td>\n",
       "      <td>2.47297367799293</td>\n",
       "      <td>1.11668466552373</td>\n",
       "      <td>10.9614147825164</td>\n",
       "      <td>10.9391082249911</td>\n",
       "    </tr>\n",
       "    <tr>\n",
       "      <th>...</th>\n",
       "      <td>...</td>\n",
       "      <td>...</td>\n",
       "      <td>...</td>\n",
       "      <td>...</td>\n",
       "      <td>...</td>\n",
       "      <td>...</td>\n",
       "    </tr>\n",
       "    <tr>\n",
       "      <th>56</th>\n",
       "      <td>5.47710463649764e-8</td>\n",
       "      <td>1.68894374041884e-8</td>\n",
       "      <td>-2.72933875727430</td>\n",
       "      <td>-2.72933873720678</td>\n",
       "      <td>11.3599756292475</td>\n",
       "      <td>11.3599756299909</td>\n",
       "    </tr>\n",
       "    <tr>\n",
       "      <th>57</th>\n",
       "      <td>-3.61902827705762e-8</td>\n",
       "      <td>-1.11470228603139e-8</td>\n",
       "      <td>-2.72933874401457</td>\n",
       "      <td>-2.72933875727430</td>\n",
       "      <td>11.3599756297381</td>\n",
       "      <td>11.3599756292475</td>\n",
       "    </tr>\n",
       "    <tr>\n",
       "      <th>58</th>\n",
       "      <td>2.39118094214064e-8</td>\n",
       "      <td>7.37218996960110e-9</td>\n",
       "      <td>-2.72933875277560</td>\n",
       "      <td>-2.72933874401457</td>\n",
       "      <td>11.3599756294137</td>\n",
       "      <td>11.3599756297381</td>\n",
       "    </tr>\n",
       "    <tr>\n",
       "      <th>59</th>\n",
       "      <td>-1.57997455119130e-8</td>\n",
       "      <td>-4.86726037252083e-9</td>\n",
       "      <td>-2.72933874698674</td>\n",
       "      <td>-2.72933875277560</td>\n",
       "      <td>11.3599756296279</td>\n",
       "      <td>11.3599756294137</td>\n",
       "    </tr>\n",
       "    <tr>\n",
       "      <th>60</th>\n",
       "      <td>1.04393507172063e-8</td>\n",
       "      <td>3.21811555181739e-9</td>\n",
       "      <td>-2.72933875081161</td>\n",
       "      <td>-2.72933874698674</td>\n",
       "      <td>11.3599756294862</td>\n",
       "      <td>11.3599756296279</td>\n",
       "    </tr>\n",
       "  </tbody>\n",
       "</table>\n",
       "<p>61 rows × 6 columns</p>\n",
       "</div>"
      ],
      "text/plain": [
       "             f1_original           f2_original                 xi  \\\n",
       "0      0.250000000000000     0.500000000000000   1.66666666666667   \n",
       "1     -0.489946044344297     0.439676266065756   1.37269904006009   \n",
       "2      0.657406691982036   -0.0534275457497806   1.85161442704343   \n",
       "3      -1.36080654929346     0.449662521615334   1.11668466552373   \n",
       "4       1.51454714224268    -0.488525276301228   2.47297367799293   \n",
       "..                   ...                   ...                ...   \n",
       "56   5.47710463649764e-8   1.68894374041884e-8  -2.72933875727430   \n",
       "57  -3.61902827705762e-8  -1.11470228603139e-8  -2.72933874401457   \n",
       "58   2.39118094214064e-8   7.37218996960110e-9  -2.72933875277560   \n",
       "59  -1.57997455119130e-8  -4.86726037252083e-9  -2.72933874698674   \n",
       "60   1.04393507172063e-8   3.21811555181739e-9  -2.72933875081161   \n",
       "\n",
       "                 xi-1                yi              yi-1  \n",
       "0                 1.5  10.9772492000501              11.0  \n",
       "1    1.66666666666667  10.9572041933120  10.9772492000501  \n",
       "2    1.37269904006009  10.9596419320927  10.9572041933120  \n",
       "3    1.85161442704343  10.9391082249911  10.9596419320927  \n",
       "4    1.11668466552373  10.9614147825164  10.9391082249911  \n",
       "..                ...               ...               ...  \n",
       "56  -2.72933873720678  11.3599756292475  11.3599756299909  \n",
       "57  -2.72933875727430  11.3599756297381  11.3599756292475  \n",
       "58  -2.72933874401457  11.3599756294137  11.3599756297381  \n",
       "59  -2.72933875277560  11.3599756296279  11.3599756294137  \n",
       "60  -2.72933874698674  11.3599756294862  11.3599756296279  \n",
       "\n",
       "[61 rows x 6 columns]"
      ]
     },
     "metadata": {},
     "output_type": "display_data"
    }
   ],
   "source": [
    "iteraciones_maximas = 60\n",
    "iteraciones = 0\n",
    "x_0 = 1.5\n",
    "y_0 = 11\n",
    "z_0 = 0\n",
    "\n",
    "\n",
    "df = pd.DataFrame()\n",
    "\n",
    "\n",
    "\n",
    "while iteraciones <= iteraciones_maximas:\n",
    "    \n",
    "    df = df.append({'f1_original':funcion_original_1.subs({x:x_0,y:y_0,z:z_0}), \n",
    "              'f2_original':funcion_original_2.subs({x:x_0,y:y_0,z:z_0}),\n",
    "              'xi-1':x_0,\n",
    "              'yi-1':y_0,\n",
    "              'xi':funcion_1.subs({x:x_0,y:y_0,z:z_0}),\n",
    "              'yi':funcion_2.subs({x:x_0,y:y_0,z:z_0})},\n",
    "              ignore_index=True\n",
    "             )\n",
    "    x_0temp = funcion_1.subs({x:x_0,y:y_0,z:z_0})\n",
    "    y_0temp = funcion_2.subs({x:x_0,y:y_0,z:z_0})\n",
    "    \n",
    "    x_0 = x_0temp\n",
    "    y_0 = y_0temp\n",
    "    \n",
    "    iteraciones+=1\n",
    "    \n",
    "\n",
    "display(df)\n",
    "    \n",
    "\n",
    "\n"
   ]
  }
 ],
 "metadata": {
  "kernelspec": {
   "display_name": "Python 3",
   "language": "python",
   "name": "python3"
  },
  "language_info": {
   "codemirror_mode": {
    "name": "ipython",
    "version": 3
   },
   "file_extension": ".py",
   "mimetype": "text/x-python",
   "name": "python",
   "nbconvert_exporter": "python",
   "pygments_lexer": "ipython3",
   "version": "3.8.5"
  }
 },
 "nbformat": 4,
 "nbformat_minor": 4
}
