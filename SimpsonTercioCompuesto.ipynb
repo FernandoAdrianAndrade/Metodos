{
 "cells": [
  {
   "cell_type": "markdown",
   "id": "e5a296a3",
   "metadata": {},
   "source": [
    "# Método Compuesto de Simpson 1/3\n",
    "## Andrade Vidal Fernando Adrian\n",
    "### ¿Qué es el metodo de Simpson 1/3 compuesto?\n",
    "\n",
    "Método de integración para calcular integrales definidas donde se conectan grupos sucesivos de tres puntos sobre la curva mediante parábolas de segundo grado. A las fórmulas que resultan de calcular la integral bajo estos polinomios se les llama Reglas de Simpson.\n",
    "\n",
    "El metodo compuesto tiene como diferencía que podemos definir multiples intervalos como en la regla del trapecio para poder aproximar mejor el área, en este cuadernillo se tratara un ejemplo de esta especie, ya que el metodo simpson 1/3 es menos preciso que este.\n",
    "\n",
    "#### Características\n",
    "+ La función debe ser continua y positiva en el intervalo dado.\n",
    "+ Facíl de utilizar.\n",
    "+ La aproximación es mejor que con la regla del trapecio.\n",
    "+ El número de intervalos \"n\" debe ser par para poder utilizar este metodo.\n",
    "\n",
    "A continuación se muesta una imagen para entender mejor el metodo.\n",
    "\n",
    "![Regla de Simpson 1/3](https://multimedia.uned.ac.cr/pem/metodos_numericos_ensenanza/glosario/img/Simpson1.jpg)"
   ]
  },
  {
   "cell_type": "code",
   "execution_count": 1,
   "id": "8c28da2b",
   "metadata": {},
   "outputs": [],
   "source": [
    "from sympy import * #Usaremos SymPy para computo simbólico.\n",
    "from math import e\n",
    "\n",
    "import pandas as pd #Usaremos Pandas para crear y manejar data frames donde registraremos los datos.\n",
    "\n",
    "import IPython.display as disp #Usaremos el display para visualizar ecuaciones."
   ]
  },
  {
   "cell_type": "code",
   "execution_count": 28,
   "id": "5ed0e003",
   "metadata": {},
   "outputs": [
    {
     "data": {
      "text/html": [
       "<div>\n",
       "<style scoped>\n",
       "    .dataframe tbody tr th:only-of-type {\n",
       "        vertical-align: middle;\n",
       "    }\n",
       "\n",
       "    .dataframe tbody tr th {\n",
       "        vertical-align: top;\n",
       "    }\n",
       "\n",
       "    .dataframe thead th {\n",
       "        text-align: right;\n",
       "    }\n",
       "</style>\n",
       "<table border=\"1\" class=\"dataframe\">\n",
       "  <thead>\n",
       "    <tr style=\"text-align: right;\">\n",
       "      <th></th>\n",
       "      <th>x</th>\n",
       "      <th>y</th>\n",
       "    </tr>\n",
       "  </thead>\n",
       "  <tbody>\n",
       "    <tr>\n",
       "      <th>0</th>\n",
       "      <td>0.00</td>\n",
       "      <td>0</td>\n",
       "    </tr>\n",
       "    <tr>\n",
       "      <th>1</th>\n",
       "      <td>0.25</td>\n",
       "      <td>0.0587133164258422</td>\n",
       "    </tr>\n",
       "    <tr>\n",
       "      <th>2</th>\n",
       "      <td>0.50</td>\n",
       "      <td>0.194700195767851</td>\n",
       "    </tr>\n",
       "    <tr>\n",
       "      <th>3</th>\n",
       "      <td>0.75</td>\n",
       "      <td>0.320502838911144</td>\n",
       "    </tr>\n",
       "    <tr>\n",
       "      <th>4</th>\n",
       "      <td>1.00</td>\n",
       "      <td>0.367879441171442</td>\n",
       "    </tr>\n",
       "    <tr>\n",
       "      <th>5</th>\n",
       "      <td>1.25</td>\n",
       "      <td>0.327517792423590</td>\n",
       "    </tr>\n",
       "    <tr>\n",
       "      <th>6</th>\n",
       "      <td>1.50</td>\n",
       "      <td>0.237148255264195</td>\n",
       "    </tr>\n",
       "    <tr>\n",
       "      <th>7</th>\n",
       "      <td>1.75</td>\n",
       "      <td>0.143235031050874</td>\n",
       "    </tr>\n",
       "    <tr>\n",
       "      <th>8</th>\n",
       "      <td>2.00</td>\n",
       "      <td>0.0732625555549367</td>\n",
       "    </tr>\n",
       "  </tbody>\n",
       "</table>\n",
       "</div>"
      ],
      "text/plain": [
       "      x                   y\n",
       "0  0.00                   0\n",
       "1  0.25  0.0587133164258422\n",
       "2  0.50   0.194700195767851\n",
       "3  0.75   0.320502838911144\n",
       "4  1.00   0.367879441171442\n",
       "5  1.25   0.327517792423590\n",
       "6  1.50   0.237148255264195\n",
       "7  1.75   0.143235031050874\n",
       "8  2.00  0.0732625555549367"
      ]
     },
     "metadata": {},
     "output_type": "display_data"
    }
   ],
   "source": [
    "#Declaramos los simbolos que usaremos para las ecuaciónes.\n",
    "\n",
    "x = symbols('x')\n",
    "\n",
    "#Insertamos la función de la cual queremos calcular su integral:\n",
    "\n",
    "funcion = x**2 * exp(-x**2)\n",
    "\n",
    "#Insertamos los limites de integración:\n",
    "\n",
    "limite_inferior = 0\n",
    "limite_superior = 2\n",
    "\n",
    "#Aqui calcularemos el espaciamiento que tiene que haber entre los trapecios, para esto necesitamos tambien saber n\n",
    "#n corresponde a los intervalos usados, recordar debe ser un número par.\n",
    "\n",
    "intervalos = 8 #Recuerda que debe ser un número par\n",
    "\n",
    "espaciamiento = (limite_superior - limite_inferior)/intervalos\n",
    "\n",
    "#En esta parte iremos calculando los puntos que ira cortando el trapecio.\n",
    "#Es decir construimos una tabla con los valores que necesitaremos.\n",
    "\n",
    "df = pd.DataFrame()\n",
    "espacio = limite_inferior\n",
    "\n",
    "while espacio <= limite_superior:\n",
    "    \n",
    "    df = df.append({'x':espacio,\n",
    "                    'y':funcion.subs({x:espacio})}, \n",
    "                    ignore_index=True)\n",
    "    espacio += espaciamiento\n",
    "    \n",
    "display(df)\n"
   ]
  },
  {
   "cell_type": "markdown",
   "id": "51365633",
   "metadata": {},
   "source": [
    "Ya que construimos nuestra tabla con los datos que utilizaremos, podemos aplicar la siguiente fórmula:\n",
    "\n",
    "*Nota: En esta fórmula hay que tener en cuenta que los valores de y son los valores de la función.\n",
    "\n",
    "$ \\frac{b-a}{3\\cdot n}\\left[f(a) + 4 \\displaystyle\\sum_{i=1,3,5}^{n-1} f(x_i) +2\\displaystyle\\sum_{i=2,4,6}^{n-2} f(x_j)+ f(b) \\right]$"
   ]
  },
  {
   "cell_type": "code",
   "execution_count": 29,
   "id": "d9857463",
   "metadata": {},
   "outputs": [],
   "source": [
    "#Aqui vamos recorriendo nuestros datos recolectados para ir realizando las operaciones necesarias:\n",
    "resultado = 0\n",
    "\n",
    "for i in range(len(df.index)):\n",
    "    if i == 0:\n",
    "        sumatoria = (espaciamiento/3) * (df['y'][i])   \n",
    "    elif (i < len(df.index) and i % 2 == 0):\n",
    "        sumatoria += (espaciamiento/3) * (2 * df['y'][i])\n",
    "    elif( i < len(df.index) and i % 2 !=0 ):\n",
    "        sumatoria += (espaciamiento/3) * (4*df['y'][i])\n",
    "    elif( i == len(df.index)):\n",
    "        sumatoria += (espaciamiento/3) * (df['y'][i])\n",
    "\n",
    "resultado = sumatoria #Solo asignamos toda la sumatoria al resultado total para presentarlo por debajo.\n",
    "\n"
   ]
  },
  {
   "cell_type": "markdown",
   "id": "cab36d80",
   "metadata": {},
   "source": [
    "**Es muy importante recordar que la función debe ser positiva en ese intervalo dado para evitar problemas, teniendo eso en mente aquí se presenta el resultado de la integral insertada**\n",
    "\n",
    "$\\int_a^b f(x) = $ "
   ]
  },
  {
   "cell_type": "code",
   "execution_count": 30,
   "id": "633d96d0",
   "metadata": {},
   "outputs": [
    {
     "name": "stdout",
     "output_type": "stream",
     "text": [
      "De la siguiente función:\n"
     ]
    },
    {
     "data": {
      "text/latex": [
       "$\\displaystyle x^{2} e^{- x^{2}}$"
      ],
      "text/plain": [
       "x**2*exp(-x**2)"
      ]
     },
     "metadata": {},
     "output_type": "display_data"
    },
    {
     "name": "stdout",
     "output_type": "stream",
     "text": [
      "El resultado aproximado es:\n"
     ]
    },
    {
     "data": {
      "text/plain": [
       "0.42882140089688786"
      ]
     },
     "metadata": {},
     "output_type": "display_data"
    }
   ],
   "source": [
    "print(\"De la siguiente función:\")\n",
    "display(funcion)\n",
    "print(\"El resultado aproximado es:\")\n",
    "display(float(resultado))"
   ]
  }
 ],
 "metadata": {
  "kernelspec": {
   "display_name": "Redes",
   "language": "python",
   "name": "redes"
  },
  "language_info": {
   "codemirror_mode": {
    "name": "ipython",
    "version": 3
   },
   "file_extension": ".py",
   "mimetype": "text/x-python",
   "name": "python",
   "nbconvert_exporter": "python",
   "pygments_lexer": "ipython3",
   "version": "3.9.4"
  }
 },
 "nbformat": 4,
 "nbformat_minor": 5
}
