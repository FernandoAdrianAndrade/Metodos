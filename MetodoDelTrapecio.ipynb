{
 "cells": [
  {
   "cell_type": "markdown",
   "id": "f48604bb",
   "metadata": {},
   "source": [
    "# Regla del trapecio\n",
    "## Andrade Vidal Fernando Adrian\n",
    "### ¿Qué es el método del trapecio?\n",
    "\n",
    "Es un método de integración, es decir, un método para calcular aproximadamente el valor de una integral definida. La integral de esta es igual al área del trapecio bajo la gráfica de la función, podemos usar esta misma regla usando varios trapecios, a esta regla se le conoce como **regla del trapecio compuesta** .\n",
    "\n",
    "#### Características:\n",
    "\n",
    "+ La función debe ser continua y positiva en el intervalo (a,b)\n",
    "+ Facíl de utilizar.\n",
    "+ El resultado converge mientras más trapecios se utilizen en la forma compuesta.\n",
    "\n",
    "A continuación se muestra una imagen que puede representar este método.\n",
    "![Regla del trapecio compuesta](https://upload.wikimedia.org/wikipedia/commons/thumb/0/05/Trapezoidal_rule_illustration_small.svg/1280px-Trapezoidal_rule_illustration_small.svg.png)"
   ]
  },
  {
   "cell_type": "markdown",
   "id": "a8c5d713",
   "metadata": {},
   "source": [
    "El presente cuadernillo proporcionara paso a paso la solución de un sistema de ecuaciones no lineales, aunque puede ser modificado para acoplarlo a tus necesidades."
   ]
  },
  {
   "cell_type": "code",
   "execution_count": 2,
   "id": "b3e36aa4",
   "metadata": {},
   "outputs": [],
   "source": [
    "from sympy import * #Usaremos SymPy para computo simbólico.\n",
    "import math\n",
    "\n",
    "import pandas as pd #Usaremos Pandas para crear y manejar data frames donde registraremos los datos.\n",
    "\n",
    "import IPython.display as disp #Usaremos el display para visualizar ecuaciones."
   ]
  },
  {
   "cell_type": "code",
   "execution_count": 24,
   "id": "146710e6",
   "metadata": {},
   "outputs": [
    {
     "data": {
      "text/html": [
       "<div>\n",
       "<style scoped>\n",
       "    .dataframe tbody tr th:only-of-type {\n",
       "        vertical-align: middle;\n",
       "    }\n",
       "\n",
       "    .dataframe tbody tr th {\n",
       "        vertical-align: top;\n",
       "    }\n",
       "\n",
       "    .dataframe thead th {\n",
       "        text-align: right;\n",
       "    }\n",
       "</style>\n",
       "<table border=\"1\" class=\"dataframe\">\n",
       "  <thead>\n",
       "    <tr style=\"text-align: right;\">\n",
       "      <th></th>\n",
       "      <th>x</th>\n",
       "      <th>y</th>\n",
       "    </tr>\n",
       "  </thead>\n",
       "  <tbody>\n",
       "    <tr>\n",
       "      <th>0</th>\n",
       "      <td>3.00000</td>\n",
       "      <td>1.34164078649987</td>\n",
       "    </tr>\n",
       "    <tr>\n",
       "      <th>1</th>\n",
       "      <td>3.03125</td>\n",
       "      <td>1.33076639787824</td>\n",
       "    </tr>\n",
       "    <tr>\n",
       "      <th>2</th>\n",
       "      <td>3.06250</td>\n",
       "      <td>1.32047173630892</td>\n",
       "    </tr>\n",
       "    <tr>\n",
       "      <th>3</th>\n",
       "      <td>3.09375</td>\n",
       "      <td>1.31071228569843</td>\n",
       "    </tr>\n",
       "    <tr>\n",
       "      <th>4</th>\n",
       "      <td>3.12500</td>\n",
       "      <td>1.30144801573838</td>\n",
       "    </tr>\n",
       "    <tr>\n",
       "      <th>5</th>\n",
       "      <td>3.15625</td>\n",
       "      <td>1.29264282418829</td>\n",
       "    </tr>\n",
       "    <tr>\n",
       "      <th>6</th>\n",
       "      <td>3.18750</td>\n",
       "      <td>1.28426406117299</td>\n",
       "    </tr>\n",
       "    <tr>\n",
       "      <th>7</th>\n",
       "      <td>3.21875</td>\n",
       "      <td>1.27628212165091</td>\n",
       "    </tr>\n",
       "    <tr>\n",
       "      <th>8</th>\n",
       "      <td>3.25000</td>\n",
       "      <td>1.26867009483309</td>\n",
       "    </tr>\n",
       "    <tr>\n",
       "      <th>9</th>\n",
       "      <td>3.28125</td>\n",
       "      <td>1.26140346140797</td>\n",
       "    </tr>\n",
       "    <tr>\n",
       "      <th>10</th>\n",
       "      <td>3.31250</td>\n",
       "      <td>1.25445983107755</td>\n",
       "    </tr>\n",
       "    <tr>\n",
       "      <th>11</th>\n",
       "      <td>3.34375</td>\n",
       "      <td>1.24781871423202</td>\n",
       "    </tr>\n",
       "    <tr>\n",
       "      <th>12</th>\n",
       "      <td>3.37500</td>\n",
       "      <td>1.24146132265360</td>\n",
       "    </tr>\n",
       "    <tr>\n",
       "      <th>13</th>\n",
       "      <td>3.40625</td>\n",
       "      <td>1.23537039500112</td>\n",
       "    </tr>\n",
       "    <tr>\n",
       "      <th>14</th>\n",
       "      <td>3.43750</td>\n",
       "      <td>1.22953004352721</td>\n",
       "    </tr>\n",
       "    <tr>\n",
       "      <th>15</th>\n",
       "      <td>3.46875</td>\n",
       "      <td>1.22392561905234</td>\n",
       "    </tr>\n",
       "    <tr>\n",
       "      <th>16</th>\n",
       "      <td>3.50000</td>\n",
       "      <td>1.21854359168989</td>\n",
       "    </tr>\n",
       "  </tbody>\n",
       "</table>\n",
       "</div>"
      ],
      "text/plain": [
       "          x                 y\n",
       "0   3.00000  1.34164078649987\n",
       "1   3.03125  1.33076639787824\n",
       "2   3.06250  1.32047173630892\n",
       "3   3.09375  1.31071228569843\n",
       "4   3.12500  1.30144801573838\n",
       "5   3.15625  1.29264282418829\n",
       "6   3.18750  1.28426406117299\n",
       "7   3.21875  1.27628212165091\n",
       "8   3.25000  1.26867009483309\n",
       "9   3.28125  1.26140346140797\n",
       "10  3.31250  1.25445983107755\n",
       "11  3.34375  1.24781871423202\n",
       "12  3.37500  1.24146132265360\n",
       "13  3.40625  1.23537039500112\n",
       "14  3.43750  1.22953004352721\n",
       "15  3.46875  1.22392561905234\n",
       "16  3.50000  1.21854359168989"
      ]
     },
     "metadata": {},
     "output_type": "display_data"
    }
   ],
   "source": [
    "#Declaramos los simbolos que usaremos para las ecuaciónes.\n",
    "\n",
    "x = symbols('x')\n",
    "\n",
    "#Insertamos la función de la cual queremos calcular su integral:\n",
    "\n",
    "funcion = x/(x**2-4)**(1/2)\n",
    "\n",
    "#Insertamos los limites de integración:\n",
    "\n",
    "limite_inferior = 3\n",
    "limite_superior = 3.5\n",
    "\n",
    "#Aqui calcularemos el espaciamiento que tiene que haber entre los trapecios, para esto necesitamos tambien saber n\n",
    "#n corresponde a la cantidad de trapecios que usaremos para aproximar el resultaddo, en esta parte hay que cambiarlos\n",
    "\n",
    "numero_trapecios = 16\n",
    "\n",
    "espaciamiento = (limite_superior - limite_inferior)/numero_trapecios\n",
    "\n",
    "#En esta parte iremos calculando los puntos que ira cortando el trapecio.\n",
    "#Es decir construimos una tabla con los valores que necesitaremos.\n",
    "\n",
    "df = pd.DataFrame()\n",
    "espacio = limite_inferior\n",
    "\n",
    "while espacio <= limite_superior:\n",
    "    \n",
    "    df = df.append({'x':espacio,\n",
    "                    'y':funcion.subs({x:espacio})}, \n",
    "                    ignore_index=True)\n",
    "    espacio += espaciamiento\n",
    "    \n",
    "display(df)\n"
   ]
  },
  {
   "cell_type": "markdown",
   "id": "3c58fb1b",
   "metadata": {},
   "source": [
    "Ya que construimos nuestra tabla con los datos que utilizaremos, podemos aplicar la siguiente fórmula:\n",
    "\n",
    "*Nota: En esta fórmula hay que tener en cuenta que los valores de y son los valores de la función, y que h hace referencia al espaciado*\n",
    "\n",
    "$ \\frac{h}{2}\\left[f(x_0) + 2 \\displaystyle\\sum_{i=1}^{n-1} f(x_i) + f(x_n) \\right]$"
   ]
  },
  {
   "cell_type": "code",
   "execution_count": 25,
   "id": "a22d39f3",
   "metadata": {},
   "outputs": [],
   "source": [
    "\n",
    "#Aqui vamos recorriendo nuestros datos recolectados para ir realizando las operaciones necesarias:\n",
    "resultado = 0\n",
    "\n",
    "for i in range(len(df.index)):\n",
    "    if i == 0:\n",
    "        sumatoria = (espaciamiento/2) * (df['y'][i])\n",
    "        \n",
    "    elif i < len(df.index):\n",
    "        sumatoria += (espaciamiento/2) * (2 * df['y'][i])\n",
    "    else:\n",
    "        sumatoria += (espaciamiento/2) * (df['y'][i])  \n",
    "    resultado = sumatoria #Solo asignamos toda la sumatoria al resultado total para presentarlo por debajo.\n"
   ]
  },
  {
   "cell_type": "markdown",
   "id": "300ae20f",
   "metadata": {},
   "source": [
    "**Es muy importante recordar que la función debe ser positiva en ese intervalo dado para evitar problemas, teniendo eso en mente aquí se presenta el resultado de la integral insertada**\n",
    "\n",
    "$\\int_a^b f(x) = $ "
   ]
  },
  {
   "cell_type": "code",
   "execution_count": 26,
   "id": "1e6d3b04",
   "metadata": {},
   "outputs": [
    {
     "name": "stdout",
     "output_type": "stream",
     "text": [
      "De la siguiente función:\n"
     ]
    },
    {
     "data": {
      "text/latex": [
       "$\\displaystyle \\frac{x}{\\left(x^{2} - 4\\right)^{0.5}}$"
      ],
      "text/plain": [
       "x*(x**2 - 4)**(-0.5)"
      ]
     },
     "metadata": {},
     "output_type": "display_data"
    },
    {
     "name": "stdout",
     "output_type": "stream",
     "text": [
      "El resultado aproximado es:\n"
     ]
    },
    {
     "data": {
      "text/plain": [
       "0.6552684659175276"
      ]
     },
     "metadata": {},
     "output_type": "display_data"
    }
   ],
   "source": [
    "print(\"De la siguiente función:\")\n",
    "display(funcion)\n",
    "print(\"El resultado aproximado es:\")\n",
    "display(float(resultado))\n"
   ]
  }
 ],
 "metadata": {
  "kernelspec": {
   "display_name": "Redes",
   "language": "python",
   "name": "redes"
  },
  "language_info": {
   "codemirror_mode": {
    "name": "ipython",
    "version": 3
   },
   "file_extension": ".py",
   "mimetype": "text/x-python",
   "name": "python",
   "nbconvert_exporter": "python",
   "pygments_lexer": "ipython3",
   "version": "3.9.4"
  }
 },
 "nbformat": 4,
 "nbformat_minor": 5
}
