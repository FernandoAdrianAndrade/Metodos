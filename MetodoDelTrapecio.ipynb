{
 "cells": [
  {
   "cell_type": "markdown",
   "id": "f48604bb",
   "metadata": {},
   "source": [
    "# Regla del trapecio\n",
    "## Andrade Vidal Fernando Adrian\n",
    "### ¿Qué es el método del trapecio?\n",
    "\n",
    "Es un método de integración, es decir, un método para calcular aproximadamente el valor de una integral definida. La integral de esta es igual al área del trapecio bajo la gráfica de la función, podemos usar esta misma regla usando varios trapecios, a esta regla se le conoce como **regla del trapecio compuesta** .\n",
    "\n",
    "#### Características:\n",
    "\n",
    "+ La función debe ser continua y positiva en el intervalo (a,b)\n",
    "+ Facíl de utilizar.\n",
    "+ El resultado converge mientras más trapecios se utilizen en la forma compuesta.\n",
    "\n",
    "A continuación se muestra una imagen que puede representar este método.\n",
    "![Regla del trapecio compuesta](https://upload.wikimedia.org/wikipedia/commons/thumb/0/05/Trapezoidal_rule_illustration_small.svg/1280px-Trapezoidal_rule_illustration_small.svg.png)"
   ]
  },
  {
   "cell_type": "markdown",
   "id": "a8c5d713",
   "metadata": {},
   "source": [
    "El presente cuadernillo proporcionara paso a paso la solución de un sistema de ecuaciones no lineales, aunque puede ser modificado para acoplarlo a tus necesidades."
   ]
  },
  {
   "cell_type": "code",
   "execution_count": 27,
   "id": "b3e36aa4",
   "metadata": {},
   "outputs": [],
   "source": [
    "from sympy import * #Usaremos SymPy para computo simbólico.\n",
    "import math\n",
    "\n",
    "import pandas as pd #Usaremos Pandas para crear y manejar data frames donde registraremos los datos.\n",
    "\n",
    "import IPython.display as disp #Usaremos el display para visualizar ecuaciones."
   ]
  },
  {
   "cell_type": "code",
   "execution_count": 40,
   "id": "146710e6",
   "metadata": {},
   "outputs": [
    {
     "data": {
      "text/html": [
       "<div>\n",
       "<style scoped>\n",
       "    .dataframe tbody tr th:only-of-type {\n",
       "        vertical-align: middle;\n",
       "    }\n",
       "\n",
       "    .dataframe tbody tr th {\n",
       "        vertical-align: top;\n",
       "    }\n",
       "\n",
       "    .dataframe thead th {\n",
       "        text-align: right;\n",
       "    }\n",
       "</style>\n",
       "<table border=\"1\" class=\"dataframe\">\n",
       "  <thead>\n",
       "    <tr style=\"text-align: right;\">\n",
       "      <th></th>\n",
       "      <th>x</th>\n",
       "      <th>y</th>\n",
       "    </tr>\n",
       "  </thead>\n",
       "  <tbody>\n",
       "    <tr>\n",
       "      <th>0</th>\n",
       "      <td>1.00000</td>\n",
       "      <td>0</td>\n",
       "    </tr>\n",
       "    <tr>\n",
       "      <th>1</th>\n",
       "      <td>1.03125</td>\n",
       "      <td>0.0327249377813425</td>\n",
       "    </tr>\n",
       "    <tr>\n",
       "      <th>2</th>\n",
       "      <td>1.06250</td>\n",
       "      <td>0.0684395144724596</td>\n",
       "    </tr>\n",
       "    <tr>\n",
       "      <th>3</th>\n",
       "      <td>1.09375</td>\n",
       "      <td>0.107202045307487</td>\n",
       "    </tr>\n",
       "    <tr>\n",
       "      <th>4</th>\n",
       "      <td>1.12500</td>\n",
       "      <td>0.149069154502610</td>\n",
       "    </tr>\n",
       "    <tr>\n",
       "      <th>5</th>\n",
       "      <td>1.15625</td>\n",
       "      <td>0.194095870583123</td>\n",
       "    </tr>\n",
       "    <tr>\n",
       "      <th>6</th>\n",
       "      <td>1.18750</td>\n",
       "      <td>0.242335713869234</td>\n",
       "    </tr>\n",
       "    <tr>\n",
       "      <th>7</th>\n",
       "      <td>1.21875</td>\n",
       "      <td>0.293840776957820</td>\n",
       "    </tr>\n",
       "    <tr>\n",
       "      <th>8</th>\n",
       "      <td>1.25000</td>\n",
       "      <td>0.348661798928453</td>\n",
       "    </tr>\n",
       "    <tr>\n",
       "      <th>9</th>\n",
       "      <td>1.28125</td>\n",
       "      <td>0.406848233909767</td>\n",
       "    </tr>\n",
       "    <tr>\n",
       "      <th>10</th>\n",
       "      <td>1.31250</td>\n",
       "      <td>0.468448314563617</td>\n",
       "    </tr>\n",
       "    <tr>\n",
       "      <th>11</th>\n",
       "      <td>1.34375</td>\n",
       "      <td>0.533509110977249</td>\n",
       "    </tr>\n",
       "    <tr>\n",
       "      <th>12</th>\n",
       "      <td>1.37500</td>\n",
       "      <td>0.602076585395979</td>\n",
       "    </tr>\n",
       "    <tr>\n",
       "      <th>13</th>\n",
       "      <td>1.40625</td>\n",
       "      <td>0.674195643179152</td>\n",
       "    </tr>\n",
       "    <tr>\n",
       "      <th>14</th>\n",
       "      <td>1.43750</td>\n",
       "      <td>0.749910180319047</td>\n",
       "    </tr>\n",
       "    <tr>\n",
       "      <th>15</th>\n",
       "      <td>1.46875</td>\n",
       "      <td>0.829263127825121</td>\n",
       "    </tr>\n",
       "    <tr>\n",
       "      <th>16</th>\n",
       "      <td>1.50000</td>\n",
       "      <td>0.912296493243370</td>\n",
       "    </tr>\n",
       "  </tbody>\n",
       "</table>\n",
       "</div>"
      ],
      "text/plain": [
       "          x                   y\n",
       "0   1.00000                   0\n",
       "1   1.03125  0.0327249377813425\n",
       "2   1.06250  0.0684395144724596\n",
       "3   1.09375   0.107202045307487\n",
       "4   1.12500   0.149069154502610\n",
       "5   1.15625   0.194095870583123\n",
       "6   1.18750   0.242335713869234\n",
       "7   1.21875   0.293840776957820\n",
       "8   1.25000   0.348661798928453\n",
       "9   1.28125   0.406848233909767\n",
       "10  1.31250   0.468448314563617\n",
       "11  1.34375   0.533509110977249\n",
       "12  1.37500   0.602076585395979\n",
       "13  1.40625   0.674195643179152\n",
       "14  1.43750   0.749910180319047\n",
       "15  1.46875   0.829263127825121\n",
       "16  1.50000   0.912296493243370"
      ]
     },
     "metadata": {},
     "output_type": "display_data"
    }
   ],
   "source": [
    "#Declaramos los simbolos que usaremos para las ecuaciónes.\n",
    "\n",
    "x = symbols('x')\n",
    "\n",
    "#Insertamos la función de la cual queremos calcular su integral:\n",
    "\n",
    "funcion = x**2 * ln(x)\n",
    "\n",
    "#Insertamos los limites de integración:\n",
    "\n",
    "limite_inferior = 1\n",
    "limite_superior = 1.5\n",
    "\n",
    "#Aqui calcularemos el espaciamiento que tiene que haber entre los trapecios, para esto necesitamos tambien saber n\n",
    "#n corresponde a la cantidad de trapecios que usaremos para aproximar el resultaddo, en esta parte hay que cambiarlos\n",
    "\n",
    "numero_trapecios = 16\n",
    "\n",
    "espaciamiento = (limite_superior - limite_inferior)/numero_trapecios\n",
    "\n",
    "#En esta parte iremos calculando los puntos que ira cortando el trapecio.\n",
    "#Es decir construimos una tabla con los valores que necesitaremos.\n",
    "\n",
    "df = pd.DataFrame()\n",
    "espacio = limite_inferior\n",
    "\n",
    "while espacio <= limite_superior:\n",
    "    \n",
    "    df = df.append({'x':espacio,\n",
    "                    'y':funcion.subs({x:espacio})}, \n",
    "                    ignore_index=True)\n",
    "    espacio += espaciamiento\n",
    "    \n",
    "display(df)\n"
   ]
  },
  {
   "cell_type": "markdown",
   "id": "3c58fb1b",
   "metadata": {},
   "source": [
    "Ya que construimos nuestra tabla con los datos que utilizaremos, podemos aplicar la siguiente fórmula:\n",
    "\n",
    "*Nota: En esta fórmula hay que tener en cuenta que los valores de y son los valores de la función, y que h hace referencia al espaciado*\n",
    "\n",
    "$ \\frac{h}{2}\\left[f(x_0) + 2 \\displaystyle\\sum_{i=1}^{n-1} f(x_i) + f(x_n) \\right]$"
   ]
  },
  {
   "cell_type": "code",
   "execution_count": 41,
   "id": "a22d39f3",
   "metadata": {},
   "outputs": [],
   "source": [
    "\n",
    "#Aqui vamos recorriendo nuestros datos recolectados para ir realizando las operaciones necesarias:\n",
    "resultado = 0\n",
    "\n",
    "for i in range(len(df.index)):\n",
    "    if i == 0:\n",
    "        sumatoria = (espaciamiento/2) * (df['y'][i])\n",
    "        \n",
    "    elif i < len(df.index):\n",
    "        sumatoria += (espaciamiento/2) * (2 * df['y'][i])\n",
    "    else:\n",
    "        sumatoria += (espaciamiento/2) * (df['y'][i])  \n",
    "    resultado = sumatoria #Solo asignamos toda la sumatoria al resultado total para presentarlo por debajo.\n"
   ]
  },
  {
   "cell_type": "markdown",
   "id": "300ae20f",
   "metadata": {},
   "source": [
    "**Es muy importante recordar que la función debe ser positiva en ese intervalo dado para evitar problemas, teniendo eso en mente aquí se presenta el resultado de la integral insertada**\n",
    "\n",
    "$\\int_a^b f(x) = $ "
   ]
  },
  {
   "cell_type": "code",
   "execution_count": 42,
   "id": "1e6d3b04",
   "metadata": {},
   "outputs": [
    {
     "name": "stdout",
     "output_type": "stream",
     "text": [
      "De la siguiente función:\n"
     ]
    },
    {
     "data": {
      "text/latex": [
       "$\\displaystyle x^{2} \\log{\\left(x \\right)}$"
      ],
      "text/plain": [
       "x**2*log(x)"
      ]
     },
     "metadata": {},
     "output_type": "display_data"
    },
    {
     "name": "stdout",
     "output_type": "stream",
     "text": [
      "El resultado aproximado es:\n"
     ]
    },
    {
     "data": {
      "text/plain": [
       "0.20665367193174472"
      ]
     },
     "metadata": {},
     "output_type": "display_data"
    }
   ],
   "source": [
    "print(\"De la siguiente función:\")\n",
    "display(funcion)\n",
    "print(\"El resultado aproximado es:\")\n",
    "display(float(resultado))\n"
   ]
  }
 ],
 "metadata": {
  "kernelspec": {
   "display_name": "Redes",
   "language": "python",
   "name": "redes"
  },
  "language_info": {
   "codemirror_mode": {
    "name": "ipython",
    "version": 3
   },
   "file_extension": ".py",
   "mimetype": "text/x-python",
   "name": "python",
   "nbconvert_exporter": "python",
   "pygments_lexer": "ipython3",
   "version": "3.9.4"
  }
 },
 "nbformat": 4,
 "nbformat_minor": 5
}
