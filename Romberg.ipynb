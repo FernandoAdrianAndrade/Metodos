{
 "cells": [
  {
   "cell_type": "markdown",
   "id": "8fd36615",
   "metadata": {},
   "source": [
    "# Método de Romberg\n",
    "## Andrade Vidal Fernando Adrian\n",
    "### ¿Qué es el metodo de Romberg?\n",
    "\n",
    "Este metodo usa el metodo del trapecio para poder realizar una aproximación mejor a las integrales, es necesario que des las entradas de trapecio necesarias para llegar a dar el resultado de Romberg, se uso el siguiente video como tutorial para realizar el presente cuadernillo o esta implementación:\n",
    "\n",
    "https://www.youtube.com/watch?v=QxBg_qG6oJA\n",
    "\n",
    "#### Características\n",
    "+ Es necesario usar el metodo del trapecio para aproximar y dar las entradas.\n",
    "+ La convergencia es mejor que los metodos anteriores."
   ]
  },
  {
   "cell_type": "code",
   "execution_count": 31,
   "id": "59cef28e",
   "metadata": {},
   "outputs": [],
   "source": [
    "from sympy import * #Usaremos SymPy para computo simbólico.\n",
    "import numpy\n",
    "import IPython.display as disp #Usaremos el display para visualizar ecuaciones."
   ]
  },
  {
   "cell_type": "code",
   "execution_count": 30,
   "id": "25423389",
   "metadata": {},
   "outputs": [
    {
     "data": {
      "text/plain": [
       "array([[22.1332,  0.    ,  0.    ,  0.    ],\n",
       "       [15.2255,  0.    ,  0.    ,  0.    ],\n",
       "       [15.3076, 15.3076,  0.    ,  0.    ],\n",
       "       [15.1853, 15.1853, 15.1853,  0.    ]])"
      ]
     },
     "metadata": {},
     "output_type": "display_data"
    }
   ],
   "source": [
    "entradas = [22.1332, 15.2255, 15.3076, 15.1853]\n",
    "arreglo = numpy.zeros(shape=(len(entradas),len(entradas)))\n",
    "\n",
    "\n",
    "for i in range(0,len(entradas)):\n",
    "    arreglo[i,0] = entradas[i]\n",
    "            \n",
    "for k in range(1,len(entradas)):\n",
    "    for j in range(1,k):\n",
    "        arreglo[k,j] = ((4**(k-1)*arreglo[k,j-1])-arreglo[k,j-1])/((4**(k-1))-1)\n",
    "    \n",
    "        \n",
    "disp.display(arreglo)"
   ]
  },
  {
   "cell_type": "markdown",
   "id": "a6062ca2",
   "metadata": {},
   "source": [
    "*Este metodo me presento problemas al implementarlo, aunque puede dar una aproximación en ciertos casos.*"
   ]
  }
 ],
 "metadata": {
  "kernelspec": {
   "display_name": "Python 3",
   "language": "python",
   "name": "python3"
  },
  "language_info": {
   "codemirror_mode": {
    "name": "ipython",
    "version": 3
   },
   "file_extension": ".py",
   "mimetype": "text/x-python",
   "name": "python",
   "nbconvert_exporter": "python",
   "pygments_lexer": "ipython3",
   "version": "3.8.5"
  }
 },
 "nbformat": 4,
 "nbformat_minor": 5
}
