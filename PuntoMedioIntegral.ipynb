{
 "cells": [
  {
   "cell_type": "markdown",
   "id": "b8fedd8c",
   "metadata": {},
   "source": [
    "# Regla del punto medio\n",
    "## Andrade Vidal Fernando Adrian\n",
    "### ¿Qué es el método del punto medio?\n",
    "\n",
    "Es un método de integración, es decir, un método para calcular aproximadamente el valor de una integral definida. La integral de esta es calculada dividiendo la curva en subintervalos, realizando rectangulos y calculando sus áreas por separado.\n",
    "\n",
    "#### Características:\n",
    "\n",
    "+ La función debe ser continua.\n",
    "+ Facíl de utilizar.\n",
    "+ El resultado converge mientras más subintervalos se utilizen.\n",
    "\n",
    "A continuación se muestra una imagen que puede representar este método.\n",
    "![Regla del punto medio](https://lh3.googleusercontent.com/proxy/f74rmUDLiv54yTN9jB6tUzawkWskZmfT0gRsOnLHyW6gwpVNZ6BAHLTJQjA7eVpEFWQyI5LLmO7uBC3S_nyekfiz-VV2yN2-yOkfe_Ev43_cOHkgXtEOQJ-n)"
   ]
  },
  {
   "cell_type": "code",
   "execution_count": 1,
   "id": "d80c2387",
   "metadata": {},
   "outputs": [],
   "source": [
    "from sympy import * #Usaremos SymPy para computo simbólico.\n",
    "import math\n",
    "\n",
    "import pandas as pd #Usaremos Pandas para crear y manejar data frames donde registraremos los datos.\n",
    "\n",
    "import IPython.display as disp #Usaremos el display para visualizar ecuaciones."
   ]
  },
  {
   "cell_type": "code",
   "execution_count": 50,
   "id": "8ed25e0a",
   "metadata": {},
   "outputs": [
    {
     "data": {
      "text/html": [
       "<div>\n",
       "<style scoped>\n",
       "    .dataframe tbody tr th:only-of-type {\n",
       "        vertical-align: middle;\n",
       "    }\n",
       "\n",
       "    .dataframe tbody tr th {\n",
       "        vertical-align: top;\n",
       "    }\n",
       "\n",
       "    .dataframe thead th {\n",
       "        text-align: right;\n",
       "    }\n",
       "</style>\n",
       "<table border=\"1\" class=\"dataframe\">\n",
       "  <thead>\n",
       "    <tr style=\"text-align: right;\">\n",
       "      <th></th>\n",
       "      <th>x</th>\n",
       "      <th>y</th>\n",
       "    </tr>\n",
       "  </thead>\n",
       "  <tbody>\n",
       "    <tr>\n",
       "      <th>0</th>\n",
       "      <td>0.0000</td>\n",
       "      <td>0</td>\n",
       "    </tr>\n",
       "    <tr>\n",
       "      <th>1</th>\n",
       "      <td>0.0002</td>\n",
       "      <td>0.000600240011991999</td>\n",
       "    </tr>\n",
       "    <tr>\n",
       "      <th>2</th>\n",
       "      <td>0.0004</td>\n",
       "      <td>0.00120096009587195</td>\n",
       "    </tr>\n",
       "    <tr>\n",
       "      <th>3</th>\n",
       "      <td>0.0006</td>\n",
       "      <td>0.00180216032335161</td>\n",
       "    </tr>\n",
       "    <tr>\n",
       "      <th>4</th>\n",
       "      <td>0.0008</td>\n",
       "      <td>0.00240384076595037</td>\n",
       "    </tr>\n",
       "    <tr>\n",
       "      <th>...</th>\n",
       "      <td>...</td>\n",
       "      <td>...</td>\n",
       "    </tr>\n",
       "    <tr>\n",
       "      <th>9996</th>\n",
       "      <td>1.9992</td>\n",
       "      <td>-15.3567512176776</td>\n",
       "    </tr>\n",
       "    <tr>\n",
       "      <th>9997</th>\n",
       "      <td>1.9994</td>\n",
       "      <td>-15.3314980250400</td>\n",
       "    </tr>\n",
       "    <tr>\n",
       "      <th>9998</th>\n",
       "      <td>1.9996</td>\n",
       "      <td>-15.3062166461967</td>\n",
       "    </tr>\n",
       "    <tr>\n",
       "      <th>9999</th>\n",
       "      <td>1.9998</td>\n",
       "      <td>-15.2809070717413</td>\n",
       "    </tr>\n",
       "    <tr>\n",
       "      <th>10000</th>\n",
       "      <td>2.0000</td>\n",
       "      <td>-15.2555692922745</td>\n",
       "    </tr>\n",
       "  </tbody>\n",
       "</table>\n",
       "<p>10001 rows × 2 columns</p>\n",
       "</div>"
      ],
      "text/plain": [
       "            x                     y\n",
       "0      0.0000                     0\n",
       "1      0.0002  0.000600240011991999\n",
       "2      0.0004   0.00120096009587195\n",
       "3      0.0006   0.00180216032335161\n",
       "4      0.0008   0.00240384076595037\n",
       "...       ...                   ...\n",
       "9996   1.9992     -15.3567512176776\n",
       "9997   1.9994     -15.3314980250400\n",
       "9998   1.9996     -15.3062166461967\n",
       "9999   1.9998     -15.2809070717413\n",
       "10000  2.0000     -15.2555692922745\n",
       "\n",
       "[10001 rows x 2 columns]"
      ]
     },
     "metadata": {},
     "output_type": "display_data"
    }
   ],
   "source": [
    "#Declaramos los simbolos que usaremos para las ecuaciónes.\n",
    "\n",
    "x = symbols('x')\n",
    "\n",
    "#Insertamos la función de la cual queremos calcular su integral:\n",
    "\n",
    "funcion = exp(2*x)*sin(3*x)\n",
    "\n",
    "#Insertamos los limites de integración:\n",
    "\n",
    "limite_inferior = 0\n",
    "limite_superior = 2\n",
    "\n",
    "#Aqui calcularemos el espaciamiento que tiene que haber entre los puntos a evaluar, para esto necesitamos tambien saber n\n",
    "#n corresponde a la cantidad de subintervalos que usaremos para aproximar el resultaddo, en esta parte hay que cambiarlos\n",
    "\n",
    "numero_subintervalos = 10000\n",
    "\n",
    "espaciamiento = (limite_superior - limite_inferior)/numero_subintervalos\n",
    "\n",
    "#En esta parte iremos calculando los puntos que ira cortando el trapecio.\n",
    "#Es decir construimos una tabla con los valores que necesitaremos.\n",
    "\n",
    "df = pd.DataFrame()\n",
    "espacio = limite_inferior\n",
    "\n",
    "while espacio <= limite_superior:\n",
    "    \n",
    "    df = df.append({'x':espacio,\n",
    "                    'y':funcion.subs({x:espacio})}, \n",
    "                    ignore_index=True)\n",
    "    espacio += espaciamiento\n",
    "    \n",
    "display(df)"
   ]
  },
  {
   "cell_type": "markdown",
   "id": "9910e96a",
   "metadata": {},
   "source": [
    "Ya que construimos nuestra tabla con los datos que utilizaremos, podemos aplicar la siguiente fórmula:\n",
    "\n",
    "*Nota: En esta fórmula hay que tener en cuenta que los valores de y son los valores de la función, y que h hace referencia al espaciado*\n",
    "\n",
    "$ h \\cdot \\left[\\displaystyle\\sum_{i=0}^{n-1} \\frac{f(x_i) - f(x_{i+1})}{2} \\right]$"
   ]
  },
  {
   "cell_type": "code",
   "execution_count": 51,
   "id": "05843195",
   "metadata": {},
   "outputs": [],
   "source": [
    "#Aqui vamos recorriendo nuestros datos recolectados para ir realizando las operaciones necesarias:\n",
    "resultado = 0\n",
    "\n",
    "for i in range(len(df.index)):\n",
    "    resultado += (funcion.subs({x:(df['x'][i]+(espaciamiento/2))})) * espaciamiento\n"
   ]
  },
  {
   "cell_type": "code",
   "execution_count": 52,
   "id": "f4fabe7b",
   "metadata": {},
   "outputs": [
    {
     "name": "stdout",
     "output_type": "stream",
     "text": [
      "De la siguiente función:\n"
     ]
    },
    {
     "data": {
      "text/latex": [
       "$\\displaystyle e^{2 x} \\sin{\\left(3 x \\right)}$"
      ],
      "text/plain": [
       "exp(2*x)*sin(3*x)"
      ]
     },
     "metadata": {},
     "output_type": "display_data"
    },
    {
     "name": "stdout",
     "output_type": "stream",
     "text": [
      "El resultado aproximado es:\n"
     ]
    },
    {
     "data": {
      "text/plain": [
       "-14.21702591409154"
      ]
     },
     "metadata": {},
     "output_type": "display_data"
    }
   ],
   "source": [
    "print(\"De la siguiente función:\")\n",
    "display(funcion)\n",
    "print(\"El resultado aproximado es:\")\n",
    "display(float(resultado))\n"
   ]
  }
 ],
 "metadata": {
  "kernelspec": {
   "display_name": "Python 3",
   "language": "python",
   "name": "python3"
  },
  "language_info": {
   "codemirror_mode": {
    "name": "ipython",
    "version": 3
   },
   "file_extension": ".py",
   "mimetype": "text/x-python",
   "name": "python",
   "nbconvert_exporter": "python",
   "pygments_lexer": "ipython3",
   "version": "3.8.5"
  }
 },
 "nbformat": 4,
 "nbformat_minor": 5
}
