{
 "cells": [
  {
   "cell_type": "markdown",
   "id": "780ca40c",
   "metadata": {},
   "source": [
    "# Método De Minimos Cuadrados\n",
    "## Andrade Vidal Fernando Adrian\n",
    "### ¿Qué es el metodo de Minimos Cuadrados?\n",
    "\n",
    "Mínimos cuadrados es una técnica de análisis numérico enmarcada dentro de la optimización matemática, en la que, dados un conjunto de pares ordenados —variable independiente, variable dependiente— se intenta encontrar una recta que pueda aproximar de mejor manera los puntos dados.\n",
    "\n",
    "#### Características\n",
    "+ Se da una recta que pueda aproximar de mejor manera los puntos dados.\n",
    "\n",
    "A continuación se presenta una imagén ilustrativa, también queda destacar que se uso el siguiente video para poder entender de mejor manera el metodo y se uso como guía para realizar el presente programa.\n",
    "\n",
    "![Minimos Cuadrados](https://anestesiar.org/WP/uploads/2020/04/regresi%C3%B3n-lineal_figura_2.png)\n",
    "\n",
    "Video tutorial de minimos cuadrados: https://www.youtube.com/watch?v=gUdU6BgnJ2c&t=39s"
   ]
  },
  {
   "cell_type": "code",
   "execution_count": 1,
   "id": "39f524af",
   "metadata": {},
   "outputs": [],
   "source": [
    "from sympy import * #Usaremos SymPy para computo simbólico.\n",
    "import IPython.display as disp #Usaremos el display para visualizar ecuaciones.\n",
    "from matplotlib import pyplot"
   ]
  },
  {
   "cell_type": "code",
   "execution_count": 22,
   "id": "dc8f9389",
   "metadata": {},
   "outputs": [],
   "source": [
    "# Primero es necesario insertar los datos que se desean aproximar, \n",
    "# el numero de elementos en ambas listas debe ser igual\n",
    "\n",
    "x = [0.040, 0.041, 0.055, 0.056, 0.062, 0.071, 0.071, 0.078, 0.082, 0.090, 0.092, 0.100, 0.105, 0.120, 0.123, 0.130,0.140] #Valores de x\n",
    "y = [26.5, 28.1, 25.2, 26.0, 24.0, 25.0, 26.4, 27.2, 25.6, 25.0, 26.8, 24.8, 27.0, 25.0, 27.3, 26.9, 26.2] #Valores de y\n",
    "sumatoria_x = sum(x)\n",
    "sumatoria_y = sum(y)\n",
    "sumatoria_productoxy = 0\n",
    "sumatoria_xcuadrada = 0\n",
    "\n",
    "for i in range(len(x)):\n",
    "    sumatoria_productoxy += x[i] * y[i]\n",
    "    sumatoria_xcuadrada += x[i]*x[i]  "
   ]
  },
  {
   "cell_type": "markdown",
   "id": "7eaab78e",
   "metadata": {},
   "source": [
    "Ahora que obtuvimos los datos necesarios podemos usar la siguiente formula para calcular la pendiente de la recta que usaremos para aproximar los valores como sigue:\n",
    "\n",
    "$ m=\\frac{\\sum x \\cdot y - \\frac{\\sum x \\cdot \\sum y}{n}}{\\sum x^2 - \\frac{(\\sum x)^2}{n}} $"
   ]
  },
  {
   "cell_type": "code",
   "execution_count": 23,
   "id": "f8a5fff5",
   "metadata": {},
   "outputs": [],
   "source": [
    "# Calculamos la pendiente de la recta con la formula antes descrita.\n",
    "pendiente_m = (sumatoria_productoxy - ((sumatoria_x * sumatoria_y) / len(x))) / (sumatoria_xcuadrada - ((sumatoria_x * sumatoria_x)/len(x)))"
   ]
  },
  {
   "cell_type": "markdown",
   "id": "9b586d29",
   "metadata": {},
   "source": [
    "Ahora calculamos el corte con la recta y siguiendo la siguiente fórmula:\n",
    "\n",
    "$ b = \\overline{y} - m \\cdot \\overline{x} $"
   ]
  },
  {
   "cell_type": "code",
   "execution_count": 24,
   "id": "64d834df",
   "metadata": {},
   "outputs": [],
   "source": [
    "#Obtenemos el corte con la recta y o sea b como se expreso en la formula de arriba\n",
    "corte_b = (sumatoria_y / len(y)) - pendiente_m * (sumatoria_x / len(x))"
   ]
  },
  {
   "cell_type": "markdown",
   "id": "ef70f1c4",
   "metadata": {},
   "source": [
    "Por lo tanto con todos los datos obtenidos ya podemos dar una recta, en la siguiente parte imprimiremos tanto la regla de correspondecia como una grafica correspondiente a la linea."
   ]
  },
  {
   "cell_type": "code",
   "execution_count": 25,
   "id": "44bdcac2",
   "metadata": {},
   "outputs": [
    {
     "data": {
      "text/plain": [
       "'Esta es la forma estandar de la recta igualada a 0'"
      ]
     },
     "metadata": {},
     "output_type": "display_data"
    },
    {
     "data": {
      "text/latex": [
       "$\\displaystyle 0.179522422891744 x + y - 8.20840779597586$"
      ],
      "text/plain": [
       "0.179522422891744*x + y - 8.20840779597586"
      ]
     },
     "metadata": {},
     "output_type": "display_data"
    },
    {
     "data": {
      "image/png": "[encoded data removed]",
      "text/plain": [
       "<Figure size 432x288 with 1 Axes>"
      ]
     },
     "metadata": {
      "needs_background": "light"
     },
     "output_type": "display_data"
    }
   ],
   "source": [
    "\n",
    "\n",
    "x1,y1 = symbols('x y')\n",
    "regla_correspondencia = y1 + pendiente_m * x1 - corte_b \n",
    "\n",
    "disp.display('Esta es la forma estandar de la recta igualada a 0')\n",
    "disp.display(regla_correspondencia)\n",
    "\n",
    "x_0 = min(x)\n",
    "y_0 = (pendiente_m * x_0) + corte_b\n",
    "\n",
    "x_1 = max(x)\n",
    "y_1 = (pendiente_m * x_1) + corte_b\n",
    "\n",
    "pyplot.xlabel('Valores de x')\n",
    "pyplot.ylabel('Valores de y')\n",
    "\n",
    "\n",
    "pyplot.plot([x_0,x_1],[y_0,y_1], marker = '*', linestyle = '-')\n",
    "\n",
    "pyplot.plot(x,y , marker = 'o', color='red', linestyle='none')\n",
    "\n",
    "pyplot.show()\n",
    "\n",
    "\n"
   ]
  }
 ],
 "metadata": {
  "kernelspec": {
   "display_name": "Redes",
   "language": "python",
   "name": "redes"
  },
  "language_info": {
   "codemirror_mode": {
    "name": "ipython",
    "version": 3
   },
   "file_extension": ".py",
   "mimetype": "text/x-python",
   "name": "python",
   "nbconvert_exporter": "python",
   "pygments_lexer": "ipython3",
   "version": "3.9.4"
  }
 },
 "nbformat": 4,
 "nbformat_minor": 5
}
