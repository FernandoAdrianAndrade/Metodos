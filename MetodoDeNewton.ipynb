{
 "cells": [
  {
   "cell_type": "markdown",
   "id": "broadband-arlington",
   "metadata": {},
   "source": [
    "# Método de Newton para sistemas de ecuaciones no lineales.\n",
    "\n",
    "## Andrade Vidal Fernando Adrian\n",
    "\n",
    "### ¿Qué es el metodo de Newton?\n",
    "\n",
    "El metodo de Newton es util para encontrar soluciones de ecuaciones en sistemas lineales o no lineales, se diferencia del metodo del punto fijo ya que es más rapido su convergencia.\n",
    "\n",
    "#### Características:\n",
    "\n",
    "+ Es necesario que las funciones sean continuas en el intervalo de su solución.\n",
    "+ Este metodo se desarrolla apartir de las series de Taylor.\n",
    "\n",
    "El presente cuadernillo proporcionara paso a paso la solución de un sistema de ecuaciones no lineales, aunque puede ser modificado para acoplarlo a tus necesidades."
   ]
  },
  {
   "cell_type": "code",
   "execution_count": 4,
   "id": "complete-running",
   "metadata": {},
   "outputs": [],
   "source": [
    "from sympy import * #Usaremos SymPy para computo simbólico.\n",
    "\n",
    "import pandas as pd #Usaremos Pandas para crear y manejar data frames donde registraremos los datos.\n",
    "\n",
    "import IPython.display as disp #Usaremos el display para visualizar ecuaciones."
   ]
  },
  {
   "cell_type": "markdown",
   "id": "fifth-fence",
   "metadata": {},
   "source": [
    "Estableceremos 3 variables aunque se pueden añadir màs en esta declaración de variables."
   ]
  },
  {
   "cell_type": "code",
   "execution_count": 5,
   "id": "adaptive-adventure",
   "metadata": {},
   "outputs": [
    {
     "name": "stdout",
     "output_type": "stream",
     "text": [
      "Esta es la primer ecuación original: \n",
      "\n"
     ]
    },
    {
     "data": {
      "text/latex": [
       "$\\displaystyle 3 x - \\cos{\\left(y z \\right)} - 0.5$"
      ],
      "text/plain": [
       "3*x - cos(y*z) - 0.5"
      ]
     },
     "metadata": {},
     "output_type": "display_data"
    },
    {
     "name": "stdout",
     "output_type": "stream",
     "text": [
      "\n",
      "\n",
      "Esta es la segunda ecuación original: \n",
      "\n"
     ]
    },
    {
     "data": {
      "text/latex": [
       "$\\displaystyle x^{2} - 81 \\left(y + 0.1\\right)^{2} + \\sin{\\left(z \\right)} + 1.06$"
      ],
      "text/plain": [
       "x**2 - 81*(y + 0.1)**2 + sin(z) + 1.06"
      ]
     },
     "metadata": {},
     "output_type": "display_data"
    },
    {
     "name": "stdout",
     "output_type": "stream",
     "text": [
      "\n",
      "\n",
      "Esta es la tercer ecuación original: \n",
      "\n"
     ]
    },
    {
     "data": {
      "text/latex": [
       "$\\displaystyle 20 z - 1 + \\frac{10 \\pi}{3} + e^{- x y}$"
      ],
      "text/plain": [
       "20*z - 1 + 10*pi/3 + exp(-x*y)"
      ]
     },
     "metadata": {},
     "output_type": "display_data"
    },
    {
     "name": "stdout",
     "output_type": "stream",
     "text": [
      "\n",
      "\n",
      "Esta es la matrix de nuestras ecuaciones: \n",
      "\n"
     ]
    },
    {
     "data": {
      "text/latex": [
       "$\\displaystyle \\left[\\begin{matrix}3 x - \\cos{\\left(y z \\right)} - 0.5\\\\x^{2} - 81 \\left(y + 0.1\\right)^{2} + \\sin{\\left(z \\right)} + 1.06\\\\20 z - 1 + \\frac{10 \\pi}{3} + e^{- x y}\\end{matrix}\\right]$"
      ],
      "text/plain": [
       "Matrix([\n",
       "[                  3*x - cos(y*z) - 0.5],\n",
       "[x**2 - 81*(y + 0.1)**2 + sin(z) + 1.06],\n",
       "[        20*z - 1 + 10*pi/3 + exp(-x*y)]])"
      ]
     },
     "metadata": {},
     "output_type": "display_data"
    }
   ],
   "source": [
    "#Declaramos los simbolos que usaremos para las ecuaciónes.\n",
    "\n",
    "x,y,z = symbols('x y z')\n",
    "\n",
    "#Estamos insertando las funciones con las que trabajaremos, notar que puede haber simplificaciones.\n",
    "\n",
    "funcion_original_1 = 3*x - cos(y*z) - (1/2)\n",
    "funcion_original_2 = x**2 - 81*(y+0.1)**2 + sin(z) + 1.06\n",
    "funcion_original_3 = E**(-x*y) + 20*z + ((10*pi - 3)/3)\n",
    "\n",
    "#Creamos nuestra matrix de las funciones insertadas\n",
    "\n",
    "matriz_funciones = Matrix([funcion_original_1, funcion_original_2, funcion_original_3])\n",
    "\n",
    "\n",
    "#Imprimimos las funciones insertadas para asegurarnos.\n",
    "\n",
    "print(\"Esta es la primer ecuación original: \\n\")\n",
    "disp.display(funcion_original_1)\n",
    "\n",
    "print(\"\\n\\nEsta es la segunda ecuación original: \\n\")\n",
    "disp.display(funcion_original_2)\n",
    "\n",
    "print(\"\\n\\nEsta es la tercer ecuación original: \\n\")\n",
    "disp.display(funcion_original_3)\n",
    "\n",
    "print(\"\\n\\nEsta es la matrix de nuestras ecuaciones: \\n\")\n",
    "display(matriz_funciones)"
   ]
  },
  {
   "cell_type": "markdown",
   "id": "extraordinary-penetration",
   "metadata": {},
   "source": [
    "Una vez insertadas nuestras ecuaciones construimos nuestra matriz jacobiana dada por las derivadas parciales de las ecuaciones."
   ]
  },
  {
   "cell_type": "code",
   "execution_count": 6,
   "id": "external-syndication",
   "metadata": {},
   "outputs": [
    {
     "data": {
      "text/latex": [
       "$\\displaystyle \\left[\\begin{matrix}3 x - \\cos{\\left(y z \\right)} - 0.5\\\\x^{2} - 81 \\left(y + 0.1\\right)^{2} + \\sin{\\left(z \\right)} + 1.06\\\\20 z - 1 + \\frac{10 \\pi}{3} + e^{- x y}\\end{matrix}\\right]$"
      ],
      "text/plain": [
       "Matrix([\n",
       "[                  3*x - cos(y*z) - 0.5],\n",
       "[x**2 - 81*(y + 0.1)**2 + sin(z) + 1.06],\n",
       "[        20*z - 1 + 10*pi/3 + exp(-x*y)]])"
      ]
     },
     "metadata": {},
     "output_type": "display_data"
    },
    {
     "name": "stdout",
     "output_type": "stream",
     "text": [
      "\n",
      "\n",
      "\n"
     ]
    },
    {
     "data": {
      "text/latex": [
       "$\\displaystyle \\left[\\begin{matrix}3 & z \\sin{\\left(y z \\right)} & y \\sin{\\left(y z \\right)}\\\\2 x & - 162 y - 16.2 & \\cos{\\left(z \\right)}\\\\- y e^{- x y} & - x e^{- x y} & 20\\end{matrix}\\right]$"
      ],
      "text/plain": [
       "Matrix([\n",
       "[           3,    z*sin(y*z), y*sin(y*z)],\n",
       "[         2*x, -162*y - 16.2,     cos(z)],\n",
       "[-y*exp(-x*y),  -x*exp(-x*y),         20]])"
      ]
     },
     "metadata": {},
     "output_type": "display_data"
    }
   ],
   "source": [
    "#Transformamos nuestras ecuaciones en una matrix\n",
    "\n",
    "\n",
    "display(matriz_funciones)\n",
    "\n",
    "print(\"\\n\\n\")\n",
    "\n",
    "#Obtenemos la jacobiana de la matriz con respecto a los simbolos x,y,z\n",
    "\n",
    "jacobiano = matriz_funciones.jacobian([x, y, z])\n",
    "display(jacobiano)"
   ]
  },
  {
   "cell_type": "markdown",
   "id": "vocational-cowboy",
   "metadata": {},
   "source": [
    "Ahora empezamos el proceso, para realizarlo evitaremos sacar la inversa del jacobiano directamente, en su ugar evaluaremos primero, a continuación detallaremos el proceso que realizamos de manera que sea más sencillo su entendimiento:\n",
    "\n",
    "+ Calculamos el jacobiano evaluado en el punto xi, yi, zi y obtenemos su inversa.\n",
    "+ Calculamos la matrix de ecuaciones en el punto xi, yi, zi.\n",
    "+ Multiplicamos las dos matrices anteriores.\n",
    "+ El nuevo punto sera la resta del punto anterior menos la multiplicación anterior.\n"
   ]
  },
  {
   "cell_type": "code",
   "execution_count": 24,
   "id": "hired-reflection",
   "metadata": {},
   "outputs": [
    {
     "data": {
      "text/html": [
       "<div>\n",
       "<style scoped>\n",
       "    .dataframe tbody tr th:only-of-type {\n",
       "        vertical-align: middle;\n",
       "    }\n",
       "\n",
       "    .dataframe tbody tr th {\n",
       "        vertical-align: top;\n",
       "    }\n",
       "\n",
       "    .dataframe thead th {\n",
       "        text-align: right;\n",
       "    }\n",
       "</style>\n",
       "<table border=\"1\" class=\"dataframe\">\n",
       "  <thead>\n",
       "    <tr style=\"text-align: right;\">\n",
       "      <th></th>\n",
       "      <th>f1_original</th>\n",
       "      <th>f2_original</th>\n",
       "      <th>f3_original</th>\n",
       "      <th>xi</th>\n",
       "      <th>yi</th>\n",
       "      <th>zi</th>\n",
       "    </tr>\n",
       "  </thead>\n",
       "  <tbody>\n",
       "    <tr>\n",
       "      <th>0</th>\n",
       "      <td>1.285847e+00</td>\n",
       "      <td>-2.405284e+01</td>\n",
       "      <td>5.876939e-02</td>\n",
       "      <td>0.919687213084211</td>\n",
       "      <td>0.460822455695298</td>\n",
       "      <td>-0.503387635499896</td>\n",
       "    </tr>\n",
       "    <tr>\n",
       "      <th>1</th>\n",
       "      <td>7.763318e-03</td>\n",
       "      <td>-5.878691e+00</td>\n",
       "      <td>-3.503923e-02</td>\n",
       "      <td>0.501000485324549</td>\n",
       "      <td>0.187433477674170</td>\n",
       "      <td>-0.520869233005451</td>\n",
       "    </tr>\n",
       "    <tr>\n",
       "      <th>2</th>\n",
       "      <td>2.138275e-03</td>\n",
       "      <td>-1.291678e+00</td>\n",
       "      <td>1.810039e-03</td>\n",
       "      <td>0.500542935487807</td>\n",
       "      <td>0.0611534536784274</td>\n",
       "      <td>-0.522000964197237</td>\n",
       "    </tr>\n",
       "    <tr>\n",
       "      <th>3</th>\n",
       "      <td>3.317869e-04</td>\n",
       "      <td>-1.987612e-01</td>\n",
       "      <td>2.796675e-04</td>\n",
       "      <td>0.500104436269422</td>\n",
       "      <td>0.0116171057490515</td>\n",
       "      <td>-0.523295146120876</td>\n",
       "    </tr>\n",
       "    <tr>\n",
       "      <th>4</th>\n",
       "      <td>1.658139e-05</td>\n",
       "      <td>-9.821455e-03</td>\n",
       "      <td>1.402014e-05</td>\n",
       "      <td>0.500005510371682</td>\n",
       "      <td>0.000605615722948927</td>\n",
       "      <td>-0.523582936323661</td>\n",
       "    </tr>\n",
       "    <tr>\n",
       "      <th>5</th>\n",
       "      <td>4.996726e-08</td>\n",
       "      <td>-2.952940e-05</td>\n",
       "      <td>4.224595e-08</td>\n",
       "      <td>0.500000016655600</td>\n",
       "      <td>1.82636744727921e-6</td>\n",
       "      <td>-0.523598727826834</td>\n",
       "    </tr>\n",
       "    <tr>\n",
       "      <th>6</th>\n",
       "      <td>4.574119e-13</td>\n",
       "      <td>-2.701793e-10</td>\n",
       "      <td>3.870619e-13</td>\n",
       "      <td>0.500000000000152</td>\n",
       "      <td>1.67105138634977e-11</td>\n",
       "      <td>-0.523598775597862</td>\n",
       "    </tr>\n",
       "    <tr>\n",
       "      <th>7</th>\n",
       "      <td>-2.220446e-16</td>\n",
       "      <td>-5.551115e-17</td>\n",
       "      <td>1.592453e-15</td>\n",
       "      <td>0.500000000000000</td>\n",
       "      <td>-5.25012348891507e-18</td>\n",
       "      <td>-0.523598775598299</td>\n",
       "    </tr>\n",
       "    <tr>\n",
       "      <th>8</th>\n",
       "      <td>0.000000e+00</td>\n",
       "      <td>1.110223e-16</td>\n",
       "      <td>-3.736617e-15</td>\n",
       "      <td>0.500000000000000</td>\n",
       "      <td>-1.40324531220679e-17</td>\n",
       "      <td>-0.523598775598299</td>\n",
       "    </tr>\n",
       "    <tr>\n",
       "      <th>9</th>\n",
       "      <td>0.000000e+00</td>\n",
       "      <td>-1.110223e-16</td>\n",
       "      <td>-1.960260e-15</td>\n",
       "      <td>0.500000000000000</td>\n",
       "      <td>3.31478163770014e-18</td>\n",
       "      <td>-0.523598775598299</td>\n",
       "    </tr>\n",
       "    <tr>\n",
       "      <th>10</th>\n",
       "      <td>0.000000e+00</td>\n",
       "      <td>-1.110223e-16</td>\n",
       "      <td>-1.960260e-15</td>\n",
       "      <td>0.500000000000000</td>\n",
       "      <td>-1.54665314253474e-19</td>\n",
       "      <td>-0.523598775598299</td>\n",
       "    </tr>\n",
       "    <tr>\n",
       "      <th>11</th>\n",
       "      <td>0.000000e+00</td>\n",
       "      <td>-1.110223e-16</td>\n",
       "      <td>-1.960260e-15</td>\n",
       "      <td>0.500000000000000</td>\n",
       "      <td>-3.62411226620709e-18</td>\n",
       "      <td>-0.523598775598299</td>\n",
       "    </tr>\n",
       "    <tr>\n",
       "      <th>12</th>\n",
       "      <td>0.000000e+00</td>\n",
       "      <td>2.220446e-16</td>\n",
       "      <td>-1.960260e-15</td>\n",
       "      <td>0.500000000000000</td>\n",
       "      <td>-7.09355921816070e-18</td>\n",
       "      <td>-0.523598775598299</td>\n",
       "    </tr>\n",
       "    <tr>\n",
       "      <th>13</th>\n",
       "      <td>0.000000e+00</td>\n",
       "      <td>-2.220446e-16</td>\n",
       "      <td>-1.960260e-15</td>\n",
       "      <td>0.500000000000000</td>\n",
       "      <td>1.02536755416074e-17</td>\n",
       "      <td>-0.523598775598299</td>\n",
       "    </tr>\n",
       "    <tr>\n",
       "      <th>14</th>\n",
       "      <td>0.000000e+00</td>\n",
       "      <td>-1.110223e-16</td>\n",
       "      <td>-1.960260e-15</td>\n",
       "      <td>0.500000000000000</td>\n",
       "      <td>-1.54665314253474e-19</td>\n",
       "      <td>-0.523598775598299</td>\n",
       "    </tr>\n",
       "    <tr>\n",
       "      <th>15</th>\n",
       "      <td>0.000000e+00</td>\n",
       "      <td>-1.110223e-16</td>\n",
       "      <td>-1.960260e-15</td>\n",
       "      <td>0.500000000000000</td>\n",
       "      <td>-3.62411226620709e-18</td>\n",
       "      <td>-0.523598775598299</td>\n",
       "    </tr>\n",
       "    <tr>\n",
       "      <th>16</th>\n",
       "      <td>0.000000e+00</td>\n",
       "      <td>2.220446e-16</td>\n",
       "      <td>-1.960260e-15</td>\n",
       "      <td>0.500000000000000</td>\n",
       "      <td>-7.09355921816070e-18</td>\n",
       "      <td>-0.523598775598299</td>\n",
       "    </tr>\n",
       "    <tr>\n",
       "      <th>17</th>\n",
       "      <td>0.000000e+00</td>\n",
       "      <td>-2.220446e-16</td>\n",
       "      <td>-1.960260e-15</td>\n",
       "      <td>0.500000000000000</td>\n",
       "      <td>1.02536755416074e-17</td>\n",
       "      <td>-0.523598775598299</td>\n",
       "    </tr>\n",
       "    <tr>\n",
       "      <th>18</th>\n",
       "      <td>0.000000e+00</td>\n",
       "      <td>-1.110223e-16</td>\n",
       "      <td>-1.960260e-15</td>\n",
       "      <td>0.500000000000000</td>\n",
       "      <td>-1.54665314253474e-19</td>\n",
       "      <td>-0.523598775598299</td>\n",
       "    </tr>\n",
       "    <tr>\n",
       "      <th>19</th>\n",
       "      <td>0.000000e+00</td>\n",
       "      <td>-1.110223e-16</td>\n",
       "      <td>-1.960260e-15</td>\n",
       "      <td>0.500000000000000</td>\n",
       "      <td>-3.62411226620709e-18</td>\n",
       "      <td>-0.523598775598299</td>\n",
       "    </tr>\n",
       "  </tbody>\n",
       "</table>\n",
       "</div>"
      ],
      "text/plain": [
       "     f1_original   f2_original   f3_original                 xi  \\\n",
       "0   1.285847e+00 -2.405284e+01  5.876939e-02  0.919687213084211   \n",
       "1   7.763318e-03 -5.878691e+00 -3.503923e-02  0.501000485324549   \n",
       "2   2.138275e-03 -1.291678e+00  1.810039e-03  0.500542935487807   \n",
       "3   3.317869e-04 -1.987612e-01  2.796675e-04  0.500104436269422   \n",
       "4   1.658139e-05 -9.821455e-03  1.402014e-05  0.500005510371682   \n",
       "5   4.996726e-08 -2.952940e-05  4.224595e-08  0.500000016655600   \n",
       "6   4.574119e-13 -2.701793e-10  3.870619e-13  0.500000000000152   \n",
       "7  -2.220446e-16 -5.551115e-17  1.592453e-15  0.500000000000000   \n",
       "8   0.000000e+00  1.110223e-16 -3.736617e-15  0.500000000000000   \n",
       "9   0.000000e+00 -1.110223e-16 -1.960260e-15  0.500000000000000   \n",
       "10  0.000000e+00 -1.110223e-16 -1.960260e-15  0.500000000000000   \n",
       "11  0.000000e+00 -1.110223e-16 -1.960260e-15  0.500000000000000   \n",
       "12  0.000000e+00  2.220446e-16 -1.960260e-15  0.500000000000000   \n",
       "13  0.000000e+00 -2.220446e-16 -1.960260e-15  0.500000000000000   \n",
       "14  0.000000e+00 -1.110223e-16 -1.960260e-15  0.500000000000000   \n",
       "15  0.000000e+00 -1.110223e-16 -1.960260e-15  0.500000000000000   \n",
       "16  0.000000e+00  2.220446e-16 -1.960260e-15  0.500000000000000   \n",
       "17  0.000000e+00 -2.220446e-16 -1.960260e-15  0.500000000000000   \n",
       "18  0.000000e+00 -1.110223e-16 -1.960260e-15  0.500000000000000   \n",
       "19  0.000000e+00 -1.110223e-16 -1.960260e-15  0.500000000000000   \n",
       "\n",
       "                       yi                  zi  \n",
       "0       0.460822455695298  -0.503387635499896  \n",
       "1       0.187433477674170  -0.520869233005451  \n",
       "2      0.0611534536784274  -0.522000964197237  \n",
       "3      0.0116171057490515  -0.523295146120876  \n",
       "4    0.000605615722948927  -0.523582936323661  \n",
       "5     1.82636744727921e-6  -0.523598727826834  \n",
       "6    1.67105138634977e-11  -0.523598775597862  \n",
       "7   -5.25012348891507e-18  -0.523598775598299  \n",
       "8   -1.40324531220679e-17  -0.523598775598299  \n",
       "9    3.31478163770014e-18  -0.523598775598299  \n",
       "10  -1.54665314253474e-19  -0.523598775598299  \n",
       "11  -3.62411226620709e-18  -0.523598775598299  \n",
       "12  -7.09355921816070e-18  -0.523598775598299  \n",
       "13   1.02536755416074e-17  -0.523598775598299  \n",
       "14  -1.54665314253474e-19  -0.523598775598299  \n",
       "15  -3.62411226620709e-18  -0.523598775598299  \n",
       "16  -7.09355921816070e-18  -0.523598775598299  \n",
       "17   1.02536755416074e-17  -0.523598775598299  \n",
       "18  -1.54665314253474e-19  -0.523598775598299  \n",
       "19  -3.62411226620709e-18  -0.523598775598299  "
      ]
     },
     "metadata": {},
     "output_type": "display_data"
    },
    {
     "name": "stdout",
     "output_type": "stream",
     "text": [
      "\n",
      "\n",
      "Entonces aqui tenemos las soluciones presentadas en forma tabular.\n"
     ]
    }
   ],
   "source": [
    "# Declaramos nuestro punto inicial y las iteraciones maximas a realizar\n",
    "\n",
    "iteraciones_maximas = 20\n",
    "iteraciones = 0\n",
    "\n",
    "x_i= 1\n",
    "y_i= 1\n",
    "z_i= 1\n",
    "\n",
    "\n",
    "#Data Frame donde guardaremos los resultados.\n",
    "df = pd.DataFrame()\n",
    "\n",
    "#Proceso que se repetira hasta igualar el numero de iteraciones necesarias.\n",
    "while iteraciones < iteraciones_maximas:\n",
    "    \n",
    "    jacobiano_evaluado = jacobiano.subs({x:x_i,y:y_i,z:z_i})#Evaluamos el jacobiano en el punto dado.\n",
    "    \n",
    "    jacobiano_evaluado_inverso = jacobiano_evaluado**-1 #Obtenemos la inversa del jacobiano evaluado.\n",
    "    matriz_funciones_evaluado = matriz_funciones.subs({x:x_i,y:y_i,z:z_i}) #Obtenemos nuestras ecuaciones evaluadas.\n",
    "    \n",
    "    solucion_sistema = jacobiano_evaluado_inverso * matriz_funciones_evaluado #Resolvemos el sistema de ecuaciones.\n",
    "    \n",
    "    matriz_solucion = Matrix([x_i, y_i, z_i]) #Convertimos a matriz nuestras soluciones\n",
    "    \n",
    "    nueva_solucion_matriz = matriz_solucion - solucion_sistema #Resolvemos las ultimas operaciones para dar el nuevo punto\n",
    "    \n",
    "    #Esta sera la nueva solucion de la matriz la cual estamos asignando de nuevo a las variables para repetir el proceso\n",
    "    \n",
    "    #Hay que notar que estamos convirtiendo los numeros a flotantes de nuevo para que sea mas facil trabajar con ellos y rápido.\n",
    "    \n",
    "    x_i = float(nueva_solucion_matriz[0,0])\n",
    "    y_i = float(nueva_solucion_matriz[1,0])\n",
    "    z_i = float(nueva_solucion_matriz[2,0])\n",
    "\n",
    "    #Solo estamos agregando datos a nuestro data frame\n",
    "    \n",
    "    df = df.append({\n",
    "            'xi':nueva_solucion_matriz[0,0].evalf(),\n",
    "            'yi':nueva_solucion_matriz[1,0].evalf(),\n",
    "            'zi':nueva_solucion_matriz[2,0].evalf(),\n",
    "            'f1_original':float(funcion_original_1.subs({x:x_i,y:y_i,z:z_i})), #Se evalua la funcion 1 original en el punto dado\n",
    "            'f2_original':float(funcion_original_2.subs({x:x_i,y:y_i,z:z_i})), #Se evalua la funcion 2 original en el punto dado\n",
    "            'f3_original':float(funcion_original_3.subs({x:x_i,y:y_i,z:z_i}))}, #Se evalua la funcion 3 original en el punto dado\n",
    "            ignore_index=True #Ignorar este parametro.\n",
    "             )\n",
    "    \n",
    "    iteraciones +=1\n",
    "    \n",
    "display(df)\n",
    "\n",
    "print(\"\\n\\nEntonces aqui tenemos las soluciones presentadas en forma tabular.\")"
   ]
  }
 ],
 "metadata": {
  "kernelspec": {
   "display_name": "Metodos",
   "language": "python",
   "name": "metodos"
  },
  "language_info": {
   "codemirror_mode": {
    "name": "ipython",
    "version": 3
   },
   "file_extension": ".py",
   "mimetype": "text/x-python",
   "name": "python",
   "nbconvert_exporter": "python",
   "pygments_lexer": "ipython3",
   "version": "3.9.2"
  }
 },
 "nbformat": 4,
 "nbformat_minor": 5
}
