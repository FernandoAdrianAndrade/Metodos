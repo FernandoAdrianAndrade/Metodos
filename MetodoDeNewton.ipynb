{
 "cells": [
  {
   "cell_type": "markdown",
   "id": "dense-peter",
   "metadata": {},
   "source": [
    "# Método de Newton para sistemas de ecuaciones no lineales.\n",
    "\n",
    "## Andrade Vidal Fernando Adrian.\n",
    "\n",
    "### ¿Qué es el metodo de Newton?\n",
    "\n",
    "El metodo de Newton es util para encontrar soluciones de ecuaciones en sistemas lineales o no lineales, se diferencia del metodo del punto fijo ya que es más rapido su convergencia.\n",
    "\n",
    "#### Características:\n",
    "\n",
    "+ Es necesario que las funciones sean continuas en el intervalo de su solución.\n",
    "+ Este metodo se desarrolla apartir de las series de Taylor.\n",
    "\n",
    "El presente cuadernillo proporcionara paso a paso la solución de un sistema de ecuaciones no lineales, aunque puede ser modificado para acoplarlo a tus necesidades."
   ]
  },
  {
   "cell_type": "code",
   "execution_count": 1,
   "id": "atlantic-procurement",
   "metadata": {},
   "outputs": [],
   "source": [
    "from sympy import * #Usaremos SymPy para computo simbólico.\n",
    "\n",
    "import pandas as pd #Usaremos Pandas para crear y manejar data frames donde registraremos los datos.\n",
    "\n",
    "import IPython.display as disp #Usaremos el display para visualizar ecuaciones."
   ]
  },
  {
   "cell_type": "markdown",
   "id": "sized-rolling",
   "metadata": {},
   "source": [
    "Estableceremos 3 variables aunque se pueden añadir màs en esta declaración de variables."
   ]
  },
  {
   "cell_type": "code",
   "execution_count": 2,
   "id": "external-jones",
   "metadata": {},
   "outputs": [
    {
     "name": "stdout",
     "output_type": "stream",
     "text": [
      "Esta es la primer ecuación original: \n",
      "\n"
     ]
    },
    {
     "data": {
      "text/latex": [
       "$\\displaystyle x^{2} + y - 37$"
      ],
      "text/plain": [
       "x**2 + y - 37"
      ]
     },
     "metadata": {},
     "output_type": "display_data"
    },
    {
     "name": "stdout",
     "output_type": "stream",
     "text": [
      "\n",
      "\n",
      "Esta es la segunda ecuación original: \n",
      "\n"
     ]
    },
    {
     "data": {
      "text/latex": [
       "$\\displaystyle x - y^{2} - 5$"
      ],
      "text/plain": [
       "x - y**2 - 5"
      ]
     },
     "metadata": {},
     "output_type": "display_data"
    },
    {
     "name": "stdout",
     "output_type": "stream",
     "text": [
      "\n",
      "\n",
      "Esta es la tercer ecuación original: \n",
      "\n"
     ]
    },
    {
     "data": {
      "text/latex": [
       "$\\displaystyle x + y + z - 3$"
      ],
      "text/plain": [
       "x + y + z - 3"
      ]
     },
     "metadata": {},
     "output_type": "display_data"
    },
    {
     "name": "stdout",
     "output_type": "stream",
     "text": [
      "\n",
      "\n",
      "Esta es la matrix de nuestras ecuaciones: \n",
      "\n"
     ]
    },
    {
     "data": {
      "text/latex": [
       "$\\displaystyle \\left[\\begin{matrix}x^{2} + y - 37\\\\x - y^{2} - 5\\\\x + y + z - 3\\end{matrix}\\right]$"
      ],
      "text/plain": [
       "Matrix([\n",
       "[x**2 + y - 37],\n",
       "[ x - y**2 - 5],\n",
       "[x + y + z - 3]])"
      ]
     },
     "metadata": {},
     "output_type": "display_data"
    }
   ],
   "source": [
    "#Declaramos los simbolos que usaremos para las ecuaciónes.\n",
    "\n",
    "x,y,z = symbols('x y z')\n",
    "\n",
    "#Estamos insertando las funciones con las que trabajaremos, notar que puede haber simplificaciones.\n",
    "\n",
    "funcion_original_1 = x**2+y-37\n",
    "funcion_original_2 = x-y**2-5\n",
    "funcion_original_3 = x+y+z-3\n",
    "\n",
    "#Creamos nuestra matrix de las funciones insertadas\n",
    "\n",
    "matriz_funciones = Matrix([funcion_original_1, funcion_original_2, funcion_original_3])\n",
    "\n",
    "#matriz_funciones = Matrix([funcion_original_1, funcion_original_2])\n",
    "\n",
    "\n",
    "#Imprimimos las funciones insertadas para asegurarnos.\n",
    "\n",
    "print(\"Esta es la primer ecuación original: \\n\")\n",
    "disp.display(funcion_original_1)\n",
    "\n",
    "print(\"\\n\\nEsta es la segunda ecuación original: \\n\")\n",
    "disp.display(funcion_original_2)\n",
    "\n",
    "print(\"\\n\\nEsta es la tercer ecuación original: \\n\")\n",
    "disp.display(funcion_original_3)\n",
    "\n",
    "print(\"\\n\\nEsta es la matrix de nuestras ecuaciones: \\n\")\n",
    "display(matriz_funciones)"
   ]
  },
  {
   "cell_type": "markdown",
   "id": "individual-swing",
   "metadata": {},
   "source": [
    "Una vez insertadas nuestras ecuaciones construimos nuestra matriz jacobiana dada por las derivadas parciales de las ecuaciones."
   ]
  },
  {
   "cell_type": "code",
   "execution_count": 3,
   "id": "removable-picture",
   "metadata": {},
   "outputs": [
    {
     "data": {
      "text/latex": [
       "$\\displaystyle \\left[\\begin{matrix}x^{2} + y - 37\\\\x - y^{2} - 5\\\\x + y + z - 3\\end{matrix}\\right]$"
      ],
      "text/plain": [
       "Matrix([\n",
       "[x**2 + y - 37],\n",
       "[ x - y**2 - 5],\n",
       "[x + y + z - 3]])"
      ]
     },
     "metadata": {},
     "output_type": "display_data"
    },
    {
     "name": "stdout",
     "output_type": "stream",
     "text": [
      "\n",
      "\n",
      "\n"
     ]
    },
    {
     "data": {
      "text/latex": [
       "$\\displaystyle \\left[\\begin{matrix}2 x & 1 & 0\\\\1 & - 2 y & 0\\\\1 & 1 & 1\\end{matrix}\\right]$"
      ],
      "text/plain": [
       "Matrix([\n",
       "[2*x,    1, 0],\n",
       "[  1, -2*y, 0],\n",
       "[  1,    1, 1]])"
      ]
     },
     "metadata": {},
     "output_type": "display_data"
    }
   ],
   "source": [
    "#Transformamos nuestras ecuaciones en una matrix\n",
    "\n",
    "display(matriz_funciones)\n",
    "\n",
    "print(\"\\n\\n\")\n",
    "\n",
    "#Obtenemos la jacobiana de la matriz con respecto a los simbolos x,y,z\n",
    "\n",
    "jacobiano = matriz_funciones.jacobian([x, y, z])\n",
    "\n",
    "#jacobiano = matriz_funciones.jacobian([x, y])\n",
    "\n",
    "display(jacobiano)"
   ]
  },
  {
   "cell_type": "markdown",
   "id": "average-morris",
   "metadata": {},
   "source": [
    "Ahora empezamos el proceso, para realizarlo evitaremos sacar la inversa del jacobiano directamente, en su ugar evaluaremos primero, a continuación detallaremos el proceso que realizamos de manera que sea más sencillo su entendimiento:\n",
    "\n",
    "+ Calculamos el jacobiano evaluado en el punto xi, yi, zi y obtenemos su inversa.\n",
    "+ Calculamos la matrix de ecuaciones en el punto xi, yi, zi.\n",
    "+ Multiplicamos las dos matrices anteriores.\n",
    "+ El nuevo punto sera la resta del punto anterior menos la multiplicación anterior.\n"
   ]
  },
  {
   "cell_type": "code",
   "execution_count": 5,
   "id": "stuck-affair",
   "metadata": {},
   "outputs": [
    {
     "data": {
      "text/html": [
       "<div>\n",
       "<style scoped>\n",
       "    .dataframe tbody tr th:only-of-type {\n",
       "        vertical-align: middle;\n",
       "    }\n",
       "\n",
       "    .dataframe tbody tr th {\n",
       "        vertical-align: top;\n",
       "    }\n",
       "\n",
       "    .dataframe thead th {\n",
       "        text-align: right;\n",
       "    }\n",
       "</style>\n",
       "<table border=\"1\" class=\"dataframe\">\n",
       "  <thead>\n",
       "    <tr style=\"text-align: right;\">\n",
       "      <th></th>\n",
       "      <th>f1_original</th>\n",
       "      <th>f2_original</th>\n",
       "      <th>f3_original</th>\n",
       "      <th>xi</th>\n",
       "      <th>yi</th>\n",
       "      <th>zi</th>\n",
       "    </tr>\n",
       "  </thead>\n",
       "  <tbody>\n",
       "    <tr>\n",
       "      <th>0</th>\n",
       "      <td>2.500000e+01</td>\n",
       "      <td>-1.369000e+03</td>\n",
       "      <td>0.000000e+00</td>\n",
       "      <td>5.00000000000000</td>\n",
       "      <td>37.0000000000000</td>\n",
       "      <td>-39.0000000000000</td>\n",
       "    </tr>\n",
       "    <tr>\n",
       "      <th>1</th>\n",
       "      <td>4.213604e-01</td>\n",
       "      <td>-3.425746e+02</td>\n",
       "      <td>-3.552714e-15</td>\n",
       "      <td>4.35087719298246</td>\n",
       "      <td>18.4912280701754</td>\n",
       "      <td>-19.8421052631579</td>\n",
       "    </tr>\n",
       "    <tr>\n",
       "      <th>2</th>\n",
       "      <td>1.026062e+00</td>\n",
       "      <td>-8.529956e+01</td>\n",
       "      <td>1.776357e-15</td>\n",
       "      <td>5.36382417757925</td>\n",
       "      <td>9.25545178561999</td>\n",
       "      <td>-11.6192759631992</td>\n",
       "    </tr>\n",
       "    <tr>\n",
       "      <th>3</th>\n",
       "      <td>1.103777e-01</td>\n",
       "      <td>-2.106923e+01</td>\n",
       "      <td>1.776357e-15</td>\n",
       "      <td>5.69605559648847</td>\n",
       "      <td>4.66532835742279</td>\n",
       "      <td>-7.36138395391126</td>\n",
       "    </tr>\n",
       "    <tr>\n",
       "      <th>4</th>\n",
       "      <td>3.488194e-02</td>\n",
       "      <td>-5.008863e+00</td>\n",
       "      <td>0.000000e+00</td>\n",
       "      <td>5.88282266281130</td>\n",
       "      <td>2.42727945497664</td>\n",
       "      <td>-5.31010211778794</td>\n",
       "    </tr>\n",
       "    <tr>\n",
       "      <th>5</th>\n",
       "      <td>6.934244e-03</td>\n",
       "      <td>-1.029478e+00</td>\n",
       "      <td>0.000000e+00</td>\n",
       "      <td>5.96609476810914</td>\n",
       "      <td>1.41264746146151</td>\n",
       "      <td>-4.37874222957064</td>\n",
       "    </tr>\n",
       "    <tr>\n",
       "      <th>6</th>\n",
       "      <td>8.464226e-04</td>\n",
       "      <td>-1.253737e-01</td>\n",
       "      <td>0.000000e+00</td>\n",
       "      <td>5.99518811111823</td>\n",
       "      <td>1.05856593491403</td>\n",
       "      <td>-4.05375404603227</td>\n",
       "    </tr>\n",
       "    <tr>\n",
       "      <th>7</th>\n",
       "      <td>2.193752e-05</td>\n",
       "      <td>-3.249725e-03</td>\n",
       "      <td>-8.881784e-16</td>\n",
       "      <td>5.99987186198696</td>\n",
       "      <td>1.00155957725939</td>\n",
       "      <td>-4.00143143924634</td>\n",
       "    </tr>\n",
       "    <tr>\n",
       "      <th>8</th>\n",
       "      <td>1.639480e-08</td>\n",
       "      <td>-2.428644e-06</td>\n",
       "      <td>8.881784e-16</td>\n",
       "      <td>5.99999990416586</td>\n",
       "      <td>1.00000116640445</td>\n",
       "      <td>-4.00000107057031</td>\n",
       "    </tr>\n",
       "    <tr>\n",
       "      <th>9</th>\n",
       "      <td>6.661338e-15</td>\n",
       "      <td>-1.360689e-12</td>\n",
       "      <td>-1.776357e-15</td>\n",
       "      <td>5.99999999999995</td>\n",
       "      <td>1.00000000000065</td>\n",
       "      <td>-4.00000000000060</td>\n",
       "    </tr>\n",
       "  </tbody>\n",
       "</table>\n",
       "</div>"
      ],
      "text/plain": [
       "    f1_original   f2_original   f3_original                xi  \\\n",
       "0  2.500000e+01 -1.369000e+03  0.000000e+00  5.00000000000000   \n",
       "1  4.213604e-01 -3.425746e+02 -3.552714e-15  4.35087719298246   \n",
       "2  1.026062e+00 -8.529956e+01  1.776357e-15  5.36382417757925   \n",
       "3  1.103777e-01 -2.106923e+01  1.776357e-15  5.69605559648847   \n",
       "4  3.488194e-02 -5.008863e+00  0.000000e+00  5.88282266281130   \n",
       "5  6.934244e-03 -1.029478e+00  0.000000e+00  5.96609476810914   \n",
       "6  8.464226e-04 -1.253737e-01  0.000000e+00  5.99518811111823   \n",
       "7  2.193752e-05 -3.249725e-03 -8.881784e-16  5.99987186198696   \n",
       "8  1.639480e-08 -2.428644e-06  8.881784e-16  5.99999990416586   \n",
       "9  6.661338e-15 -1.360689e-12 -1.776357e-15  5.99999999999995   \n",
       "\n",
       "                 yi                 zi  \n",
       "0  37.0000000000000  -39.0000000000000  \n",
       "1  18.4912280701754  -19.8421052631579  \n",
       "2  9.25545178561999  -11.6192759631992  \n",
       "3  4.66532835742279  -7.36138395391126  \n",
       "4  2.42727945497664  -5.31010211778794  \n",
       "5  1.41264746146151  -4.37874222957064  \n",
       "6  1.05856593491403  -4.05375404603227  \n",
       "7  1.00155957725939  -4.00143143924634  \n",
       "8  1.00000116640445  -4.00000107057031  \n",
       "9  1.00000000000065  -4.00000000000060  "
      ]
     },
     "metadata": {},
     "output_type": "display_data"
    },
    {
     "name": "stdout",
     "output_type": "stream",
     "text": [
      "\n",
      "\n",
      "Entonces aqui tenemos las soluciones presentadas en forma tabular.\n"
     ]
    }
   ],
   "source": [
    "# Declaramos nuestro punto inicial y las iteraciones maximas a realizar\n",
    "\n",
    "iteraciones_maximas = 10\n",
    "iteraciones = 0\n",
    "\n",
    "x_i= 0\n",
    "y_i= 0\n",
    "z_i= 0\n",
    "\n",
    "\n",
    "#Data Frame donde guardaremos los resultados.\n",
    "df = pd.DataFrame()\n",
    "\n",
    "#Proceso que se repetira hasta igualar el numero de iteraciones necesarias.\n",
    "while iteraciones < iteraciones_maximas:\n",
    "    \n",
    "    jacobiano_evaluado = jacobiano.subs({x:x_i,y:y_i,z:z_i})#Evaluamos el jacobiano en el punto dado.\n",
    "    \n",
    "    jacobiano_evaluado_inverso = jacobiano_evaluado**-1 #Obtenemos la inversa del jacobiano evaluado.\n",
    "    matriz_funciones_evaluado = matriz_funciones.subs({x:x_i,y:y_i,z:z_i}) #Obtenemos nuestras ecuaciones evaluadas.\n",
    "    \n",
    "    solucion_sistema = jacobiano_evaluado_inverso * matriz_funciones_evaluado #Resolvemos el sistema de ecuaciones.\n",
    "    \n",
    "    matriz_solucion = Matrix([x_i, y_i, z_i]) #Convertimos a matriz nuestras soluciones\n",
    "    \n",
    "    nueva_solucion_matriz = matriz_solucion - solucion_sistema #Resolvemos las ultimas operaciones para dar el nuevo punto\n",
    "    \n",
    "    #Esta sera la nueva solucion de la matriz la cual estamos asignando de nuevo a las variables para repetir el proceso\n",
    "    \n",
    "    #Hay que notar que estamos convirtiendo los numeros a flotantes de nuevo para que sea mas facil trabajar con ellos y rápido.\n",
    "    \n",
    "    x_i = float(nueva_solucion_matriz[0,0])\n",
    "    y_i = float(nueva_solucion_matriz[1,0])\n",
    "    z_i = float(nueva_solucion_matriz[2,0])\n",
    "\n",
    "    #Solo estamos agregando datos a nuestro data frame\n",
    "    \n",
    "    df = df.append({\n",
    "            'xi':nueva_solucion_matriz[0,0].evalf(),\n",
    "            'yi':nueva_solucion_matriz[1,0].evalf(),\n",
    "            'zi':nueva_solucion_matriz[2,0].evalf(),\n",
    "            'f1_original':float(funcion_original_1.subs({x:x_i,y:y_i,z:z_i})), #Se evalua la funcion 1 original en el punto dado\n",
    "            'f2_original':float(funcion_original_2.subs({x:x_i,y:y_i,z:z_i})), #Se evalua la funcion 2 original en el punto dado\n",
    "            'f3_original':float(funcion_original_3.subs({x:x_i,y:y_i,z:z_i}))}, #Se evalua la funcion 3 original en el punto dado\n",
    "            ignore_index=True #Ignorar este parametro.\n",
    "             )\n",
    "    \n",
    "    iteraciones +=1\n",
    "    \n",
    "display(df)\n",
    "\n",
    "print(\"\\n\\nEntonces aqui tenemos las soluciones presentadas en forma tabular.\")"
   ]
  }
 ],
 "metadata": {
  "kernelspec": {
   "display_name": "Redes",
   "language": "python",
   "name": "redes"
  },
  "language_info": {
   "codemirror_mode": {
    "name": "ipython",
    "version": 3
   },
   "file_extension": ".py",
   "mimetype": "text/x-python",
   "name": "python",
   "nbconvert_exporter": "python",
   "pygments_lexer": "ipython3",
   "version": "3.9.4"
  }
 },
 "nbformat": 4,
 "nbformat_minor": 5
}
