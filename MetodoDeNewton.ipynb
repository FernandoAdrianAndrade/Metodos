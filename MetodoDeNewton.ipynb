{
 "cells": [
  {
   "cell_type": "markdown",
   "id": "broadband-arlington",
   "metadata": {},
   "source": [
    "# Método de Newton para sistemas de ecuaciones no lineales.\n",
    "\n",
    "## Andrade Vidal Fernando Adrian\n",
    "\n",
    "### ¿Qué es el metodo de Newton?\n",
    "\n",
    "El metodo de Newton es util para encontrar soluciones de ecuaciones en sistemas lineales o no lineales, se diferencia del metodo del punto fijo ya que es más rapido su convergencia.\n",
    "\n",
    "#### Características:\n",
    "\n",
    "+ Es necesario que las funciones sean continuas en el intervalo de su solución.\n",
    "+ Este metodo se desarrolla apartir de las series de Taylor.\n",
    "\n",
    "El presente cuadernillo proporcionara paso a paso la solución de un sistema de ecuaciones no lineales, aunque puede ser modificado para acoplarlo a tus necesidades."
   ]
  },
  {
   "cell_type": "code",
   "execution_count": null,
   "id": "complete-running",
   "metadata": {},
   "outputs": [],
   "source": []
  }
 ],
 "metadata": {
  "kernelspec": {
   "display_name": "Python 3",
   "language": "python",
   "name": "python3"
  },
  "language_info": {
   "codemirror_mode": {
    "name": "ipython",
    "version": 3
   },
   "file_extension": ".py",
   "mimetype": "text/x-python",
   "name": "python",
   "nbconvert_exporter": "python",
   "pygments_lexer": "ipython3",
   "version": "3.9.2"
  }
 },
 "nbformat": 4,
 "nbformat_minor": 5
}
