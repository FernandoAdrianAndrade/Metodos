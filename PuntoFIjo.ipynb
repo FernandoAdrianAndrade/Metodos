{
 "cells": [
  {
   "cell_type": "markdown",
   "metadata": {},
   "source": [
    "# Método del punto fijo.\n",
    "\n",
    "## Andrade Vidal Fernando Adrian.\n",
    "\n",
    "### ¿Qué es el método del punto fijo?\n",
    "\n",
    "El método del punto fijo es util para poder encontrar soluciones a sistemas de ecuaciones que pueden o no ser no lineales.\n",
    "\n",
    "#### Características:\n",
    "\n",
    "+ Para poder usar el método es necesario contar con una buena aproximación a su solución.\n",
    "+ Es necesario que las ecuaciones sean continuas.\n",
    "+ Este método tiene una convergencia lenta(lineal).\n",
    "\n",
    "El presente cuadernillo proporcionara paso a paso la solución de un sistema de ecuaciones no lineales, aunque puede ser modificado para acoplarlo a tus necesidades."
   ]
  },
  {
   "cell_type": "code",
   "execution_count": 2,
   "metadata": {},
   "outputs": [],
   "source": [
    "from sympy import * #Usaremos SymPy para computo simbólico.\n",
    "\n",
    "import pandas as pd #Usaremos Pandas para crear y manejar data frames donde registraremos los datos.\n",
    "\n",
    "import IPython.display as disp #Usaremos el display para visualizar ecuaciones."
   ]
  },
  {
   "cell_type": "markdown",
   "metadata": {},
   "source": [
    "Estableceremos 3 variables, aunque se pueden añadir más en esta declaración de variables."
   ]
  },
  {
   "cell_type": "code",
   "execution_count": 3,
   "metadata": {},
   "outputs": [
    {
     "name": "stdout",
     "output_type": "stream",
     "text": [
      "Esta es la primer ecuación original: \n",
      "\n"
     ]
    },
    {
     "data": {
      "text/latex": [
       "$\\displaystyle - x \\left(x + 1\\right) + 2 y - 18$"
      ],
      "text/plain": [
       "-x*(x + 1) + 2*y - 18"
      ]
     },
     "metadata": {},
     "output_type": "display_data"
    },
    {
     "name": "stdout",
     "output_type": "stream",
     "text": [
      "\n",
      "\n",
      "Esta es la segunda ecuación original: \n",
      "\n"
     ]
    },
    {
     "data": {
      "text/latex": [
       "$\\displaystyle x + \\left(y - 6\\right)^{2} - 26$"
      ],
      "text/plain": [
       "x + (y - 6)**2 - 26"
      ]
     },
     "metadata": {},
     "output_type": "display_data"
    },
    {
     "name": "stdout",
     "output_type": "stream",
     "text": [
      "\n",
      "\n",
      "Este es el despeje de la primer ecuación que se usara:\n",
      "\n"
     ]
    },
    {
     "data": {
      "text/latex": [
       "$\\displaystyle \\frac{2 y - 18}{- x - 1}$"
      ],
      "text/plain": [
       "(2*y - 18)/(-x - 1)"
      ]
     },
     "metadata": {},
     "output_type": "display_data"
    },
    {
     "name": "stdout",
     "output_type": "stream",
     "text": [
      "\n",
      "\n",
      "Este es el despeje de la segunda ecuación que se usara:\n",
      "\n"
     ]
    },
    {
     "data": {
      "text/latex": [
       "$\\displaystyle \\left(- x + 12 y - 10\\right)^{0.5}$"
      ],
      "text/plain": [
       "(-x + 12*y - 10)**0.5"
      ]
     },
     "metadata": {},
     "output_type": "display_data"
    }
   ],
   "source": [
    "x,y,z = symbols('x y z')#Declaramos los simbolos que usaremos para las ecuaciónes\n",
    "\n",
    "funcion_original_1 = -x*(x+1)+2*y-18  #Primer ecuación original\n",
    "funcion_original_2 = (x-1)+((y-6)**2)-25  #Segunda ecuación original\n",
    "\n",
    "funcion_1 = (2*y-18)/(-x-1)   #Primer ecuación con x despejada\n",
    "funcion_2 = (12*y-10-x)**(1/2) #Segunda ecuación con y despejada\n",
    "\n",
    "print(\"Esta es la primer ecuación original: \\n\")\n",
    "disp.display(funcion_original_1)\n",
    "print(\"\\n\\nEsta es la segunda ecuación original: \\n\")\n",
    "disp.display(funcion_original_2)\n",
    "print(\"\\n\\nEste es el despeje de la primer ecuación que se usara:\\n\")\n",
    "disp.display(funcion_1)\n",
    "print(\"\\n\\nEste es el despeje de la segunda ecuación que se usara:\\n\")\n",
    "disp.display(funcion_2)\n",
    "\n"
   ]
  },
  {
   "cell_type": "markdown",
   "metadata": {},
   "source": [
    "Ahora aqui pediremos el punto inicial donde se evaluaran las expresiones y el número máximo de iteraciones, realizaremos evaluaciones cambiando las variables en que se estan evaluando iterativamente pero solo despues de evaluarlos y el proceso se repetira hasta que alcanzemos el número máximo de iteraciones."
   ]
  },
  {
   "cell_type": "code",
   "execution_count": 26,
   "metadata": {
    "scrolled": true
   },
   "outputs": [
    {
     "name": "stdout",
     "output_type": "stream",
     "text": [
      "-2\n"
     ]
    },
    {
     "data": {
      "text/html": [
       "<div>\n",
       "<style scoped>\n",
       "    .dataframe tbody tr th:only-of-type {\n",
       "        vertical-align: middle;\n",
       "    }\n",
       "\n",
       "    .dataframe tbody tr th {\n",
       "        vertical-align: top;\n",
       "    }\n",
       "\n",
       "    .dataframe thead th {\n",
       "        text-align: right;\n",
       "    }\n",
       "</style>\n",
       "<table border=\"1\" class=\"dataframe\">\n",
       "  <thead>\n",
       "    <tr style=\"text-align: right;\">\n",
       "      <th></th>\n",
       "      <th>f1_original</th>\n",
       "      <th>f2_original</th>\n",
       "      <th>g1_xi</th>\n",
       "      <th>g2_yi</th>\n",
       "      <th>xi-1</th>\n",
       "      <th>yi-1</th>\n",
       "    </tr>\n",
       "  </thead>\n",
       "  <tbody>\n",
       "    <tr>\n",
       "      <th>0</th>\n",
       "      <td>2</td>\n",
       "      <td>0</td>\n",
       "      <td>-2</td>\n",
       "      <td>11.0000000000000</td>\n",
       "      <td>1.0</td>\n",
       "      <td>11.0</td>\n",
       "    </tr>\n",
       "    <tr>\n",
       "      <th>1</th>\n",
       "      <td>2.00000000000000</td>\n",
       "      <td>-3.00000000000000</td>\n",
       "      <td>4.00000000000000</td>\n",
       "      <td>11.1355287256600</td>\n",
       "      <td>-2</td>\n",
       "      <td>11.0000000000000</td>\n",
       "    </tr>\n",
       "    <tr>\n",
       "      <th>2</th>\n",
       "      <td>-15.7289425486799</td>\n",
       "      <td>4.37365529207947</td>\n",
       "      <td>-0.854211490264018</td>\n",
       "      <td>10.9373829003067</td>\n",
       "      <td>4.00000000000000</td>\n",
       "      <td>11.1355287256600</td>\n",
       "    </tr>\n",
       "    <tr>\n",
       "      <th>3</th>\n",
       "      <td>3.99930002077826</td>\n",
       "      <td>-2.47646158602342</td>\n",
       "      <td>-26.5779916924206</td>\n",
       "      <td>11.0500138594458</td>\n",
       "      <td>-0.854211490264018</td>\n",
       "      <td>10.9373829003067</td>\n",
       "    </tr>\n",
       "    <tr>\n",
       "      <th>4</th>\n",
       "      <td>-675.711622991065</td>\n",
       "      <td>-27.0753517118261</td>\n",
       "      <td>0.160295138421931</td>\n",
       "      <td>12.2138510718680</td>\n",
       "      <td>-26.5779916924206</td>\n",
       "      <td>11.0500138594458</td>\n",
       "    </tr>\n",
       "    <tr>\n",
       "      <th>5</th>\n",
       "      <td>6.24171247391228</td>\n",
       "      <td>12.7722402817765</td>\n",
       "      <td>-5.53971307031241</td>\n",
       "      <td>11.6792944018033</td>\n",
       "      <td>0.160295138421931</td>\n",
       "      <td>12.2138510718680</td>\n",
       "    </tr>\n",
       "    <tr>\n",
       "      <th>6</th>\n",
       "      <td>-19.7901190274711</td>\n",
       "      <td>0.714671832041699</td>\n",
       "      <td>1.18038050436474</td>\n",
       "      <td>11.6486585447403</td>\n",
       "      <td>-5.53971307031241</td>\n",
       "      <td>11.6792944018033</td>\n",
       "    </tr>\n",
       "    <tr>\n",
       "      <th>7</th>\n",
       "      <td>2.72363845003155</td>\n",
       "      <td>7.08772385943263</td>\n",
       "      <td>-2.42953790812033</td>\n",
       "      <td>11.3403492905871</td>\n",
       "      <td>1.18038050436474</td>\n",
       "      <td>11.6486585447403</td>\n",
       "    </tr>\n",
       "    <tr>\n",
       "      <th>8</th>\n",
       "      <td>1.20758204230082</td>\n",
       "      <td>0.0897926373537139</td>\n",
       "      <td>3.27427384372671</td>\n",
       "      <td>11.3363896102404</td>\n",
       "      <td>-2.42953790812033</td>\n",
       "      <td>11.3403492905871</td>\n",
       "    </tr>\n",
       "    <tr>\n",
       "      <th>9</th>\n",
       "      <td>-9.32236382695890</td>\n",
       "      <td>5.75132791600788</td>\n",
       "      <td>-1.09323346873034</td>\n",
       "      <td>11.0798195598646</td>\n",
       "      <td>3.27427384372671</td>\n",
       "      <td>11.3363896102404</td>\n",
       "    </tr>\n",
       "    <tr>\n",
       "      <th>10</th>\n",
       "      <td>4.05771317130731</td>\n",
       "      <td>-1.28866670794767</td>\n",
       "      <td>44.6152993809577</td>\n",
       "      <td>11.1378215189105</td>\n",
       "      <td>-1.09323346873034</td>\n",
       "      <td>11.0798195598646</td>\n",
       "    </tr>\n",
       "    <tr>\n",
       "      <th>11</th>\n",
       "      <td>-2030.86459519562</td>\n",
       "      <td>45.0125093411372</td>\n",
       "      <td>-0.0937326532072665</td>\n",
       "      <td>8.89036325725602</td>\n",
       "      <td>44.6152993809577</td>\n",
       "      <td>11.1378215189105</td>\n",
       "    </tr>\n",
       "    <tr>\n",
       "      <th>12</th>\n",
       "      <td>-0.134326642557962</td>\n",
       "      <td>-17.7395328943116</td>\n",
       "      <td>0.241952318224815</td>\n",
       "      <td>9.83758566622317</td>\n",
       "      <td>-0.0937326532072665</td>\n",
       "      <td>8.89036325725602</td>\n",
       "    </tr>\n",
       "    <tr>\n",
       "      <th>13</th>\n",
       "      <td>1.37467808992716</td>\n",
       "      <td>-11.0309839361737</td>\n",
       "      <td>-1.34882097151745</td>\n",
       "      <td>10.3831149312937</td>\n",
       "      <td>0.241952318224815</td>\n",
       "      <td>9.83758566622317</td>\n",
       "    </tr>\n",
       "    <tr>\n",
       "      <th>14</th>\n",
       "      <td>2.29573282089948</td>\n",
       "      <td>-8.13712447058808</td>\n",
       "      <td>7.93022807818463</td>\n",
       "      <td>10.7678317291385</td>\n",
       "      <td>-1.34882097151745</td>\n",
       "      <td>10.3831149312937</td>\n",
       "    </tr>\n",
       "    <tr>\n",
       "      <th>15</th>\n",
       "      <td>-67.2830819919356</td>\n",
       "      <td>4.66244747556421</td>\n",
       "      <td>-0.395920846289930</td>\n",
       "      <td>10.5491114636010</td>\n",
       "      <td>7.93022807818463</td>\n",
       "      <td>10.7678317291385</td>\n",
       "    </tr>\n",
       "    <tr>\n",
       "      <th>16</th>\n",
       "      <td>3.33739045696490</td>\n",
       "      <td>-5.70150573802432</td>\n",
       "      <td>-5.12883602781782</td>\n",
       "      <td>10.8159723746643</td>\n",
       "      <td>-0.395920846289930</td>\n",
       "      <td>10.5491114636010</td>\n",
       "    </tr>\n",
       "    <tr>\n",
       "      <th>17</th>\n",
       "      <td>-17.5441782230956</td>\n",
       "      <td>-7.93524611428811</td>\n",
       "      <td>0.879653424078497</td>\n",
       "      <td>11.1767841763089</td>\n",
       "      <td>-5.12883602781782</td>\n",
       "      <td>10.8159723746643</td>\n",
       "    </tr>\n",
       "    <tr>\n",
       "      <th>18</th>\n",
       "      <td>2.70012478204631</td>\n",
       "      <td>1.67874783216089</td>\n",
       "      <td>-2.31615482771893</td>\n",
       "      <td>11.1014303894421</td>\n",
       "      <td>0.879653424078497</td>\n",
       "      <td>11.1767841763089</td>\n",
       "    </tr>\n",
       "    <tr>\n",
       "      <th>19</th>\n",
       "      <td>1.15444242063741</td>\n",
       "      <td>-2.29156280939559</td>\n",
       "      <td>3.19328751478904</td>\n",
       "      <td>11.2041652746210</td>\n",
       "      <td>-2.31615482771893</td>\n",
       "      <td>11.1014303894421</td>\n",
       "    </tr>\n",
       "    <tr>\n",
       "      <th>20</th>\n",
       "      <td>-8.98204211765455</td>\n",
       "      <td>4.27662372036059</td>\n",
       "      <td>-1.05128268302486</td>\n",
       "      <td>11.0116618083132</td>\n",
       "      <td>3.19328751478904</td>\n",
       "      <td>11.2041652746210</td>\n",
       "    </tr>\n",
       "  </tbody>\n",
       "</table>\n",
       "</div>"
      ],
      "text/plain": [
       "           f1_original         f2_original                g1_xi  \\\n",
       "0                    2                   0                   -2   \n",
       "1     2.00000000000000   -3.00000000000000     4.00000000000000   \n",
       "2    -15.7289425486799    4.37365529207947   -0.854211490264018   \n",
       "3     3.99930002077826   -2.47646158602342    -26.5779916924206   \n",
       "4    -675.711622991065   -27.0753517118261    0.160295138421931   \n",
       "5     6.24171247391228    12.7722402817765    -5.53971307031241   \n",
       "6    -19.7901190274711   0.714671832041699     1.18038050436474   \n",
       "7     2.72363845003155    7.08772385943263    -2.42953790812033   \n",
       "8     1.20758204230082  0.0897926373537139     3.27427384372671   \n",
       "9    -9.32236382695890    5.75132791600788    -1.09323346873034   \n",
       "10    4.05771317130731   -1.28866670794767     44.6152993809577   \n",
       "11   -2030.86459519562    45.0125093411372  -0.0937326532072665   \n",
       "12  -0.134326642557962   -17.7395328943116    0.241952318224815   \n",
       "13    1.37467808992716   -11.0309839361737    -1.34882097151745   \n",
       "14    2.29573282089948   -8.13712447058808     7.93022807818463   \n",
       "15   -67.2830819919356    4.66244747556421   -0.395920846289930   \n",
       "16    3.33739045696490   -5.70150573802432    -5.12883602781782   \n",
       "17   -17.5441782230956   -7.93524611428811    0.879653424078497   \n",
       "18    2.70012478204631    1.67874783216089    -2.31615482771893   \n",
       "19    1.15444242063741   -2.29156280939559     3.19328751478904   \n",
       "20   -8.98204211765455    4.27662372036059    -1.05128268302486   \n",
       "\n",
       "               g2_yi                 xi-1              yi-1  \n",
       "0   11.0000000000000                  1.0              11.0  \n",
       "1   11.1355287256600                   -2  11.0000000000000  \n",
       "2   10.9373829003067     4.00000000000000  11.1355287256600  \n",
       "3   11.0500138594458   -0.854211490264018  10.9373829003067  \n",
       "4   12.2138510718680    -26.5779916924206  11.0500138594458  \n",
       "5   11.6792944018033    0.160295138421931  12.2138510718680  \n",
       "6   11.6486585447403    -5.53971307031241  11.6792944018033  \n",
       "7   11.3403492905871     1.18038050436474  11.6486585447403  \n",
       "8   11.3363896102404    -2.42953790812033  11.3403492905871  \n",
       "9   11.0798195598646     3.27427384372671  11.3363896102404  \n",
       "10  11.1378215189105    -1.09323346873034  11.0798195598646  \n",
       "11  8.89036325725602     44.6152993809577  11.1378215189105  \n",
       "12  9.83758566622317  -0.0937326532072665  8.89036325725602  \n",
       "13  10.3831149312937    0.241952318224815  9.83758566622317  \n",
       "14  10.7678317291385    -1.34882097151745  10.3831149312937  \n",
       "15  10.5491114636010     7.93022807818463  10.7678317291385  \n",
       "16  10.8159723746643   -0.395920846289930  10.5491114636010  \n",
       "17  11.1767841763089    -5.12883602781782  10.8159723746643  \n",
       "18  11.1014303894421    0.879653424078497  11.1767841763089  \n",
       "19  11.2041652746210    -2.31615482771893  11.1014303894421  \n",
       "20  11.0116618083132     3.19328751478904  11.2041652746210  "
      ]
     },
     "metadata": {},
     "output_type": "display_data"
    }
   ],
   "source": [
    "iteraciones_maximas = 20\n",
    "iteraciones = 0\n",
    "x_0 = 1\n",
    "y_0 = 11\n",
    "z_0 = 0\n",
    "\n",
    "\n",
    "df = pd.DataFrame()\n",
    "\n",
    "\n",
    "print(funcion_1.subs({x:x_0,y:y_0,z:z_0}))\n",
    "\n",
    "\n",
    "\n",
    "\n",
    "while iteraciones <= iteraciones_maximas:\n",
    "    \n",
    "    df = df.append({'f1_original':funcion_original_1.subs({x:x_0,y:y_0,z:z_0}), \n",
    "              'f2_original':funcion_original_2.subs({x:x_0,y:y_0,z:z_0}),\n",
    "              'xi-1':x_0,\n",
    "              'yi-1':y_0,\n",
    "              'g1_xi':funcion_1.subs({x:x_0,y:y_0,z:z_0}),\n",
    "              'g2_yi':funcion_2.subs({x:x_0,y:y_0,z:z_0})},\n",
    "              ignore_index=True\n",
    "             )\n",
    "    x_0temp = funcion_1.subs({x:x_0,y:y_0,z:z_0})\n",
    "    y_0temp = funcion_2.subs({x:x_0,y:y_0,z:z_0})\n",
    "    \n",
    "    x_0 = x_0temp\n",
    "    y_0 = y_0temp\n",
    "    \n",
    "    iteraciones+=1\n",
    "    \n",
    "\n",
    "display(df)\n",
    "    \n",
    "\n",
    "\n"
   ]
  },
  {
   "cell_type": "code",
   "execution_count": null,
   "metadata": {},
   "outputs": [],
   "source": []
  },
  {
   "cell_type": "code",
   "execution_count": null,
   "metadata": {},
   "outputs": [],
   "source": []
  }
 ],
 "metadata": {
  "kernelspec": {
   "display_name": "Python 3",
   "language": "python",
   "name": "python3"
  },
  "language_info": {
   "codemirror_mode": {
    "name": "ipython",
    "version": 3
   },
   "file_extension": ".py",
   "mimetype": "text/x-python",
   "name": "python",
   "nbconvert_exporter": "python",
   "pygments_lexer": "ipython3",
   "version": "3.8.5"
  }
 },
 "nbformat": 4,
 "nbformat_minor": 4
}
