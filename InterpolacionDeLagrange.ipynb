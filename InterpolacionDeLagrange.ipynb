{
 "cells": [
  {
   "cell_type": "markdown",
   "id": "widespread-canadian",
   "metadata": {},
   "source": [
    "# Método de Interpolación de Lagrange.\n",
    "## Andrade Vidal Fernando Adrian.\n",
    "\n",
    "### ¿Qué es la interpolación de Lagrange?\n",
    "\n",
    "Dado un conjunto de puntos podemos a travez de el encontrar un polinomio que los aproxime, es útil para poder dar una aproximación polinomial a funciones para encontrar datos no descritos entre los puntos dados anteriormente.\n",
    "\n",
    "#### Características:\n",
    "\n",
    "+ Mientras más puntos se usen el polinomio se volvera más complejo.\n",
    "+ Existe un único polinomio interpolador para un conjunto determinado conjunto de puntos.\n",
    "+ Se podría decir que a partir del grado 6 el polinomio deja de ser valido debido a sus oscilaciones.\n",
    "\n",
    "El presente cuadernillo presenta un ejemplo para aproximar una seríe de puntos aunque puede ser modificado para acoplarlo a tus necesidades."
   ]
  },
  {
   "cell_type": "code",
   "execution_count": 22,
   "id": "blind-departure",
   "metadata": {},
   "outputs": [],
   "source": [
    "import sympy as sym #Usaremos SymPy para computo simbólico.\n",
    "\n",
    "import numpy as np #Usaremos numpy para arreglos de números.\n",
    "\n",
    "import pandas as pd #Usaremos Pandas para crear y manejar data frames donde registraremos los datos.\n",
    "\n",
    "import IPython.display as disp #Usaremos el display para visualizar ecuaciones."
   ]
  },
  {
   "cell_type": "code",
   "execution_count": 29,
   "id": "simple-borough",
   "metadata": {},
   "outputs": [
    {
     "data": {
      "text/latex": [
       "$\\displaystyle 41.6666666666667 x^{3} - 27.5 x^{2} + 6.83333333333334 x + 1.0$"
      ],
      "text/plain": [
       "41.6666666666667*x**3 - 27.5*x**2 + 6.83333333333334*x + 1.0"
      ]
     },
     "metadata": {},
     "output_type": "display_data"
    }
   ],
   "source": [
    "# Aqui ingresaremos nuestros datos para construir el polinomio.\n",
    "\n",
    "xi = np.array([0, 0.2, 0.3, 0.4]) #Hace referencia a los valores de x.\n",
    "fi = np.array([1, 1.6, 1.7, 2.0]) #Hace referencia a los valores de f(x).\n",
    "\n",
    "n = len(xi) #Sera el grado de nuestro polinomio el tamaño del arreglo de los valores x.\n",
    "\n",
    "x = sym.Symbol('x') #Declaramos la letra 'x' como un simbolo de sympy.\n",
    "\n",
    "polinomio = 0 #Sera nuestro polinomio, solo lo inicializamos en 0.\n",
    "\n",
    "divisorL = np.zeros(n, dtype = float) #Solo es un nuevo arreglo inicializado con 0 de tipo flotante, donde guardaremos 'L'\n",
    "\n",
    "for i in range(0,n,1): #Empezando en 0 hastala longitud de n y de uno en uno:\n",
    "    numerador = 1 #Se inicializa el numerador\n",
    "    denominador = 1 #Se inicializa el denominador\n",
    "    for j  in range(0,n,1): #Para j en 0 hasta longitud de n y de uno en uno:\n",
    "        if (j!=i): #Si j es diferente a i para seguir la formula.\n",
    "            numerador = numerador*(x-xi[j]) #Numerador sera el numerador anterior por x - xj\n",
    "            denominador = denominador*(xi[i]-xi[j]) #Denominador es xi en i - xi en j\n",
    "    terminoLi = numerador/denominador #Es el termino Li sin simplificar.\n",
    "\n",
    "    polinomio = polinomio + terminoLi*fi[i] #Lo que teniamos antes de la iteracion mas el terminoLi correspondiente.\n",
    "    divisorL[i] = denominador\n",
    "    \n",
    "polisimple = polinomio.expand() #Realizamos la expansion del polinomio.\n",
    "\n",
    "\n",
    "disp.display(polisimple) #Imprimimos el polinomio en pantalla.\n",
    "\n"
   ]
  }
 ],
 "metadata": {
  "kernelspec": {
   "display_name": "Metodos",
   "language": "python",
   "name": "metodos"
  },
  "language_info": {
   "codemirror_mode": {
    "name": "ipython",
    "version": 3
   },
   "file_extension": ".py",
   "mimetype": "text/x-python",
   "name": "python",
   "nbconvert_exporter": "python",
   "pygments_lexer": "ipython3",
   "version": "3.9.2"
  }
 },
 "nbformat": 4,
 "nbformat_minor": 5
}
